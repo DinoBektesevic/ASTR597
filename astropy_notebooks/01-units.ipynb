{
 "cells": [
  {
   "cell_type": "markdown",
   "metadata": {},
   "source": [
    "# Units, Quantities, and Constants\n",
    "\n",
    "The [astropy.units](https://docs.astropy.org/en/stable/units/) sub-package in astropy provides a way to define units and quantities (values or arrays with a unit attached), as well as a way to convert between them. It supports advanced features such as equivalencies to convert between units that are not strictly equivalent (e.g. various spectral coordinates) as well as e.g. logarithmic units."
   ]
  },
  {
   "cell_type": "markdown",
   "metadata": {},
   "source": [
    "\n",
    "<section class=\"objectives panel panel-warning\">\n",
    "<div class=\"panel-heading\">\n",
    "<h2><span class=\"fa fa-certificate\"></span> Objectives</h2>\n",
    "</div>\n",
    "\n",
    "\n",
    "<div class=\"panel-body\">\n",
    "\n",
    "<ul>\n",
    "<li>Access units and create quantities</li>\n",
    "<li>Combine quantities together</li>\n",
    "<li>Convert quantities to different units</li>\n",
    "<li>Understand and use equivalencies</li>\n",
    "<li>Use logarithmic units</li>\n",
    "<li>Plot quantities with units</li>\n",
    "</ul>\n",
    "\n",
    "</div>\n",
    "\n",
    "</section>\n"
   ]
  },
  {
   "cell_type": "markdown",
   "metadata": {},
   "source": [
    "## Documentation\n",
    "\n",
    "This notebook only shows a subset of the functionality in astropy.units. For more information about the features presented below as well as other available features, you can read the\n",
    "[astropy.units documentation](https://docs.astropy.org/en/stable/units/)."
   ]
  },
  {
   "cell_type": "code",
   "execution_count": 1,
   "metadata": {},
   "outputs": [],
   "source": [
    "%matplotlib inline\n",
    "import matplotlib.pyplot as plt\n",
    "plt.rc('image', origin='lower')\n",
    "plt.rc('figure', figsize=(10, 6))"
   ]
  },
  {
   "cell_type": "markdown",
   "metadata": {},
   "source": [
    "## Representing units and quantities\n",
    "\n",
    "Astropy includes a framework that allows users to attach units to scalars and arrays, and manipulate/combine these, keeping track of the units.\n",
    "\n",
    "Since we may want to use a number of units in expressions, it is easiest and most concise to import the units module with:"
   ]
  },
  {
   "cell_type": "code",
   "execution_count": 2,
   "metadata": {},
   "outputs": [],
   "source": [
    "import astropy.units as u"
   ]
  },
  {
   "cell_type": "markdown",
   "metadata": {},
   "source": [
    "Units can then be accessed with:"
   ]
  },
  {
   "cell_type": "code",
   "execution_count": 3,
   "metadata": {},
   "outputs": [
    {
     "data": {
      "text/latex": [
       "$\\mathrm{m}$"
      ],
      "text/plain": [
       "Unit(\"m\")"
      ]
     },
     "execution_count": 3,
     "metadata": {},
     "output_type": "execute_result"
    }
   ],
   "source": [
    "u.m"
   ]
  },
  {
   "cell_type": "code",
   "execution_count": 4,
   "metadata": {},
   "outputs": [
    {
     "data": {
      "text/latex": [
       "$\\mathrm{pc}$"
      ],
      "text/plain": [
       "Unit(\"pc\")"
      ]
     },
     "execution_count": 4,
     "metadata": {},
     "output_type": "execute_result"
    }
   ],
   "source": [
    "u.pc"
   ]
  },
  {
   "cell_type": "code",
   "execution_count": 5,
   "metadata": {},
   "outputs": [
    {
     "data": {
      "text/latex": [
       "$\\mathrm{kg}$"
      ],
      "text/plain": [
       "Unit(\"kg\")"
      ]
     },
     "execution_count": 5,
     "metadata": {},
     "output_type": "execute_result"
    }
   ],
   "source": [
    "u.kg"
   ]
  },
  {
   "cell_type": "code",
   "execution_count": 6,
   "metadata": {},
   "outputs": [
    {
     "data": {
      "text/latex": [
       "$\\mathrm{s}$"
      ],
      "text/plain": [
       "Unit(\"s\")"
      ]
     },
     "execution_count": 6,
     "metadata": {},
     "output_type": "execute_result"
    }
   ],
   "source": [
    "u.s"
   ]
  },
  {
   "cell_type": "markdown",
   "metadata": {},
   "source": [
    "We can also create composite units:"
   ]
  },
  {
   "cell_type": "code",
   "execution_count": 7,
   "metadata": {},
   "outputs": [
    {
     "data": {
      "text/latex": [
       "$\\mathrm{\\frac{m}{kg\\,s^{2}}}$"
      ],
      "text/plain": [
       "Unit(\"m / (kg s2)\")"
      ]
     },
     "execution_count": 7,
     "metadata": {},
     "output_type": "execute_result"
    }
   ],
   "source": [
    "u.m / u.kg/u.s**2"
   ]
  },
  {
   "cell_type": "markdown",
   "metadata": {},
   "source": [
    "The most useful feature about the units is the ability to attach them to scalars or arrays, creating ``Quantity`` objects:"
   ]
  },
  {
   "cell_type": "code",
   "execution_count": 8,
   "metadata": {},
   "outputs": [],
   "source": [
    "time = 3 * u.Myr"
   ]
  },
  {
   "cell_type": "code",
   "execution_count": 9,
   "metadata": {},
   "outputs": [
    {
     "data": {
      "text/latex": [
       "$3 \\; \\mathrm{Myr}$"
      ],
      "text/plain": [
       "<Quantity 3. Myr>"
      ]
     },
     "execution_count": 9,
     "metadata": {},
     "output_type": "execute_result"
    }
   ],
   "source": [
    "time"
   ]
  },
  {
   "cell_type": "code",
   "execution_count": 10,
   "metadata": {},
   "outputs": [
    {
     "data": {
      "text/plain": [
       "astropy.units.quantity.Quantity"
      ]
     },
     "execution_count": 10,
     "metadata": {},
     "output_type": "execute_result"
    }
   ],
   "source": [
    "type(time)"
   ]
  },
  {
   "cell_type": "markdown",
   "metadata": {},
   "source": [
    "and we can use this with composite units:"
   ]
  },
  {
   "cell_type": "code",
   "execution_count": 14,
   "metadata": {},
   "outputs": [
    {
     "data": {
      "text/latex": [
       "$[2,~3,~4] \\; \\mathrm{kg}$"
      ],
      "text/plain": [
       "<Quantity [2., 3., 4.] kg>"
      ]
     },
     "execution_count": 14,
     "metadata": {},
     "output_type": "execute_result"
    }
   ],
   "source": [
    "weights = [2, 3, 4] * u.kg\n",
    "weights"
   ]
  },
  {
   "cell_type": "markdown",
   "metadata": {},
   "source": [
    "We can access the unit and the value of a quantity separately:"
   ]
  },
  {
   "cell_type": "code",
   "execution_count": 17,
   "metadata": {},
   "outputs": [
    {
     "data": {
      "text/latex": [
       "$[1.1,~1.2,~1.3] \\; \\mathrm{kpc}$"
      ],
      "text/plain": [
       "<Quantity [1.1, 1.2, 1.3] kpc>"
      ]
     },
     "execution_count": 17,
     "metadata": {},
     "output_type": "execute_result"
    }
   ],
   "source": [
    "import numpy as np\n",
    "distance = np.array([1.1, 1.2, 1.3]) * u.kpc\n",
    "distance"
   ]
  },
  {
   "cell_type": "code",
   "execution_count": 18,
   "metadata": {},
   "outputs": [
    {
     "data": {
      "text/latex": [
       "$75 \\; \\mathrm{\\frac{km}{Mpc\\,s}}$"
      ],
      "text/plain": [
       "<Quantity 75. km / (Mpc s)>"
      ]
     },
     "execution_count": 18,
     "metadata": {},
     "output_type": "execute_result"
    }
   ],
   "source": [
    "H0 = 75 * u.km / u.s / u.Mpc\n",
    "H0"
   ]
  },
  {
   "cell_type": "code",
   "execution_count": 19,
   "metadata": {},
   "outputs": [
    {
     "data": {
      "text/plain": [
       "75.0"
      ]
     },
     "execution_count": 19,
     "metadata": {},
     "output_type": "execute_result"
    }
   ],
   "source": [
    "H0.value"
   ]
  },
  {
   "cell_type": "code",
   "execution_count": 20,
   "metadata": {},
   "outputs": [
    {
     "data": {
      "text/latex": [
       "$\\mathrm{\\frac{km}{Mpc\\,s}}$"
      ],
      "text/plain": [
       "Unit(\"km / (Mpc s)\")"
      ]
     },
     "execution_count": 20,
     "metadata": {},
     "output_type": "execute_result"
    }
   ],
   "source": [
    "H0.unit"
   ]
  },
  {
   "cell_type": "markdown",
   "metadata": {},
   "source": [
    "Finally, note that 'imperial' units can be accessed using:"
   ]
  },
  {
   "cell_type": "code",
   "execution_count": 23,
   "metadata": {},
   "outputs": [
    {
     "data": {
      "text/latex": [
       "$\\mathrm{gallon}$"
      ],
      "text/plain": [
       "Unit(\"gallon\")"
      ]
     },
     "execution_count": 23,
     "metadata": {},
     "output_type": "execute_result"
    }
   ],
   "source": [
    "from astropy.units import imperial\n",
    "imperial.gallon"
   ]
  },
  {
   "cell_type": "markdown",
   "metadata": {},
   "source": [
    "## Combining and converting quantities\n",
    "\n",
    "Quantities can be combined via standard arithmetic - for example multiplication and division will result in the units being combined:"
   ]
  },
  {
   "cell_type": "code",
   "execution_count": 25,
   "metadata": {},
   "outputs": [
    {
     "data": {
      "text/latex": [
       "$[0.36666667,~0.4,~0.43333333] \\; \\mathrm{\\frac{kpc}{Myr}}$"
      ],
      "text/plain": [
       "<Quantity [0.36666667, 0.4       , 0.43333333] kpc / Myr>"
      ]
     },
     "execution_count": 25,
     "metadata": {},
     "output_type": "execute_result"
    }
   ],
   "source": [
    "speed = distance / time\n",
    "speed"
   ]
  },
  {
   "cell_type": "markdown",
   "metadata": {},
   "source": [
    "while addition and subtraction will work only if the units are compatible:"
   ]
  },
  {
   "cell_type": "code",
   "execution_count": 31,
   "metadata": {},
   "outputs": [
    {
     "data": {
      "text/latex": [
       "$0.29 \\; \\mathrm{Mpc}$"
      ],
      "text/plain": [
       "<Quantity 0.29 Mpc>"
      ]
     },
     "execution_count": 31,
     "metadata": {},
     "output_type": "execute_result"
    }
   ],
   "source": [
    "start_distance = 10 * u.kpc\n",
    "end_distance = 0.3 * u.Mpc\n",
    "end_distance - start_distance"
   ]
  },
  {
   "cell_type": "markdown",
   "metadata": {},
   "source": [
    "Quantities can be converted to different units using ``.to``:"
   ]
  },
  {
   "cell_type": "code",
   "execution_count": 33,
   "metadata": {},
   "outputs": [
    {
     "data": {
      "text/latex": [
       "$[1290685.7,~1408020.8,~1525355.9] \\; \\mathrm{\\frac{km}{h}}$"
      ],
      "text/plain": [
       "<Quantity [1290685.73261864, 1408020.79922034, 1525355.86582203] km / h>"
      ]
     },
     "execution_count": 33,
     "metadata": {},
     "output_type": "execute_result"
    }
   ],
   "source": [
    "speed.to(u.km/u.h)"
   ]
  },
  {
   "cell_type": "code",
   "execution_count": null,
   "metadata": {},
   "outputs": [],
   "source": []
  },
  {
   "cell_type": "markdown",
   "metadata": {},
   "source": [
    "There are also convenience attributes to convert quantities to e.g. SI and cgs units:"
   ]
  },
  {
   "cell_type": "code",
   "execution_count": 34,
   "metadata": {},
   "outputs": [
    {
     "data": {
      "text/latex": [
       "$[358523.81,~391116.89,~423709.96] \\; \\mathrm{\\frac{m}{s}}$"
      ],
      "text/plain": [
       "<Quantity [358523.81461629, 391116.88867232, 423709.96272834] m / s>"
      ]
     },
     "execution_count": 34,
     "metadata": {},
     "output_type": "execute_result"
    }
   ],
   "source": [
    "speed.si"
   ]
  },
  {
   "cell_type": "code",
   "execution_count": 35,
   "metadata": {},
   "outputs": [
    {
     "data": {
      "text/latex": [
       "$[35852381,~39111689,~42370996] \\; \\mathrm{\\frac{cm}{s}}$"
      ],
      "text/plain": [
       "<Quantity [35852381.46162894, 39111688.86723156, 42370996.2728342 ] cm / s>"
      ]
     },
     "execution_count": 35,
     "metadata": {},
     "output_type": "execute_result"
    }
   ],
   "source": [
    "speed.cgs"
   ]
  },
  {
   "cell_type": "markdown",
   "metadata": {},
   "source": [
    "Finally, by default units will not be simplified - but you can use the ``.decompose()`` method for this:"
   ]
  },
  {
   "cell_type": "code",
   "execution_count": 36,
   "metadata": {},
   "outputs": [
    {
     "data": {
      "text/latex": [
       "$[0.0048888889,~0.0053333333,~0.0057777778] \\; \\mathrm{\\frac{Mpc\\,kpc\\,s}{Myr\\,km}}$"
      ],
      "text/plain": [
       "<Quantity [0.00488889, 0.00533333, 0.00577778] kpc Mpc s / (km Myr)>"
      ]
     },
     "execution_count": 36,
     "metadata": {},
     "output_type": "execute_result"
    }
   ],
   "source": [
    "speed / H0 "
   ]
  },
  {
   "cell_type": "code",
   "execution_count": 37,
   "metadata": {},
   "outputs": [
    {
     "data": {
      "text/latex": [
       "$[1.4750519 \\times 10^{23},~1.6091475 \\times 10^{23},~1.7432431 \\times 10^{23}] \\; \\mathrm{m}$"
      ],
      "text/plain": [
       "<Quantity [1.47505186e+23, 1.60914749e+23, 1.74324311e+23] m>"
      ]
     },
     "execution_count": 37,
     "metadata": {},
     "output_type": "execute_result"
    }
   ],
   "source": [
    "( speed / H0).decompose()"
   ]
  },
  {
   "cell_type": "markdown",
   "metadata": {},
   "source": [
    "or you can convert directly to the desired unit:"
   ]
  },
  {
   "cell_type": "code",
   "execution_count": 39,
   "metadata": {},
   "outputs": [
    {
     "data": {
      "text/latex": [
       "$[4.7803175,~5.2148918,~5.6494662] \\; \\mathrm{Mpc}$"
      ],
      "text/plain": [
       "<Quantity [4.78031753, 5.21489185, 5.64946617] Mpc>"
      ]
     },
     "execution_count": 39,
     "metadata": {},
     "output_type": "execute_result"
    }
   ],
   "source": [
    "( speed / H0 ).to(u.Mpc)"
   ]
  },
  {
   "cell_type": "markdown",
   "metadata": {},
   "source": [
    "\n",
    "<section class=\"challenge panel panel-success\">\n",
    "<div class=\"panel-heading\">\n",
    "<h2><span class=\"fa fa-pencil\"></span> Challenge: Unit conversions</h2>\n",
    "</div>\n",
    "\n",
    "\n",
    "<div class=\"panel-body\">\n",
    "\n",
    "<ol>\n",
    "<li>Convert the speed above to miles/hour</li>\n",
    "<li>Calculate whether a pint is more than half litre.\n",
    "    <em>You can compare quantities as comparing variables.</em>\n",
    "    Notice something strange? Check what deffinition of <a href=\"https://en.wikipedia.org/wiki/Pint\">pint</a> astropy is using.</li>\n",
    "<li>Calculate the area of a rectangle of 3 km of side and 5 meter of width. Show this in $m^2$ and also convert it to yards$^2$</li>\n",
    "</ol>\n",
    "\n",
    "</div>\n",
    "\n",
    "</section>\n"
   ]
  },
  {
   "cell_type": "code",
   "execution_count": 41,
   "metadata": {},
   "outputs": [
    {
     "data": {
      "text/latex": [
       "$\\mathrm{pint}$"
      ],
      "text/plain": [
       "Unit(\"pint\")"
      ]
     },
     "execution_count": 41,
     "metadata": {},
     "output_type": "execute_result"
    }
   ],
   "source": [
    "imperial.pint"
   ]
  },
  {
   "cell_type": "markdown",
   "metadata": {},
   "source": [
    "## Composed units\n",
    "\n",
    "Many units are compositions of others, and you can create new combinations for ease of use:"
   ]
  },
  {
   "cell_type": "code",
   "execution_count": null,
   "metadata": {},
   "outputs": [],
   "source": []
  },
  {
   "cell_type": "code",
   "execution_count": null,
   "metadata": {},
   "outputs": [],
   "source": []
  },
  {
   "cell_type": "markdown",
   "metadata": {},
   "source": [
    "You can use the ``compose()`` unit to find other units that are equivalent:"
   ]
  },
  {
   "cell_type": "code",
   "execution_count": 42,
   "metadata": {},
   "outputs": [
    {
     "data": {
      "text/plain": [
       "[Unit(\"J\"), Unit(\"1e+07 erg\"), Unit(\"4.58742e+17 Ry\"), Unit(\"6.24151e+18 eV\")]"
      ]
     },
     "execution_count": 42,
     "metadata": {},
     "output_type": "execute_result"
    }
   ],
   "source": [
    "u.joule.compose()"
   ]
  },
  {
   "cell_type": "code",
   "execution_count": 43,
   "metadata": {},
   "outputs": [
    {
     "data": {
      "text/plain": [
       "[Unit(\"Hz\"), Unit(\"Bq\"), Unit(\"2.7027e-11 Ci\")]"
      ]
     },
     "execution_count": 43,
     "metadata": {},
     "output_type": "execute_result"
    }
   ],
   "source": [
    "(u.s ** -1 ).compose()"
   ]
  },
  {
   "cell_type": "markdown",
   "metadata": {},
   "source": [
    "You can also use ``find_equivalent_units`` to print a table with more information:"
   ]
  },
  {
   "cell_type": "code",
   "execution_count": 44,
   "metadata": {},
   "outputs": [
    {
     "data": {
      "text/html": [
       "<table style=\"width:50%\"><tr><th>Primary name</th><th>Unit definition</th><th>Aliases</th></tr><tr><td>AU</td><td>1.49598e+11 m</td><td>au, astronomical_unit</td></tr><tr><td>Angstrom</td><td>1e-10 m</td><td>AA, angstrom</td></tr><tr><td>cm</td><td>0.01 m</td><td>centimeter</td></tr><tr><td>earthRad</td><td>6.3781e+06 m</td><td>R_earth, Rearth</td></tr><tr><td>jupiterRad</td><td>7.1492e+07 m</td><td>R_jup, Rjup, R_jupiter, Rjupiter</td></tr><tr><td>lyr</td><td>9.46073e+15 m</td><td>lightyear</td></tr><tr><td>m</td><td>irreducible</td><td>meter</td></tr><tr><td>micron</td><td>1e-06 m</td><td></td></tr><tr><td>pc</td><td>3.08568e+16 m</td><td>parsec</td></tr><tr><td>solRad</td><td>6.957e+08 m</td><td>R_sun, Rsun</td></tr></table>"
      ],
      "text/plain": [
       "  Primary name | Unit definition | Aliases                         \n",
       "[\n",
       "  AU           | 1.49598e+11 m   | au, astronomical_unit            ,\n",
       "  Angstrom     | 1e-10 m         | AA, angstrom                     ,\n",
       "  cm           | 0.01 m          | centimeter                       ,\n",
       "  earthRad     | 6.3781e+06 m    | R_earth, Rearth                  ,\n",
       "  jupiterRad   | 7.1492e+07 m    | R_jup, Rjup, R_jupiter, Rjupiter ,\n",
       "  lyr          | 9.46073e+15 m   | lightyear                        ,\n",
       "  m            | irreducible     | meter                            ,\n",
       "  micron       | 1e-06 m         |                                  ,\n",
       "  pc           | 3.08568e+16 m   | parsec                           ,\n",
       "  solRad       | 6.957e+08 m     | R_sun, Rsun                      ,\n",
       "]"
      ]
     },
     "execution_count": 44,
     "metadata": {},
     "output_type": "execute_result"
    }
   ],
   "source": [
    "(u.km).find_equivalent_units()"
   ]
  },
  {
   "cell_type": "markdown",
   "metadata": {},
   "source": [
    "## Dimensionless quantities\n",
    "\n",
    "Sometime we get quantities which are effectively dimensionless:"
   ]
  },
  {
   "cell_type": "code",
   "execution_count": 45,
   "metadata": {},
   "outputs": [
    {
     "data": {
      "text/latex": [
       "$20 \\; \\mathrm{\\frac{cm}{m}}$"
      ],
      "text/plain": [
       "<Quantity 20. cm / m>"
      ]
     },
     "execution_count": 45,
     "metadata": {},
     "output_type": "execute_result"
    }
   ],
   "source": [
    "dimensionless_quantity = 20 * u.cm/u.m\n",
    "dimensionless_quantity"
   ]
  },
  {
   "cell_type": "markdown",
   "metadata": {},
   "source": [
    "What happen if we add a number to this?"
   ]
  },
  {
   "cell_type": "code",
   "execution_count": 48,
   "metadata": {},
   "outputs": [
    {
     "data": {
      "text/latex": [
       "$3.4 \\; \\mathrm{}$"
      ],
      "text/plain": [
       "<Quantity 3.4>"
      ]
     },
     "execution_count": 48,
     "metadata": {},
     "output_type": "execute_result"
    }
   ],
   "source": [
    "dimensionless_quantity + 3.2"
   ]
  },
  {
   "cell_type": "markdown",
   "metadata": {},
   "source": [
    "We can also convert to the actual dimensionless quantity using:"
   ]
  },
  {
   "cell_type": "code",
   "execution_count": 49,
   "metadata": {},
   "outputs": [
    {
     "data": {
      "text/latex": [
       "$0.2 \\; \\mathrm{}$"
      ],
      "text/plain": [
       "<Quantity 0.2>"
      ]
     },
     "execution_count": 49,
     "metadata": {},
     "output_type": "execute_result"
    }
   ],
   "source": [
    "dimensionless_quantity.decompose()"
   ]
  },
  {
   "cell_type": "markdown",
   "metadata": {},
   "source": [
    "## Equivalencies\n",
    "\n",
    "Some conversions are not done by a conversion factor as between miles and kilometers – for example converting between wavelength and frequency:"
   ]
  },
  {
   "cell_type": "code",
   "execution_count": 50,
   "metadata": {},
   "outputs": [
    {
     "ename": "UnitConversionError",
     "evalue": "'nm' (length) and 'Hz' (frequency) are not convertible",
     "output_type": "error",
     "traceback": [
      "\u001b[0;31m---------------------------------------------------------------------------\u001b[0m",
      "\u001b[0;31mUnitConversionError\u001b[0m                       Traceback (most recent call last)",
      "\u001b[0;32m<ipython-input-50-55dee31d2335>\u001b[0m in \u001b[0;36m<module>\u001b[0;34m\u001b[0m\n\u001b[0;32m----> 1\u001b[0;31m \u001b[0;34m(\u001b[0m\u001b[0;36m635\u001b[0m \u001b[0;34m*\u001b[0m \u001b[0mu\u001b[0m\u001b[0;34m.\u001b[0m\u001b[0mnm\u001b[0m\u001b[0;34m)\u001b[0m\u001b[0;34m.\u001b[0m\u001b[0mto\u001b[0m\u001b[0;34m(\u001b[0m\u001b[0mu\u001b[0m\u001b[0;34m.\u001b[0m\u001b[0mHz\u001b[0m\u001b[0;34m)\u001b[0m\u001b[0;34m\u001b[0m\u001b[0;34m\u001b[0m\u001b[0m\n\u001b[0m",
      "\u001b[0;32m~/miniconda3/envs/astr597/lib/python3.8/site-packages/astropy/units/quantity.py\u001b[0m in \u001b[0;36mto\u001b[0;34m(self, unit, equivalencies)\u001b[0m\n\u001b[1;32m    687\u001b[0m         \u001b[0;31m# and don't want to slow down this method (esp. the scalar case).\u001b[0m\u001b[0;34m\u001b[0m\u001b[0;34m\u001b[0m\u001b[0;34m\u001b[0m\u001b[0m\n\u001b[1;32m    688\u001b[0m         \u001b[0munit\u001b[0m \u001b[0;34m=\u001b[0m \u001b[0mUnit\u001b[0m\u001b[0;34m(\u001b[0m\u001b[0munit\u001b[0m\u001b[0;34m)\u001b[0m\u001b[0;34m\u001b[0m\u001b[0;34m\u001b[0m\u001b[0m\n\u001b[0;32m--> 689\u001b[0;31m         \u001b[0;32mreturn\u001b[0m \u001b[0mself\u001b[0m\u001b[0;34m.\u001b[0m\u001b[0m_new_view\u001b[0m\u001b[0;34m(\u001b[0m\u001b[0mself\u001b[0m\u001b[0;34m.\u001b[0m\u001b[0m_to_value\u001b[0m\u001b[0;34m(\u001b[0m\u001b[0munit\u001b[0m\u001b[0;34m,\u001b[0m \u001b[0mequivalencies\u001b[0m\u001b[0;34m)\u001b[0m\u001b[0;34m,\u001b[0m \u001b[0munit\u001b[0m\u001b[0;34m)\u001b[0m\u001b[0;34m\u001b[0m\u001b[0;34m\u001b[0m\u001b[0m\n\u001b[0m\u001b[1;32m    690\u001b[0m \u001b[0;34m\u001b[0m\u001b[0m\n\u001b[1;32m    691\u001b[0m     \u001b[0;32mdef\u001b[0m \u001b[0mto_value\u001b[0m\u001b[0;34m(\u001b[0m\u001b[0mself\u001b[0m\u001b[0;34m,\u001b[0m \u001b[0munit\u001b[0m\u001b[0;34m=\u001b[0m\u001b[0;32mNone\u001b[0m\u001b[0;34m,\u001b[0m \u001b[0mequivalencies\u001b[0m\u001b[0;34m=\u001b[0m\u001b[0;34m[\u001b[0m\u001b[0;34m]\u001b[0m\u001b[0;34m)\u001b[0m\u001b[0;34m:\u001b[0m\u001b[0;34m\u001b[0m\u001b[0;34m\u001b[0m\u001b[0m\n",
      "\u001b[0;32m~/miniconda3/envs/astr597/lib/python3.8/site-packages/astropy/units/quantity.py\u001b[0m in \u001b[0;36m_to_value\u001b[0;34m(self, unit, equivalencies)\u001b[0m\n\u001b[1;32m    658\u001b[0m         \u001b[0;32mif\u001b[0m \u001b[0mequivalencies\u001b[0m \u001b[0;34m==\u001b[0m \u001b[0;34m[\u001b[0m\u001b[0;34m]\u001b[0m\u001b[0;34m:\u001b[0m\u001b[0;34m\u001b[0m\u001b[0;34m\u001b[0m\u001b[0m\n\u001b[1;32m    659\u001b[0m             \u001b[0mequivalencies\u001b[0m \u001b[0;34m=\u001b[0m \u001b[0mself\u001b[0m\u001b[0;34m.\u001b[0m\u001b[0m_equivalencies\u001b[0m\u001b[0;34m\u001b[0m\u001b[0;34m\u001b[0m\u001b[0m\n\u001b[0;32m--> 660\u001b[0;31m         return self.unit.to(unit, self.view(np.ndarray),\n\u001b[0m\u001b[1;32m    661\u001b[0m                             equivalencies=equivalencies)\n\u001b[1;32m    662\u001b[0m \u001b[0;34m\u001b[0m\u001b[0m\n",
      "\u001b[0;32m~/miniconda3/envs/astr597/lib/python3.8/site-packages/astropy/units/core.py\u001b[0m in \u001b[0;36mto\u001b[0;34m(self, other, value, equivalencies)\u001b[0m\n\u001b[1;32m    985\u001b[0m             \u001b[0;32mreturn\u001b[0m \u001b[0mUNITY\u001b[0m\u001b[0;34m\u001b[0m\u001b[0;34m\u001b[0m\u001b[0m\n\u001b[1;32m    986\u001b[0m         \u001b[0;32melse\u001b[0m\u001b[0;34m:\u001b[0m\u001b[0;34m\u001b[0m\u001b[0;34m\u001b[0m\u001b[0m\n\u001b[0;32m--> 987\u001b[0;31m             \u001b[0;32mreturn\u001b[0m \u001b[0mself\u001b[0m\u001b[0;34m.\u001b[0m\u001b[0m_get_converter\u001b[0m\u001b[0;34m(\u001b[0m\u001b[0mother\u001b[0m\u001b[0;34m,\u001b[0m \u001b[0mequivalencies\u001b[0m\u001b[0;34m=\u001b[0m\u001b[0mequivalencies\u001b[0m\u001b[0;34m)\u001b[0m\u001b[0;34m(\u001b[0m\u001b[0mvalue\u001b[0m\u001b[0;34m)\u001b[0m\u001b[0;34m\u001b[0m\u001b[0;34m\u001b[0m\u001b[0m\n\u001b[0m\u001b[1;32m    988\u001b[0m \u001b[0;34m\u001b[0m\u001b[0m\n\u001b[1;32m    989\u001b[0m     \u001b[0;32mdef\u001b[0m \u001b[0min_units\u001b[0m\u001b[0;34m(\u001b[0m\u001b[0mself\u001b[0m\u001b[0;34m,\u001b[0m \u001b[0mother\u001b[0m\u001b[0;34m,\u001b[0m \u001b[0mvalue\u001b[0m\u001b[0;34m=\u001b[0m\u001b[0;36m1.0\u001b[0m\u001b[0;34m,\u001b[0m \u001b[0mequivalencies\u001b[0m\u001b[0;34m=\u001b[0m\u001b[0;34m[\u001b[0m\u001b[0;34m]\u001b[0m\u001b[0;34m)\u001b[0m\u001b[0;34m:\u001b[0m\u001b[0;34m\u001b[0m\u001b[0;34m\u001b[0m\u001b[0m\n",
      "\u001b[0;32m~/miniconda3/envs/astr597/lib/python3.8/site-packages/astropy/units/core.py\u001b[0m in \u001b[0;36m_get_converter\u001b[0;34m(self, other, equivalencies)\u001b[0m\n\u001b[1;32m    916\u001b[0m                             \u001b[0;32mpass\u001b[0m\u001b[0;34m\u001b[0m\u001b[0;34m\u001b[0m\u001b[0m\n\u001b[1;32m    917\u001b[0m \u001b[0;34m\u001b[0m\u001b[0m\n\u001b[0;32m--> 918\u001b[0;31m             \u001b[0;32mraise\u001b[0m \u001b[0mexc\u001b[0m\u001b[0;34m\u001b[0m\u001b[0;34m\u001b[0m\u001b[0m\n\u001b[0m\u001b[1;32m    919\u001b[0m \u001b[0;34m\u001b[0m\u001b[0m\n\u001b[1;32m    920\u001b[0m     \u001b[0;32mdef\u001b[0m \u001b[0m_to\u001b[0m\u001b[0;34m(\u001b[0m\u001b[0mself\u001b[0m\u001b[0;34m,\u001b[0m \u001b[0mother\u001b[0m\u001b[0;34m)\u001b[0m\u001b[0;34m:\u001b[0m\u001b[0;34m\u001b[0m\u001b[0;34m\u001b[0m\u001b[0m\n",
      "\u001b[0;32m~/miniconda3/envs/astr597/lib/python3.8/site-packages/astropy/units/core.py\u001b[0m in \u001b[0;36m_get_converter\u001b[0;34m(self, other, equivalencies)\u001b[0m\n\u001b[1;32m    901\u001b[0m         \u001b[0;31m# if that doesn't work, maybe we can do it with equivalencies?\u001b[0m\u001b[0;34m\u001b[0m\u001b[0;34m\u001b[0m\u001b[0;34m\u001b[0m\u001b[0m\n\u001b[1;32m    902\u001b[0m         \u001b[0;32mtry\u001b[0m\u001b[0;34m:\u001b[0m\u001b[0;34m\u001b[0m\u001b[0;34m\u001b[0m\u001b[0m\n\u001b[0;32m--> 903\u001b[0;31m             return self._apply_equivalencies(\n\u001b[0m\u001b[1;32m    904\u001b[0m                 self, other, self._normalize_equivalencies(equivalencies))\n\u001b[1;32m    905\u001b[0m         \u001b[0;32mexcept\u001b[0m \u001b[0mUnitsError\u001b[0m \u001b[0;32mas\u001b[0m \u001b[0mexc\u001b[0m\u001b[0;34m:\u001b[0m\u001b[0;34m\u001b[0m\u001b[0;34m\u001b[0m\u001b[0m\n",
      "\u001b[0;32m~/miniconda3/envs/astr597/lib/python3.8/site-packages/astropy/units/core.py\u001b[0m in \u001b[0;36m_apply_equivalencies\u001b[0;34m(self, unit, other, equivalencies)\u001b[0m\n\u001b[1;32m    884\u001b[0m         \u001b[0mother_str\u001b[0m \u001b[0;34m=\u001b[0m \u001b[0mget_err_str\u001b[0m\u001b[0;34m(\u001b[0m\u001b[0mother\u001b[0m\u001b[0;34m)\u001b[0m\u001b[0;34m\u001b[0m\u001b[0;34m\u001b[0m\u001b[0m\n\u001b[1;32m    885\u001b[0m \u001b[0;34m\u001b[0m\u001b[0m\n\u001b[0;32m--> 886\u001b[0;31m         raise UnitConversionError(\n\u001b[0m\u001b[1;32m    887\u001b[0m             \"{} and {} are not convertible\".format(\n\u001b[1;32m    888\u001b[0m                 unit_str, other_str))\n",
      "\u001b[0;31mUnitConversionError\u001b[0m: 'nm' (length) and 'Hz' (frequency) are not convertible"
     ]
    }
   ],
   "source": [
    "(635 * u.nm).to(u.Hz)"
   ]
  },
  {
   "cell_type": "markdown",
   "metadata": {},
   "source": [
    "However we can make use of a spectral *equivalency* to indicate the link between the units:"
   ]
  },
  {
   "cell_type": "code",
   "execution_count": 51,
   "metadata": {},
   "outputs": [
    {
     "data": {
      "text/latex": [
       "$4.7211411 \\times 10^{14} \\; \\mathrm{Hz}$"
      ],
      "text/plain": [
       "<Quantity 4.72114107e+14 Hz>"
      ]
     },
     "execution_count": 51,
     "metadata": {},
     "output_type": "execute_result"
    }
   ],
   "source": [
    "(635 * u.nm).to(u.Hz, equivalencies=u.spectral())"
   ]
  },
  {
   "cell_type": "markdown",
   "metadata": {},
   "source": [
    "Other built-in equivalencies are: \n",
    " - [Parallax](https://docs.astropy.org/en/stable/units/equivalencies.html#how-to-convert-parallax-to-distance)\n",
    " - [Doppler](https://docs.astropy.org/en/stable/units/equivalencies.html#spectral-doppler-equivalencies)\n",
    " - [Spectral flux density](https://docs.astropy.org/en/stable/units/equivalencies.html#spectral-flux-luminosity-density-units)\n",
    " - [Brigthness temperature](https://docs.astropy.org/en/stable/units/equivalencies.html#brightness-temperature-surface-brightness-equivalency)\n",
    " - [Temperature energy](https://docs.astropy.org/en/stable/units/equivalencies.html#temperature-energy-equivalency)\n",
    " - and you can [build your own](http://astropy.readthedocs.org/en/stable/units/equivalencies.html#writing-new-equivalencies)"
   ]
  },
  {
   "cell_type": "markdown",
   "metadata": {},
   "source": [
    "We can use ``find_equivalent_units`` as above to show how using an equivalency expands the number of equivalent units:"
   ]
  },
  {
   "cell_type": "code",
   "execution_count": 52,
   "metadata": {},
   "outputs": [
    {
     "data": {
      "text/html": [
       "<table style=\"width:50%\"><tr><th>Primary name</th><th>Unit definition</th><th>Aliases</th></tr><tr><td>Bq</td><td>1 / s</td><td>becquerel</td></tr><tr><td>Ci</td><td>3.7e+10 / s</td><td>curie</td></tr><tr><td>Hz</td><td>1 / s</td><td>Hertz, hertz</td></tr></table>"
      ],
      "text/plain": [
       "  Primary name | Unit definition | Aliases     \n",
       "[\n",
       "  Bq           | 1 / s           | becquerel    ,\n",
       "  Ci           | 3.7e+10 / s     | curie        ,\n",
       "  Hz           | 1 / s           | Hertz, hertz ,\n",
       "]"
      ]
     },
     "execution_count": 52,
     "metadata": {},
     "output_type": "execute_result"
    }
   ],
   "source": [
    "u.Hz.find_equivalent_units()"
   ]
  },
  {
   "cell_type": "code",
   "execution_count": 55,
   "metadata": {},
   "outputs": [
    {
     "data": {
      "text/html": [
       "<table style=\"width:50%\"><tr><th>Primary name</th><th>Unit definition</th><th>Aliases</th></tr><tr><td>AU</td><td>1.49598e+11 m</td><td>au, astronomical_unit</td></tr><tr><td>Angstrom</td><td>1e-10 m</td><td>AA, angstrom</td></tr><tr><td>Bq</td><td>1 / s</td><td>becquerel</td></tr><tr><td>Ci</td><td>3.7e+10 / s</td><td>curie</td></tr><tr><td>Hz</td><td>1 / s</td><td>Hertz, hertz</td></tr><tr><td>J</td><td>kg m2 / s2</td><td>Joule, joule</td></tr><tr><td>Ry</td><td>2.17987e-18 kg m2 / s2</td><td>rydberg</td></tr><tr><td>cm</td><td>0.01 m</td><td>centimeter</td></tr><tr><td>eV</td><td>1.60218e-19 kg m2 / s2</td><td>electronvolt</td></tr><tr><td>earthRad</td><td>6.3781e+06 m</td><td>R_earth, Rearth</td></tr><tr><td>erg</td><td>1e-07 kg m2 / s2</td><td></td></tr><tr><td>jupiterRad</td><td>7.1492e+07 m</td><td>R_jup, Rjup, R_jupiter, Rjupiter</td></tr><tr><td>k</td><td>100 / m</td><td>Kayser, kayser</td></tr><tr><td>lyr</td><td>9.46073e+15 m</td><td>lightyear</td></tr><tr><td>m</td><td>irreducible</td><td>meter</td></tr><tr><td>micron</td><td>1e-06 m</td><td></td></tr><tr><td>pc</td><td>3.08568e+16 m</td><td>parsec</td></tr><tr><td>solRad</td><td>6.957e+08 m</td><td>R_sun, Rsun</td></tr></table>"
      ],
      "text/plain": [
       "  Primary name | Unit definition        | Aliases                         \n",
       "[\n",
       "  AU           | 1.49598e+11 m          | au, astronomical_unit            ,\n",
       "  Angstrom     | 1e-10 m                | AA, angstrom                     ,\n",
       "  Bq           | 1 / s                  | becquerel                        ,\n",
       "  Ci           | 3.7e+10 / s            | curie                            ,\n",
       "  Hz           | 1 / s                  | Hertz, hertz                     ,\n",
       "  J            | kg m2 / s2             | Joule, joule                     ,\n",
       "  Ry           | 2.17987e-18 kg m2 / s2 | rydberg                          ,\n",
       "  cm           | 0.01 m                 | centimeter                       ,\n",
       "  eV           | 1.60218e-19 kg m2 / s2 | electronvolt                     ,\n",
       "  earthRad     | 6.3781e+06 m           | R_earth, Rearth                  ,\n",
       "  erg          | 1e-07 kg m2 / s2       |                                  ,\n",
       "  jupiterRad   | 7.1492e+07 m           | R_jup, Rjup, R_jupiter, Rjupiter ,\n",
       "  k            | 100 / m                | Kayser, kayser                   ,\n",
       "  lyr          | 9.46073e+15 m          | lightyear                        ,\n",
       "  m            | irreducible            | meter                            ,\n",
       "  micron       | 1e-06 m                |                                  ,\n",
       "  pc           | 3.08568e+16 m          | parsec                           ,\n",
       "  solRad       | 6.957e+08 m            | R_sun, Rsun                      ,\n",
       "]"
      ]
     },
     "execution_count": 55,
     "metadata": {},
     "output_type": "execute_result"
    }
   ],
   "source": [
    "u.Hz.find_equivalent_units(equivalencies=u.spectral())"
   ]
  },
  {
   "cell_type": "markdown",
   "metadata": {},
   "source": [
    "\n",
    "<section class=\"challenge panel panel-success\">\n",
    "<div class=\"panel-heading\">\n",
    "<h2><span class=\"fa fa-pencil\"></span> Challenge: Using equivalencies</h2>\n",
    "</div>\n",
    "\n",
    "\n",
    "<div class=\"panel-body\">\n",
    "\n",
    "<ol>\n",
    "<li>Find out more about the spectral flux equivalency and convert 12 mJy to ergs/cm^2/s/Hz and to W/m^2/Hz</li>\n",
    "</ol>\n",
    "\n",
    "</div>\n",
    "\n",
    "</section>\n"
   ]
  },
  {
   "cell_type": "code",
   "execution_count": 64,
   "metadata": {},
   "outputs": [
    {
     "data": {
      "text/latex": [
       "$1.2 \\times 10^{-25} \\; \\mathrm{\\frac{erg}{Hz\\,s\\,cm^{2}}}$"
      ],
      "text/plain": [
       "<Quantity 1.2e-25 erg / (cm2 Hz s)>"
      ]
     },
     "execution_count": 64,
     "metadata": {},
     "output_type": "execute_result"
    }
   ],
   "source": [
    "a = 12 * u.mJy\n",
    "a.to(u.erg/u.cm**2/u.s/u.Hz)"
   ]
  },
  {
   "cell_type": "markdown",
   "metadata": {},
   "source": [
    "## Logarithmic units"
   ]
  },
  {
   "cell_type": "markdown",
   "metadata": {},
   "source": [
    "Quantities can also be constructed with [Logarithmic Units](https://docs.astropy.org/en/stable/units/logarithmic_units.html), including various kinds of magnitude and dex:"
   ]
  },
  {
   "cell_type": "code",
   "execution_count": 66,
   "metadata": {},
   "outputs": [
    {
     "data": {
      "text/latex": [
       "$3.6307805 \\times 10^{-11} \\; \\mathrm{\\frac{erg}{\\mathring{A}\\,s\\,cm^{2}}}$"
      ],
      "text/plain": [
       "<Quantity 3.63078055e-11 erg / (Angstrom cm2 s)>"
      ]
     },
     "execution_count": 66,
     "metadata": {},
     "output_type": "execute_result"
    }
   ],
   "source": [
    "( 5 * u.STmag).to(u.erg/u.s/u.cm**2/u.AA)"
   ]
  },
  {
   "cell_type": "code",
   "execution_count": 73,
   "metadata": {},
   "outputs": [
    {
     "data": {
      "text/latex": [
       "$0.030277451 \\; \\mathrm{mJy}$"
      ],
      "text/plain": [
       "<Quantity 0.03027745 mJy>"
      ]
     },
     "execution_count": 73,
     "metadata": {},
     "output_type": "execute_result"
    }
   ],
   "source": [
    "( 15 * u.STmag).to(u.mJy, equivalencies=u.spectral_density(500 * u.AA))"
   ]
  },
  {
   "cell_type": "code",
   "execution_count": 74,
   "metadata": {},
   "outputs": [
    {
     "data": {
      "text/latex": [
       "$36307.805 \\; \\mathrm{mJy}$"
      ],
      "text/plain": [
       "<Quantity 36307.80547701 mJy>"
      ]
     },
     "execution_count": 74,
     "metadata": {},
     "output_type": "execute_result"
    }
   ],
   "source": [
    "( 5 * u.ABmag).to(u.mJy)"
   ]
  },
  {
   "cell_type": "code",
   "execution_count": 75,
   "metadata": {},
   "outputs": [
    {
     "data": {
      "text/latex": [
       "$100000 \\; \\mathrm{\\frac{cm}{s}}$"
      ],
      "text/plain": [
       "<Quantity 100000. cm / s>"
      ]
     },
     "execution_count": 75,
     "metadata": {},
     "output_type": "execute_result"
    }
   ],
   "source": [
    "( 3 * u.dex(u.m/u.s) ).to(u.cm/u.s)"
   ]
  },
  {
   "cell_type": "code",
   "execution_count": 78,
   "metadata": {},
   "outputs": [
    {
     "data": {
      "text/html": [
       "<p>There are no equivalent units</p>"
      ],
      "text/plain": [
       "There are no equivalent units"
      ]
     },
     "execution_count": 78,
     "metadata": {},
     "output_type": "execute_result"
    }
   ],
   "source": [
    "(u.K * u.cm**2).find_equivalent_units()"
   ]
  },
  {
   "cell_type": "markdown",
   "metadata": {},
   "source": [
    "## Printing the quantities\n",
    "\n",
    "If you want to print quantities using formatting, you can use ``.value`` and ``.unit`` as shown here:"
   ]
  },
  {
   "cell_type": "code",
   "execution_count": null,
   "metadata": {},
   "outputs": [],
   "source": []
  },
  {
   "cell_type": "code",
   "execution_count": null,
   "metadata": {},
   "outputs": [],
   "source": []
  },
  {
   "cell_type": "markdown",
   "metadata": {},
   "source": [
    "## Using quantities with Numpy functions\n",
    "\n",
    "Quantities work as expected with a number of Numpy functions (though not all):"
   ]
  },
  {
   "cell_type": "code",
   "execution_count": 82,
   "metadata": {},
   "outputs": [
    {
     "data": {
      "text/latex": [
       "$[1,~0.99998022,~0.99992089,~\\dots,~0.99992089,~0.99998022,~1] \\; \\mathrm{}$"
      ],
      "text/plain": [
       "<Quantity [ 1.        ,  0.99998022,  0.99992089,  0.999822  ,  0.99968356,\n",
       "            0.99950557,  0.99928805,  0.999031  ,  0.99873443,  0.99839835,\n",
       "            0.99802278,  0.99760773,  0.99715321,  0.99665925,  0.99612587,\n",
       "            0.99555308,  0.99494091,  0.99428939,  0.99359853,  0.99286837,\n",
       "            0.99209893,  0.99129025,  0.99044235,  0.98955528,  0.98862906,\n",
       "            0.98766373,  0.98665934,  0.98561591,  0.9845335 ,  0.98341214,\n",
       "            0.98225188,  0.98105276,  0.97981484,  0.97853816,  0.97722277,\n",
       "            0.97586872,  0.97447607,  0.97304487,  0.97157518,  0.97006706,\n",
       "            0.96852057,  0.96693576,  0.9653127 ,  0.96365146,  0.9619521 ,\n",
       "            0.96021469,  0.95843929,  0.95662598,  0.95477483,  0.95288591,\n",
       "            0.95095929,  0.94899506,  0.94699329,  0.94495406,  0.94287745,\n",
       "            0.94076354,  0.93861241,  0.93642416,  0.93419886,  0.93193662,\n",
       "            0.9296375 ,  0.92730161,  0.92492904,  0.92251988,  0.92007423,\n",
       "            0.91759219,  0.91507385,  0.9125193 ,  0.90992867,  0.90730203,\n",
       "            0.90463951,  0.9019412 ,  0.89920721,  0.89643766,  0.89363264,\n",
       "            0.89079227,  0.88791667,  0.88500594,  0.8820602 ,  0.87907957,\n",
       "            0.87606417,  0.87301411,  0.86992952,  0.86681052,  0.86365722,\n",
       "            0.86046977,  0.85724827,  0.85399287,  0.85070368,  0.84738084,\n",
       "            0.84402448,  0.84063474,  0.83721174,  0.83375562,  0.83026652,\n",
       "            0.82674458,  0.82318994,  0.81960273,  0.8159831 ,  0.81233119,\n",
       "            0.80864715,  0.80493112,  0.80118325,  0.79740368,  0.79359258,\n",
       "            0.78975008,  0.78587634,  0.78197151,  0.77803575,  0.77406922,\n",
       "            0.77007206,  0.76604444,  0.76198652,  0.75789846,  0.75378041,\n",
       "            0.74963255,  0.74545504,  0.74124804,  0.73701171,  0.73274623,\n",
       "            0.72845177,  0.72412849,  0.71977656,  0.71539616,  0.71098747,\n",
       "            0.70655065,  0.70208588,  0.69759333,  0.69307319,  0.68852564,\n",
       "            0.68395085,  0.679349  ,  0.67472028,  0.67006487,  0.66538296,\n",
       "            0.66067472,  0.65594035,  0.65118003,  0.64639396,  0.64158231,\n",
       "            0.63674529,  0.63188307,  0.62699586,  0.62208385,  0.61714723,\n",
       "            0.6121862 ,  0.60720095,  0.60219168,  0.59715859,  0.59210188,\n",
       "            0.58702175,  0.58191839,  0.57679202,  0.57164283,  0.56647103,\n",
       "            0.56127682,  0.5560604 ,  0.55082199,  0.54556179,  0.54028001,\n",
       "            0.53497686,  0.52965255,  0.52430728,  0.51894128,  0.51355474,\n",
       "            0.5081479 ,  0.50272095,  0.49727411,  0.4918076 ,  0.48632164,\n",
       "            0.48081644,  0.47529222,  0.4697492 ,  0.4641876 ,  0.45860764,\n",
       "            0.45300953,  0.44739351,  0.44175978,  0.43610858,  0.43044014,\n",
       "            0.42475466,  0.41905238,  0.41333353,  0.40759832,  0.40184699,\n",
       "            0.39607977,  0.39029687,  0.38449854,  0.378685  ,  0.37285648,\n",
       "            0.36701321,  0.36115542,  0.35528334,  0.34939721,  0.34349726,\n",
       "            0.33758372,  0.33165683,  0.32571682,  0.31976392,  0.31379838,\n",
       "            0.30782042,  0.30183029,  0.29582821,  0.28981444,  0.28378919,\n",
       "            0.27775273,  0.27170527,  0.26564707,  0.25957836,  0.25349938,\n",
       "            0.24741038,  0.24131158,  0.23520324,  0.2290856 ,  0.2229589 ,\n",
       "            0.21682337,  0.21067927,  0.20452683,  0.19836631,  0.19219794,\n",
       "            0.18602196,  0.17983863,  0.17364818,  0.16745086,  0.16124692,\n",
       "            0.1550366 ,  0.14882015,  0.14259781,  0.13636983,  0.13013645,\n",
       "            0.12389793,  0.11765451,  0.11140643,  0.10515394,  0.0988973 ,\n",
       "            0.09263674,  0.08637252,  0.08010489,  0.07383408,  0.06756035,\n",
       "            0.06128395,  0.05500513,  0.04872413,  0.0424412 ,  0.0361566 ,\n",
       "            0.02987056,  0.02358334,  0.01729519,  0.01100636,  0.00471709,\n",
       "           -0.00157237, -0.00786176, -0.01415085, -0.02043937, -0.02672708,\n",
       "           -0.03301374, -0.03929909, -0.04558289, -0.05186489, -0.05814483,\n",
       "           -0.06442247, -0.07069757, -0.07696986, -0.08323912, -0.08950508,\n",
       "           -0.0957675 , -0.10202613, -0.10828072, -0.11453103, -0.12077682,\n",
       "           -0.12701782, -0.1332538 , -0.13948451, -0.1457097 , -0.15192912,\n",
       "           -0.15814254, -0.1643497 , -0.17055036, -0.17674428, -0.1829312 ,\n",
       "           -0.18911088, -0.19528309, -0.20144757, -0.20760408, -0.21375238,\n",
       "           -0.21989222, -0.22602337, -0.23214557, -0.23825859, -0.24436219,\n",
       "           -0.25045612, -0.25654014, -0.26261401, -0.2686775 , -0.27473036,\n",
       "           -0.28077235, -0.28680323, -0.29282277, -0.29883073, -0.30482686,\n",
       "           -0.31081094, -0.31678272, -0.32274197, -0.32868845, -0.33462193,\n",
       "           -0.34054218, -0.34644895, -0.35234202, -0.35822115, -0.36408611,\n",
       "           -0.36993667, -0.3757726 , -0.38159366, -0.38739962, -0.39319026,\n",
       "           -0.39896535, -0.40472466, -0.41046795, -0.41619501, -0.42190561,\n",
       "           -0.42759951, -0.4332765 , -0.43893635, -0.44457884, -0.45020374,\n",
       "           -0.45581084, -0.4613999 , -0.46697071, -0.47252305, -0.4780567 ,\n",
       "           -0.48357143, -0.48906704, -0.4945433 , -0.5       , -0.50543692,\n",
       "           -0.51085385, -0.51625056, -0.52162686, -0.52698252, -0.53231734,\n",
       "           -0.5376311 , -0.54292359, -0.5481946 , -0.55344393, -0.55867137,\n",
       "           -0.56387671, -0.56905974, -0.57422026, -0.57935807, -0.58447296,\n",
       "           -0.58956473, -0.59463318, -0.5996781 , -0.60469931, -0.60969659,\n",
       "           -0.61466975, -0.6196186 , -0.62454294, -0.62944258, -0.63431732,\n",
       "           -0.63916696, -0.64399132, -0.6487902 , -0.65356343, -0.65831079,\n",
       "           -0.66303212, -0.66772722, -0.6723959 , -0.67703799, -0.6816533 ,\n",
       "           -0.68624164, -0.69080283, -0.6953367 , -0.69984306, -0.70432174,\n",
       "           -0.70877256, -0.71319534, -0.71758991, -0.72195609, -0.72629372,\n",
       "           -0.73060261, -0.7348826 , -0.73913353, -0.74335521, -0.74754749,\n",
       "           -0.7517102 , -0.75584317, -0.75994625, -0.76401926, -0.76806205,\n",
       "           -0.77207446, -0.77605632, -0.78000749, -0.7839278 , -0.78781711,\n",
       "           -0.79167524, -0.79550207, -0.79929742, -0.80306115, -0.80679312,\n",
       "           -0.81049318, -0.81416117, -0.81779696, -0.82140039, -0.82497134,\n",
       "           -0.82850965, -0.83201519, -0.83548781, -0.83892739, -0.84233378,\n",
       "           -0.84570685, -0.84904646, -0.85235249, -0.8556248 , -0.85886327,\n",
       "           -0.86206776, -0.86523815, -0.86837431, -0.87147613, -0.87454347,\n",
       "           -0.87757621, -0.88057424, -0.88353744, -0.88646569, -0.88935887,\n",
       "           -0.89221687, -0.89503957, -0.89782688, -0.90057866, -0.90329482,\n",
       "           -0.90597525, -0.90861984, -0.91122849, -0.91380109, -0.91633755,\n",
       "           -0.91883775, -0.92130162, -0.92372903, -0.92611991, -0.92847415,\n",
       "           -0.93079166, -0.93307235, -0.93531614, -0.93752292, -0.93969262,\n",
       "           -0.94182515, -0.94392042, -0.94597835, -0.94799886, -0.94998187,\n",
       "           -0.95192731, -0.95383508, -0.95570513, -0.95753737, -0.95933173,\n",
       "           -0.96108814, -0.96280654, -0.96448685, -0.96612901, -0.96773295,\n",
       "           -0.96929861, -0.97082592, -0.97231483, -0.97376528, -0.97517722,\n",
       "           -0.97655057, -0.9778853 , -0.97918134, -0.98043865, -0.98165717,\n",
       "           -0.98283687, -0.98397768, -0.98507957, -0.9861425 , -0.98716641,\n",
       "           -0.98815128, -0.98909706, -0.99000371, -0.9908712 , -0.99169949,\n",
       "           -0.99248855, -0.99323836, -0.99394887, -0.99462007, -0.99525192,\n",
       "           -0.9958444 , -0.99639749, -0.99691116, -0.9973854 , -0.99782019,\n",
       "           -0.9982155 , -0.99857133, -0.99888765, -0.99916446, -0.99940175,\n",
       "           -0.99959951, -0.99975772, -0.99987639, -0.9999555 , -0.99999506,\n",
       "           -0.99999506, -0.9999555 , -0.99987639, -0.99975772, -0.99959951,\n",
       "           -0.99940175, -0.99916446, -0.99888765, -0.99857133, -0.9982155 ,\n",
       "           -0.99782019, -0.9973854 , -0.99691116, -0.99639749, -0.9958444 ,\n",
       "           -0.99525192, -0.99462007, -0.99394887, -0.99323836, -0.99248855,\n",
       "           -0.99169949, -0.9908712 , -0.99000371, -0.98909706, -0.98815128,\n",
       "           -0.98716641, -0.9861425 , -0.98507957, -0.98397768, -0.98283687,\n",
       "           -0.98165717, -0.98043865, -0.97918134, -0.9778853 , -0.97655057,\n",
       "           -0.97517722, -0.97376528, -0.97231483, -0.97082592, -0.96929861,\n",
       "           -0.96773295, -0.96612901, -0.96448685, -0.96280654, -0.96108814,\n",
       "           -0.95933173, -0.95753737, -0.95570513, -0.95383508, -0.95192731,\n",
       "           -0.94998187, -0.94799886, -0.94597835, -0.94392042, -0.94182515,\n",
       "           -0.93969262, -0.93752292, -0.93531614, -0.93307235, -0.93079166,\n",
       "           -0.92847415, -0.92611991, -0.92372903, -0.92130162, -0.91883775,\n",
       "           -0.91633755, -0.91380109, -0.91122849, -0.90861984, -0.90597525,\n",
       "           -0.90329482, -0.90057866, -0.89782688, -0.89503957, -0.89221687,\n",
       "           -0.88935887, -0.88646569, -0.88353744, -0.88057424, -0.87757621,\n",
       "           -0.87454347, -0.87147613, -0.86837431, -0.86523815, -0.86206776,\n",
       "           -0.85886327, -0.8556248 , -0.85235249, -0.84904646, -0.84570685,\n",
       "           -0.84233378, -0.83892739, -0.83548781, -0.83201519, -0.82850965,\n",
       "           -0.82497134, -0.82140039, -0.81779696, -0.81416117, -0.81049318,\n",
       "           -0.80679312, -0.80306115, -0.79929742, -0.79550207, -0.79167524,\n",
       "           -0.78781711, -0.7839278 , -0.78000749, -0.77605632, -0.77207446,\n",
       "           -0.76806205, -0.76401926, -0.75994625, -0.75584317, -0.7517102 ,\n",
       "           -0.74754749, -0.74335521, -0.73913353, -0.7348826 , -0.73060261,\n",
       "           -0.72629372, -0.72195609, -0.71758991, -0.71319534, -0.70877256,\n",
       "           -0.70432174, -0.69984306, -0.6953367 , -0.69080283, -0.68624164,\n",
       "           -0.6816533 , -0.67703799, -0.6723959 , -0.66772722, -0.66303212,\n",
       "           -0.65831079, -0.65356343, -0.6487902 , -0.64399132, -0.63916696,\n",
       "           -0.63431732, -0.62944258, -0.62454294, -0.6196186 , -0.61466975,\n",
       "           -0.60969659, -0.60469931, -0.5996781 , -0.59463318, -0.58956473,\n",
       "           -0.58447296, -0.57935807, -0.57422026, -0.56905974, -0.56387671,\n",
       "           -0.55867137, -0.55344393, -0.5481946 , -0.54292359, -0.5376311 ,\n",
       "           -0.53231734, -0.52698252, -0.52162686, -0.51625056, -0.51085385,\n",
       "           -0.50543692, -0.5       , -0.4945433 , -0.48906704, -0.48357143,\n",
       "           -0.4780567 , -0.47252305, -0.46697071, -0.4613999 , -0.45581084,\n",
       "           -0.45020374, -0.44457884, -0.43893635, -0.4332765 , -0.42759951,\n",
       "           -0.42190561, -0.41619501, -0.41046795, -0.40472466, -0.39896535,\n",
       "           -0.39319026, -0.38739962, -0.38159366, -0.3757726 , -0.36993667,\n",
       "           -0.36408611, -0.35822115, -0.35234202, -0.34644895, -0.34054218,\n",
       "           -0.33462193, -0.32868845, -0.32274197, -0.31678272, -0.31081094,\n",
       "           -0.30482686, -0.29883073, -0.29282277, -0.28680323, -0.28077235,\n",
       "           -0.27473036, -0.2686775 , -0.26261401, -0.25654014, -0.25045612,\n",
       "           -0.24436219, -0.23825859, -0.23214557, -0.22602337, -0.21989222,\n",
       "           -0.21375238, -0.20760408, -0.20144757, -0.19528309, -0.18911088,\n",
       "           -0.1829312 , -0.17674428, -0.17055036, -0.1643497 , -0.15814254,\n",
       "           -0.15192912, -0.1457097 , -0.13948451, -0.1332538 , -0.12701782,\n",
       "           -0.12077682, -0.11453103, -0.10828072, -0.10202613, -0.0957675 ,\n",
       "           -0.08950508, -0.08323912, -0.07696986, -0.07069757, -0.06442247,\n",
       "           -0.05814483, -0.05186489, -0.04558289, -0.03929909, -0.03301374,\n",
       "           -0.02672708, -0.02043937, -0.01415085, -0.00786176, -0.00157237,\n",
       "            0.00471709,  0.01100636,  0.01729519,  0.02358334,  0.02987056,\n",
       "            0.0361566 ,  0.0424412 ,  0.04872413,  0.05500513,  0.06128395,\n",
       "            0.06756035,  0.07383408,  0.08010489,  0.08637252,  0.09263674,\n",
       "            0.0988973 ,  0.10515394,  0.11140643,  0.11765451,  0.12389793,\n",
       "            0.13013645,  0.13636983,  0.14259781,  0.14882015,  0.1550366 ,\n",
       "            0.16124692,  0.16745086,  0.17364818,  0.17983863,  0.18602196,\n",
       "            0.19219794,  0.19836631,  0.20452683,  0.21067927,  0.21682337,\n",
       "            0.2229589 ,  0.2290856 ,  0.23520324,  0.24131158,  0.24741038,\n",
       "            0.25349938,  0.25957836,  0.26564707,  0.27170527,  0.27775273,\n",
       "            0.28378919,  0.28981444,  0.29582821,  0.30183029,  0.30782042,\n",
       "            0.31379838,  0.31976392,  0.32571682,  0.33165683,  0.33758372,\n",
       "            0.34349726,  0.34939721,  0.35528334,  0.36115542,  0.36701321,\n",
       "            0.37285648,  0.378685  ,  0.38449854,  0.39029687,  0.39607977,\n",
       "            0.40184699,  0.40759832,  0.41333353,  0.41905238,  0.42475466,\n",
       "            0.43044014,  0.43610858,  0.44175978,  0.44739351,  0.45300953,\n",
       "            0.45860764,  0.4641876 ,  0.4697492 ,  0.47529222,  0.48081644,\n",
       "            0.48632164,  0.4918076 ,  0.49727411,  0.50272095,  0.5081479 ,\n",
       "            0.51355474,  0.51894128,  0.52430728,  0.52965255,  0.53497686,\n",
       "            0.54028001,  0.54556179,  0.55082199,  0.5560604 ,  0.56127682,\n",
       "            0.56647103,  0.57164283,  0.57679202,  0.58191839,  0.58702175,\n",
       "            0.59210188,  0.59715859,  0.60219168,  0.60720095,  0.6121862 ,\n",
       "            0.61714723,  0.62208385,  0.62699586,  0.63188307,  0.63674529,\n",
       "            0.64158231,  0.64639396,  0.65118003,  0.65594035,  0.66067472,\n",
       "            0.66538296,  0.67006487,  0.67472028,  0.679349  ,  0.68395085,\n",
       "            0.68852564,  0.69307319,  0.69759333,  0.70208588,  0.70655065,\n",
       "            0.71098747,  0.71539616,  0.71977656,  0.72412849,  0.72845177,\n",
       "            0.73274623,  0.73701171,  0.74124804,  0.74545504,  0.74963255,\n",
       "            0.75378041,  0.75789846,  0.76198652,  0.76604444,  0.77007206,\n",
       "            0.77406922,  0.77803575,  0.78197151,  0.78587634,  0.78975008,\n",
       "            0.79359258,  0.79740368,  0.80118325,  0.80493112,  0.80864715,\n",
       "            0.81233119,  0.8159831 ,  0.81960273,  0.82318994,  0.82674458,\n",
       "            0.83026652,  0.83375562,  0.83721174,  0.84063474,  0.84402448,\n",
       "            0.84738084,  0.85070368,  0.85399287,  0.85724827,  0.86046977,\n",
       "            0.86365722,  0.86681052,  0.86992952,  0.87301411,  0.87606417,\n",
       "            0.87907957,  0.8820602 ,  0.88500594,  0.88791667,  0.89079227,\n",
       "            0.89363264,  0.89643766,  0.89920721,  0.9019412 ,  0.90463951,\n",
       "            0.90730203,  0.90992867,  0.9125193 ,  0.91507385,  0.91759219,\n",
       "            0.92007423,  0.92251988,  0.92492904,  0.92730161,  0.9296375 ,\n",
       "            0.93193662,  0.93419886,  0.93642416,  0.93861241,  0.94076354,\n",
       "            0.94287745,  0.94495406,  0.94699329,  0.94899506,  0.95095929,\n",
       "            0.95288591,  0.95477483,  0.95662598,  0.95843929,  0.96021469,\n",
       "            0.9619521 ,  0.96365146,  0.9653127 ,  0.96693576,  0.96852057,\n",
       "            0.97006706,  0.97157518,  0.97304487,  0.97447607,  0.97586872,\n",
       "            0.97722277,  0.97853816,  0.97981484,  0.98105276,  0.98225188,\n",
       "            0.98341214,  0.9845335 ,  0.98561591,  0.98665934,  0.98766373,\n",
       "            0.98862906,  0.98955528,  0.99044235,  0.99129025,  0.99209893,\n",
       "            0.99286837,  0.99359853,  0.99428939,  0.99494091,  0.99555308,\n",
       "            0.99612587,  0.99665925,  0.99715321,  0.99760773,  0.99802278,\n",
       "            0.99839835,  0.99873443,  0.999031  ,  0.99928805,  0.99950557,\n",
       "            0.99968356,  0.999822  ,  0.99992089,  0.99998022,  1.        ]>"
      ]
     },
     "execution_count": 82,
     "metadata": {},
     "output_type": "execute_result"
    }
   ],
   "source": [
    "angle = np.linspace(0, 360, 1000) * u.deg\n",
    "np.cos(angle)"
   ]
  },
  {
   "cell_type": "code",
   "execution_count": 84,
   "metadata": {},
   "outputs": [
    {
     "data": {
      "text/latex": [
       "$2.7182818 \\; \\mathrm{}$"
      ],
      "text/plain": [
       "<Quantity 2.71828183>"
      ]
     },
     "execution_count": 84,
     "metadata": {},
     "output_type": "execute_result"
    }
   ],
   "source": [
    "np.exp( 4*u.m / (400*u.cm))"
   ]
  },
  {
   "cell_type": "markdown",
   "metadata": {},
   "source": [
    "## Performance considerations\n",
    "\n",
    "If performance is important, and you are attaching units to arrays, you may want to consider using the ``<<`` operator to attach units to arrays - this prevents the array data from being copied:"
   ]
  },
  {
   "cell_type": "code",
   "execution_count": 92,
   "metadata": {},
   "outputs": [],
   "source": [
    "array = np.random.random(10000000)"
   ]
  },
  {
   "cell_type": "code",
   "execution_count": 93,
   "metadata": {},
   "outputs": [
    {
     "name": "stdout",
     "output_type": "stream",
     "text": [
      "CPU times: user 21.3 ms, sys: 10.4 ms, total: 31.7 ms\n",
      "Wall time: 30.9 ms\n"
     ]
    },
    {
     "data": {
      "text/latex": [
       "$[0.79183756,~0.093185769,~0.92888494,~\\dots,~0.87079948,~0.75010835,~0.41718258] \\; \\mathrm{\\frac{m}{s}}$"
      ],
      "text/plain": [
       "<Quantity [0.79183756, 0.09318577, 0.92888494, ..., 0.87079948, 0.75010835,\n",
       "           0.41718258] m / s>"
      ]
     },
     "execution_count": 93,
     "metadata": {},
     "output_type": "execute_result"
    }
   ],
   "source": [
    "%time array * u.m/u.s"
   ]
  },
  {
   "cell_type": "code",
   "execution_count": 94,
   "metadata": {},
   "outputs": [
    {
     "name": "stdout",
     "output_type": "stream",
     "text": [
      "CPU times: user 21 µs, sys: 31 µs, total: 52 µs\n",
      "Wall time: 54.4 µs\n"
     ]
    },
    {
     "data": {
      "text/latex": [
       "$[0.79183756,~0.093185769,~0.92888494,~\\dots,~0.87079948,~0.75010835,~0.41718258] \\; \\mathrm{\\frac{m}{s}}$"
      ],
      "text/plain": [
       "<Quantity [0.79183756, 0.09318577, 0.92888494, ..., 0.87079948, 0.75010835,\n",
       "           0.41718258] m / s>"
      ]
     },
     "execution_count": 94,
     "metadata": {},
     "output_type": "execute_result"
    }
   ],
   "source": [
    "%time array << u.m/u.s"
   ]
  },
  {
   "cell_type": "markdown",
   "metadata": {},
   "source": [
    "If you are using composite units in your code, it can also be beneficial to compute the composite units once and for all as shown earlier, e.g.:"
   ]
  },
  {
   "cell_type": "code",
   "execution_count": 95,
   "metadata": {},
   "outputs": [],
   "source": [
    "kms = u.km/u.s"
   ]
  },
  {
   "cell_type": "markdown",
   "metadata": {},
   "source": [
    "Finally, if having Quantity classes is still slowing down your code, you can consider using the units only to find scalefactors and then use then to modify arrays:"
   ]
  },
  {
   "cell_type": "code",
   "execution_count": 97,
   "metadata": {},
   "outputs": [],
   "source": [
    "kph2cgs = (u.km/u.s).to(u.cm/u.s)"
   ]
  },
  {
   "cell_type": "markdown",
   "metadata": {},
   "source": [
    "## Plotting quantities\n",
    "\n",
    "To plot quantities nicely with Matplotlib we need to use the ``quantity_support`` function:"
   ]
  },
  {
   "cell_type": "code",
   "execution_count": 111,
   "metadata": {},
   "outputs": [
    {
     "data": {
      "text/plain": [
       "<astropy.visualization.units.quantity_support.<locals>.MplQuantityConverter at 0x7f51252a46a0>"
      ]
     },
     "execution_count": 111,
     "metadata": {},
     "output_type": "execute_result"
    }
   ],
   "source": [
    "from astropy.visualization import quantity_support\n",
    "quantity_support()"
   ]
  },
  {
   "cell_type": "code",
   "execution_count": 112,
   "metadata": {},
   "outputs": [
    {
     "data": {
      "text/plain": [
       "[<matplotlib.lines.Line2D at 0x7f51250ec100>]"
      ]
     },
     "execution_count": 112,
     "metadata": {},
     "output_type": "execute_result"
    },
    {
     "data": {
      "image/png": "[encoded data removed]",
      "text/plain": [
       "<Figure size 720x432 with 1 Axes>"
      ]
     },
     "metadata": {
      "needs_background": "light"
     },
     "output_type": "display_data"
    }
   ],
   "source": [
    "plt.plot(angle, np.sin(angle))\n",
    "plt.plot(angle.to(u.rad), np.cos(angle))"
   ]
  },
  {
   "cell_type": "markdown",
   "metadata": {},
   "source": [
    "## Physical constants\n",
    "\n",
    "The [astropy.constants](https://docs.astropy.org/en/stable/constants/index.html) sub-package provides a set of physical constants which are compatible with the units/quantities framework:"
   ]
  },
  {
   "cell_type": "code",
   "execution_count": 114,
   "metadata": {},
   "outputs": [],
   "source": [
    "import astropy.constants as consts"
   ]
  },
  {
   "cell_type": "code",
   "execution_count": null,
   "metadata": {},
   "outputs": [],
   "source": [
    "consts.M"
   ]
  },
  {
   "cell_type": "markdown",
   "metadata": {},
   "source": [
    "\n",
    "<section class=\"challenge panel panel-success\">\n",
    "<div class=\"panel-heading\">\n",
    "<h2><span class=\"fa fa-pencil\"></span> Plotting the solar system potential</h2>\n",
    "</div>\n",
    "\n",
    "\n",
    "<div class=\"panel-body\">\n",
    "\n",
    "<ol>\n",
    "<li>The gravitational potential around a point source is $V=-GM/r$ where $M$ is the mass of the point and $r$ is the radius from it. Use what we've seen above to make a plot of the gravitational potential (in MJ/kg) in the solar system between 1 and 50 au.</li>\n",
    "</ol>\n",
    "\n",
    "</div>\n",
    "\n",
    "</section>\n"
   ]
  },
  {
   "cell_type": "code",
   "execution_count": 123,
   "metadata": {},
   "outputs": [
    {
     "data": {
      "text/plain": [
       "[<matplotlib.lines.Line2D at 0x7f5124e8ef10>]"
      ]
     },
     "execution_count": 123,
     "metadata": {},
     "output_type": "execute_result"
    },
    {
     "data": {
      "image/png": "[encoded data removed]",
      "text/plain": [
       "<Figure size 720x432 with 1 Axes>"
      ]
     },
     "metadata": {
      "needs_background": "light"
     },
     "output_type": "display_data"
    }
   ],
   "source": [
    "r = np.linspace(1, 50, 10000) << u.AU\n",
    "potential = -consts.G * consts.M_earth / r\n",
    "plt.plot(r, potential.to(u.MJ/u.kg))"
   ]
  },
  {
   "cell_type": "markdown",
   "metadata": {},
   "source": [
    "<center><i>This notebook was written by <a href=\"https://aperiosoftware.com/\">Aperio Software Ltd.</a> &copy; 2019, and is licensed under a <a href=\"https://creativecommons.org/licenses/by/4.0/\">Creative Commons Attribution 4.0 International License (CC BY 4.0)</a></i></center>\n",
    "\n",
    "![cc](https://mirrors.creativecommons.org/presskit/buttons/88x31/svg/by.svg)"
   ]
  }
 ],
 "metadata": {
  "kernelspec": {
   "display_name": "Python 3",
   "language": "python",
   "name": "python3"
  },
  "language_info": {
   "codemirror_mode": {
    "name": "ipython",
    "version": 3
   },
   "file_extension": ".py",
   "mimetype": "text/x-python",
   "name": "python",
   "nbconvert_exporter": "python",
   "pygments_lexer": "ipython3",
   "version": "3.8.5"
  }
 },
 "nbformat": 4,
 "nbformat_minor": 1
}
