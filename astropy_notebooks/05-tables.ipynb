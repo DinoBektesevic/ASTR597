{
 "cells": [
  {
   "cell_type": "markdown",
   "metadata": {},
   "source": [
    "# A common interface for handling tabular data\n",
    "\n",
    "As we've seen in the FITS tutorial, the [astropy.io.fits](http://docs.astropy.org/en/stable/io/fits/index.html) sub-package can be used to access FITS tables. In addition, as we will see in the next tutorial, there is functionality in [astropy.io.votable](http://docs.astropy.org/en/stable/io/votable/index.html) and [astropy.io.ascii](http://docs.astropy.org/en/stable/io/ascii/index.html) to read in VO and ASCII tables. However, while these sub-pacakges have user interfaces that are specific to each kind of file, it can be difficult to remember all of them. Therefore, astropy includes a higher level interface in [astropy.table](http://docs.astropy.org/en/stable/table/index.html) which can be used to access tables in many different formats in a similar way."
   ]
  },
  {
   "cell_type": "markdown",
   "metadata": {},
   "source": [
    "\n",
    "<section class=\"objectives panel panel-warning\">\n",
    "<div class=\"panel-heading\">\n",
    "<h2><span class=\"fa fa-certificate\"></span> Objectives</h2>\n",
    "</div>\n",
    "\n",
    "\n",
    "<div class=\"panel-body\">\n",
    "\n",
    "<ul>\n",
    "<li>Create tables</li>\n",
    "<li>Access data in tables</li>\n",
    "<li>Combining tables</li>\n",
    "<li>Using high-level objects as columns</li>\n",
    "<li>Aggregation</li>\n",
    "<li>Masking</li>\n",
    "<li>Reading/writing</li>\n",
    "</ul>\n",
    "\n",
    "</div>\n",
    "\n",
    "</section>\n"
   ]
  },
  {
   "cell_type": "markdown",
   "metadata": {},
   "source": [
    "## Documentation\n",
    "\n",
    "This notebook only shows a subset of the functionality in astropy.table. For more information about the features presented below as well as other available features, you can read the\n",
    "[astropy.table documentation](https://docs.astropy.org/en/stable/table/)."
   ]
  },
  {
   "cell_type": "code",
   "execution_count": 1,
   "metadata": {},
   "outputs": [],
   "source": [
    "%matplotlib inline\n",
    "import matplotlib.pyplot as plt\n",
    "plt.rc('image', origin='lower')\n",
    "plt.rc('figure', figsize=(10, 6))"
   ]
  },
  {
   "cell_type": "markdown",
   "metadata": {},
   "source": [
    "## Creating tables\n",
    "\n",
    "The main class we will use here is called ``Table``:"
   ]
  },
  {
   "cell_type": "code",
   "execution_count": 2,
   "metadata": {},
   "outputs": [],
   "source": [
    "from astropy.table import Table"
   ]
  },
  {
   "cell_type": "markdown",
   "metadata": {},
   "source": [
    "Before we look at how to read and write tables, let's first see how to create a table from scratch:"
   ]
  },
  {
   "cell_type": "code",
   "execution_count": 48,
   "metadata": {},
   "outputs": [],
   "source": [
    "t1 = Table()\n",
    "t1[\"name\"] = ['source1', \"source2\", \"source3\"]\n",
    "t1[\"flux\"] = [1.1, 1.2, 1.3]"
   ]
  },
  {
   "cell_type": "markdown",
   "metadata": {},
   "source": [
    "We can look at the table with:"
   ]
  },
  {
   "cell_type": "code",
   "execution_count": 49,
   "metadata": {},
   "outputs": [
    {
     "data": {
      "text/html": [
       "<i>Table length=3</i>\n",
       "<table id=\"table140016567131200\" class=\"table-striped table-bordered table-condensed\">\n",
       "<thead><tr><th>name</th><th>flux</th></tr></thead>\n",
       "<thead><tr><th>str7</th><th>float64</th></tr></thead>\n",
       "<tr><td>source1</td><td>1.1</td></tr>\n",
       "<tr><td>source2</td><td>1.2</td></tr>\n",
       "<tr><td>source3</td><td>1.3</td></tr>\n",
       "</table>"
      ],
      "text/plain": [
       "<Table length=3>\n",
       "  name    flux \n",
       "  str7  float64\n",
       "------- -------\n",
       "source1     1.1\n",
       "source2     1.2\n",
       "source3     1.3"
      ]
     },
     "execution_count": 49,
     "metadata": {},
     "output_type": "execute_result"
    }
   ],
   "source": [
    "t1"
   ]
  },
  {
   "cell_type": "markdown",
   "metadata": {},
   "source": [
    "We can add columns:"
   ]
  },
  {
   "cell_type": "code",
   "execution_count": 50,
   "metadata": {},
   "outputs": [
    {
     "data": {
      "text/html": [
       "<i>Table length=3</i>\n",
       "<table id=\"table140016567131200\" class=\"table-striped table-bordered table-condensed\">\n",
       "<thead><tr><th>name</th><th>flux</th><th>size</th></tr></thead>\n",
       "<thead><tr><th>str7</th><th>float64</th><th>int64</th></tr></thead>\n",
       "<tr><td>source1</td><td>1.1</td><td>1</td></tr>\n",
       "<tr><td>source2</td><td>1.2</td><td>2</td></tr>\n",
       "<tr><td>source3</td><td>1.3</td><td>6</td></tr>\n",
       "</table>"
      ],
      "text/plain": [
       "<Table length=3>\n",
       "  name    flux   size\n",
       "  str7  float64 int64\n",
       "------- ------- -----\n",
       "source1     1.1     1\n",
       "source2     1.2     2\n",
       "source3     1.3     6"
      ]
     },
     "execution_count": 50,
     "metadata": {},
     "output_type": "execute_result"
    }
   ],
   "source": [
    "t1['size'] = [1, 2, 6]\n",
    "t1"
   ]
  },
  {
   "cell_type": "markdown",
   "metadata": {},
   "source": [
    "Access the values in a column:"
   ]
  },
  {
   "cell_type": "code",
   "execution_count": 51,
   "metadata": {},
   "outputs": [
    {
     "data": {
      "text/html": [
       "&lt;Column name=&apos;size&apos; dtype=&apos;int64&apos; length=3&gt;\n",
       "<table>\n",
       "<tr><td>1</td></tr>\n",
       "<tr><td>2</td></tr>\n",
       "<tr><td>6</td></tr>\n",
       "</table>"
      ],
      "text/plain": [
       "<Column name='size' dtype='int64' length=3>\n",
       "1\n",
       "2\n",
       "6"
      ]
     },
     "execution_count": 51,
     "metadata": {},
     "output_type": "execute_result"
    }
   ],
   "source": [
    "t1[\"size\"]"
   ]
  },
  {
   "cell_type": "code",
   "execution_count": 52,
   "metadata": {},
   "outputs": [
    {
     "data": {
      "text/plain": [
       "1.2"
      ]
     },
     "execution_count": 52,
     "metadata": {},
     "output_type": "execute_result"
    }
   ],
   "source": [
    "t1[\"flux\"][1]"
   ]
  },
  {
   "cell_type": "markdown",
   "metadata": {},
   "source": [
    "Convert the column to a Numpy array:"
   ]
  },
  {
   "cell_type": "code",
   "execution_count": 53,
   "metadata": {},
   "outputs": [
    {
     "data": {
      "text/plain": [
       "array([1, 2, 6])"
      ]
     },
     "execution_count": 53,
     "metadata": {},
     "output_type": "execute_result"
    }
   ],
   "source": [
    "import numpy as np\n",
    "np.array(t1[\"size\"])"
   ]
  },
  {
   "cell_type": "markdown",
   "metadata": {},
   "source": [
    "Access individual cells:"
   ]
  },
  {
   "cell_type": "code",
   "execution_count": 54,
   "metadata": {},
   "outputs": [
    {
     "data": {
      "text/plain": [
       "'source1'"
      ]
     },
     "execution_count": 54,
     "metadata": {},
     "output_type": "execute_result"
    }
   ],
   "source": [
    "t1[0][0]"
   ]
  },
  {
   "cell_type": "markdown",
   "metadata": {},
   "source": [
    "And access rows:"
   ]
  },
  {
   "cell_type": "code",
   "execution_count": 55,
   "metadata": {},
   "outputs": [
    {
     "data": {
      "text/html": [
       "<i>Row index=0</i>\n",
       "<table id=\"table140016567131200\">\n",
       "<thead><tr><th>name</th><th>flux</th><th>size</th></tr></thead>\n",
       "<thead><tr><th>str7</th><th>float64</th><th>int64</th></tr></thead>\n",
       "<tr><td>source1</td><td>1.1</td><td>1</td></tr>\n",
       "</table>"
      ],
      "text/plain": [
       "<Row index=0>\n",
       "  name    flux   size\n",
       "  str7  float64 int64\n",
       "------- ------- -----\n",
       "source1     1.1     1"
      ]
     },
     "execution_count": 55,
     "metadata": {},
     "output_type": "execute_result"
    }
   ],
   "source": [
    "t1[0]"
   ]
  },
  {
   "cell_type": "markdown",
   "metadata": {},
   "source": [
    "## Units in tables\n",
    "\n",
    "Table columns can include units:"
   ]
  },
  {
   "cell_type": "code",
   "execution_count": 56,
   "metadata": {},
   "outputs": [
    {
     "data": {
      "text/html": [
       "<i>Table length=3</i>\n",
       "<table id=\"table140016567131200\" class=\"table-striped table-bordered table-condensed\">\n",
       "<thead><tr><th>name</th><th>flux</th><th>size</th></tr></thead>\n",
       "<thead><tr><th></th><th>mJy</th><th>cm</th></tr></thead>\n",
       "<thead><tr><th>str7</th><th>float64</th><th>int64</th></tr></thead>\n",
       "<tr><td>source1</td><td>1.1</td><td>1</td></tr>\n",
       "<tr><td>source2</td><td>1.2</td><td>2</td></tr>\n",
       "<tr><td>source3</td><td>1.3</td><td>6</td></tr>\n",
       "</table>"
      ],
      "text/plain": [
       "<Table length=3>\n",
       "  name    flux   size\n",
       "          mJy     cm \n",
       "  str7  float64 int64\n",
       "------- ------- -----\n",
       "source1     1.1     1\n",
       "source2     1.2     2\n",
       "source3     1.3     6"
      ]
     },
     "execution_count": 56,
     "metadata": {},
     "output_type": "execute_result"
    }
   ],
   "source": [
    "from astropy import units as u\n",
    "t1[\"size\"].unit = u.cm\n",
    "t1[\"flux\"].unit = \"mJy\"\n",
    "t1"
   ]
  },
  {
   "cell_type": "markdown",
   "metadata": {},
   "source": [
    "Some unitful operations will then work:"
   ]
  },
  {
   "cell_type": "code",
   "execution_count": 57,
   "metadata": {},
   "outputs": [
    {
     "data": {
      "text/latex": [
       "$[0.01,~0.02,~0.06] \\; \\mathrm{m}$"
      ],
      "text/plain": [
       "<Quantity [0.01, 0.02, 0.06] m>"
      ]
     },
     "execution_count": 57,
     "metadata": {},
     "output_type": "execute_result"
    }
   ],
   "source": [
    "t1['size'].to(\"m\")"
   ]
  },
  {
   "cell_type": "code",
   "execution_count": 58,
   "metadata": {},
   "outputs": [
    {
     "data": {
      "text/plain": [
       "astropy.units.quantity.Quantity"
      ]
     },
     "execution_count": 58,
     "metadata": {},
     "output_type": "execute_result"
    }
   ],
   "source": [
    "type(t1['size'].to(\"m\"))"
   ]
  },
  {
   "cell_type": "code",
   "execution_count": 59,
   "metadata": {},
   "outputs": [
    {
     "data": {
      "text/plain": [
       "astropy.table.column.Column"
      ]
     },
     "execution_count": 59,
     "metadata": {},
     "output_type": "execute_result"
    }
   ],
   "source": [
    "type(t1['size'])"
   ]
  },
  {
   "cell_type": "markdown",
   "metadata": {},
   "source": [
    "However, you may run into unexpected behavior, so if you are planning on using table columns as Quantities, we recommend that you use the ``QTable`` class:"
   ]
  },
  {
   "cell_type": "code",
   "execution_count": 60,
   "metadata": {},
   "outputs": [],
   "source": [
    "from astropy.table import QTable\n",
    "qt1 = QTable(t1)"
   ]
  },
  {
   "cell_type": "code",
   "execution_count": 61,
   "metadata": {},
   "outputs": [
    {
     "data": {
      "text/html": [
       "<i>QTable length=3</i>\n",
       "<table id=\"table140016567131680\" class=\"table-striped table-bordered table-condensed\">\n",
       "<thead><tr><th>name</th><th>flux</th><th>size</th></tr></thead>\n",
       "<thead><tr><th></th><th>mJy</th><th>cm</th></tr></thead>\n",
       "<thead><tr><th>str7</th><th>float64</th><th>float64</th></tr></thead>\n",
       "<tr><td>source1</td><td>1.1</td><td>1.0</td></tr>\n",
       "<tr><td>source2</td><td>1.2</td><td>2.0</td></tr>\n",
       "<tr><td>source3</td><td>1.3</td><td>6.0</td></tr>\n",
       "</table>"
      ],
      "text/plain": [
       "<QTable length=3>\n",
       "  name    flux    size \n",
       "          mJy      cm  \n",
       "  str7  float64 float64\n",
       "------- ------- -------\n",
       "source1     1.1     1.0\n",
       "source2     1.2     2.0\n",
       "source3     1.3     6.0"
      ]
     },
     "execution_count": 61,
     "metadata": {},
     "output_type": "execute_result"
    }
   ],
   "source": [
    "qt1"
   ]
  },
  {
   "cell_type": "code",
   "execution_count": 62,
   "metadata": {},
   "outputs": [
    {
     "data": {
      "text/plain": [
       "astropy.units.quantity.Quantity"
      ]
     },
     "execution_count": 62,
     "metadata": {},
     "output_type": "execute_result"
    }
   ],
   "source": [
    "type(qt1['size'])"
   ]
  },
  {
   "cell_type": "markdown",
   "metadata": {},
   "source": [
    "\n",
    "<section class=\"challenge panel panel-success\">\n",
    "<div class=\"panel-heading\">\n",
    "<h2><span class=\"fa fa-pencil\"></span> Challenge</h2>\n",
    "</div>\n",
    "\n",
    "\n",
    "<div class=\"panel-body\">\n",
    "\n",
    "<ol>\n",
    "<li>Make a table that contains three columns: <code>spectral type</code>, <code>temperature</code>, and <code>radius</code>, and incude 5 rows with fake data (or real data if you like, for example from <a href=\"http://www.atlasoftheuniverse.com/startype.html\">here</a>). Try including units on the columns that can have them.</li>\n",
    "<li>Find the mean temperature and the maximum radius</li>\n",
    "<li>Try and find out how to add and remove rows</li>\n",
    "<li>Add a new column which gives the luminosity (using $L=4\\pi R^2 \\sigma T^4$)</li>\n",
    "</ol>\n",
    "\n",
    "</div>\n",
    "\n",
    "</section>\n"
   ]
  },
  {
   "cell_type": "code",
   "execution_count": 73,
   "metadata": {},
   "outputs": [],
   "source": [
    "t3 = QTable()\n",
    "t3[\"spectType\"] = ['source1', \"source2\", \"source3\"]\n",
    "t3[\"radius\"] = [1.1, 1.2, 1.3]\n",
    "t3[\"temperature\"] = [4000, 5000, 6000]"
   ]
  },
  {
   "cell_type": "code",
   "execution_count": 74,
   "metadata": {},
   "outputs": [
    {
     "data": {
      "text/plain": [
       "5000.0"
      ]
     },
     "execution_count": 74,
     "metadata": {},
     "output_type": "execute_result"
    }
   ],
   "source": [
    "t3['temperature'].mean()"
   ]
  },
  {
   "cell_type": "code",
   "execution_count": 75,
   "metadata": {},
   "outputs": [
    {
     "data": {
      "text/plain": [
       "1.3"
      ]
     },
     "execution_count": 75,
     "metadata": {},
     "output_type": "execute_result"
    }
   ],
   "source": [
    "t3[\"radius\"].max()"
   ]
  },
  {
   "cell_type": "code",
   "execution_count": 76,
   "metadata": {},
   "outputs": [],
   "source": [
    "import astropy.constants as consts\n",
    "t3[\"luminosity\"] = 4*np.pi*t3['radius']**2*consts.sigma_sb*t3['temperature']"
   ]
  },
  {
   "cell_type": "code",
   "execution_count": 78,
   "metadata": {},
   "outputs": [
    {
     "data": {
      "text/html": [
       "<i>QTable length=3</i>\n",
       "<table id=\"table140016555161296\" class=\"table-striped table-bordered table-condensed\">\n",
       "<thead><tr><th>spectType</th><th>radius</th><th>temperature</th><th>luminosity</th></tr></thead>\n",
       "<thead><tr><th></th><th></th><th></th><th>W / (K4 m2)</th></tr></thead>\n",
       "<thead><tr><th>str7</th><th>float64</th><th>int64</th><th>float64</th></tr></thead>\n",
       "<tr><td>source1</td><td>1.1</td><td>4000</td><td>0.0034487916813248157</td></tr>\n",
       "<tr><td>source2</td><td>1.2</td><td>5000</td><td>0.0051304339061030305</td></tr>\n",
       "<tr><td>source3</td><td>1.3</td><td>6000</td><td>0.007225361084428435</td></tr>\n",
       "</table>"
      ],
      "text/plain": [
       "<QTable length=3>\n",
       "spectType  radius temperature       luminosity     \n",
       "                                   W / (K4 m2)     \n",
       "   str7   float64    int64           float64       \n",
       "--------- ------- ----------- ---------------------\n",
       "  source1     1.1        4000 0.0034487916813248157\n",
       "  source2     1.2        5000 0.0051304339061030305\n",
       "  source3     1.3        6000  0.007225361084428435"
      ]
     },
     "execution_count": 78,
     "metadata": {},
     "output_type": "execute_result"
    }
   ],
   "source": [
    "t3"
   ]
  },
  {
   "cell_type": "markdown",
   "metadata": {},
   "source": [
    "## Iterating over tables"
   ]
  },
  {
   "cell_type": "markdown",
   "metadata": {},
   "source": [
    "It is possible to iterate over rows or over columns. To iterate over rows, iterate over the table itself:"
   ]
  },
  {
   "cell_type": "code",
   "execution_count": 63,
   "metadata": {},
   "outputs": [
    {
     "name": "stdout",
     "output_type": "stream",
     "text": [
      "  name  flux size\n",
      "        mJy   cm \n",
      "------- ---- ----\n",
      "source1  1.1    1\n",
      "  name  flux size\n",
      "        mJy   cm \n",
      "------- ---- ----\n",
      "source2  1.2    2\n",
      "  name  flux size\n",
      "        mJy   cm \n",
      "------- ---- ----\n",
      "source3  1.3    6\n"
     ]
    }
   ],
   "source": [
    "for row in t1:\n",
    "    print(row)"
   ]
  },
  {
   "cell_type": "markdown",
   "metadata": {},
   "source": [
    "Rows can act like dictionaries, so you can access specific columns from a row:"
   ]
  },
  {
   "cell_type": "code",
   "execution_count": 67,
   "metadata": {},
   "outputs": [
    {
     "name": "stdout",
     "output_type": "stream",
     "text": [
      "1\n",
      "2\n",
      "6\n"
     ]
    }
   ],
   "source": [
    "for row in t1:\n",
    "    print(row['size'])"
   ]
  },
  {
   "cell_type": "code",
   "execution_count": 70,
   "metadata": {},
   "outputs": [
    {
     "name": "stdout",
     "output_type": "stream",
     "text": [
      "1.0 cm\n",
      "2.0 cm\n",
      "6.0 cm\n"
     ]
    }
   ],
   "source": [
    "for row in qt1:\n",
    "    print(row['size'])"
   ]
  },
  {
   "cell_type": "markdown",
   "metadata": {},
   "source": [
    "Iterating over columns is also easy:"
   ]
  },
  {
   "cell_type": "code",
   "execution_count": 69,
   "metadata": {},
   "outputs": [
    {
     "name": "stdout",
     "output_type": "stream",
     "text": [
      "name\n",
      "flux\n",
      "size\n"
     ]
    }
   ],
   "source": [
    "for col in t1.columns:\n",
    "    print(col)"
   ]
  },
  {
   "cell_type": "code",
   "execution_count": 68,
   "metadata": {},
   "outputs": [
    {
     "name": "stdout",
     "output_type": "stream",
     "text": [
      "source1\n",
      "1.1\n",
      "1\n"
     ]
    }
   ],
   "source": [
    "for colname in t1.columns:\n",
    "    column = t1[colname]\n",
    "    print(column[0])"
   ]
  },
  {
   "cell_type": "markdown",
   "metadata": {},
   "source": [
    "Accessing specific rows from a column object can be done with the item notation:"
   ]
  },
  {
   "cell_type": "code",
   "execution_count": 71,
   "metadata": {},
   "outputs": [
    {
     "data": {
      "text/plain": [
       "1"
      ]
     },
     "execution_count": 71,
     "metadata": {},
     "output_type": "execute_result"
    }
   ],
   "source": [
    "t1[\"size\"][0]"
   ]
  },
  {
   "cell_type": "markdown",
   "metadata": {},
   "source": [
    "## Joining tables\n",
    "\n",
    "The astropy.table sub-package provides a few useful functions for stacking/combining tables. For example, we can do a 'join':"
   ]
  },
  {
   "cell_type": "code",
   "execution_count": 94,
   "metadata": {},
   "outputs": [],
   "source": [
    "t2 = Table()\n",
    "t2['name'] = ['source1', 'source3']\n",
    "t2['flux2'] = [1, 9]"
   ]
  },
  {
   "cell_type": "code",
   "execution_count": 95,
   "metadata": {},
   "outputs": [],
   "source": [
    "from astropy.table import join"
   ]
  },
  {
   "cell_type": "code",
   "execution_count": 96,
   "metadata": {},
   "outputs": [
    {
     "data": {
      "text/html": [
       "<i>Table length=3</i>\n",
       "<table id=\"table140016555161248\" class=\"table-striped table-bordered table-condensed\">\n",
       "<thead><tr><th>name</th><th>flux</th><th>size</th><th>flux2</th></tr></thead>\n",
       "<thead><tr><th></th><th>mJy</th><th>cm</th><th></th></tr></thead>\n",
       "<thead><tr><th>str7</th><th>float64</th><th>int64</th><th>int64</th></tr></thead>\n",
       "<tr><td>source1</td><td>1.1</td><td>1</td><td>1</td></tr>\n",
       "<tr><td>source2</td><td>1.2</td><td>2</td><td>--</td></tr>\n",
       "<tr><td>source3</td><td>1.3</td><td>6</td><td>9</td></tr>\n",
       "</table>"
      ],
      "text/plain": [
       "<Table length=3>\n",
       "  name    flux   size flux2\n",
       "          mJy     cm       \n",
       "  str7  float64 int64 int64\n",
       "------- ------- ----- -----\n",
       "source1     1.1     1     1\n",
       "source2     1.2     2    --\n",
       "source3     1.3     6     9"
      ]
     },
     "execution_count": 96,
     "metadata": {},
     "output_type": "execute_result"
    }
   ],
   "source": [
    "t3 = join(t1, t2, join_type=\"outer\")\n",
    "t3"
   ]
  },
  {
   "cell_type": "code",
   "execution_count": 85,
   "metadata": {},
   "outputs": [
    {
     "data": {
      "text/plain": [
       "5.0"
      ]
     },
     "execution_count": 85,
     "metadata": {},
     "output_type": "execute_result"
    }
   ],
   "source": [
    "np.mean(t3[\"flux2\"])"
   ]
  },
  {
   "cell_type": "code",
   "execution_count": 86,
   "metadata": {},
   "outputs": [
    {
     "data": {
      "text/plain": [
       "5.0"
      ]
     },
     "execution_count": 86,
     "metadata": {},
     "output_type": "execute_result"
    }
   ],
   "source": [
    "t3[\"flux2\"].mean()"
   ]
  },
  {
   "cell_type": "markdown",
   "metadata": {},
   "source": [
    "## Masked tables\n",
    "\n",
    "It is possible to mask individual cells in tables:"
   ]
  },
  {
   "cell_type": "code",
   "execution_count": 97,
   "metadata": {},
   "outputs": [],
   "source": [
    "t4 = Table(masked=True)"
   ]
  },
  {
   "cell_type": "code",
   "execution_count": 98,
   "metadata": {},
   "outputs": [],
   "source": [
    "t4['id'] = [4, 5, 6]\n",
    "t4[\"flux\"] = [1.3, 1.5, 1.6]"
   ]
  },
  {
   "cell_type": "code",
   "execution_count": 99,
   "metadata": {},
   "outputs": [
    {
     "data": {
      "text/html": [
       "<i>Table masked=True length=3</i>\n",
       "<table id=\"table140016567128224\" class=\"table-striped table-bordered table-condensed\">\n",
       "<thead><tr><th>id</th><th>flux</th></tr></thead>\n",
       "<thead><tr><th>int64</th><th>float64</th></tr></thead>\n",
       "<tr><td>4</td><td>1.3</td></tr>\n",
       "<tr><td>5</td><td>1.5</td></tr>\n",
       "<tr><td>6</td><td>1.6</td></tr>\n",
       "</table>"
      ],
      "text/plain": [
       "<Table masked=True length=3>\n",
       "  id    flux \n",
       "int64 float64\n",
       "----- -------\n",
       "    4     1.3\n",
       "    5     1.5\n",
       "    6     1.6"
      ]
     },
     "execution_count": 99,
     "metadata": {},
     "output_type": "execute_result"
    }
   ],
   "source": [
    "t4"
   ]
  },
  {
   "cell_type": "code",
   "execution_count": 100,
   "metadata": {},
   "outputs": [
    {
     "data": {
      "text/html": [
       "<i>Table masked=True length=3</i>\n",
       "<table id=\"table140016567128224\" class=\"table-striped table-bordered table-condensed\">\n",
       "<thead><tr><th>id</th><th>flux</th></tr></thead>\n",
       "<thead><tr><th>int64</th><th>float64</th></tr></thead>\n",
       "<tr><td>4</td><td>--</td></tr>\n",
       "<tr><td>5</td><td>1.5</td></tr>\n",
       "<tr><td>6</td><td>--</td></tr>\n",
       "</table>"
      ],
      "text/plain": [
       "<Table masked=True length=3>\n",
       "  id    flux \n",
       "int64 float64\n",
       "----- -------\n",
       "    4      --\n",
       "    5     1.5\n",
       "    6      --"
      ]
     },
     "execution_count": 100,
     "metadata": {},
     "output_type": "execute_result"
    }
   ],
   "source": [
    "#second flux is the only correct one\n",
    "# where the mask is true (1) it masks it out else keeps\n",
    "t4['flux'].mask = [1, 0, 1]\n",
    "t4"
   ]
  },
  {
   "cell_type": "markdown",
   "metadata": {},
   "source": [
    "## Using high-level objects as columns\n",
    "\n",
    "A few specific astropy high-level objects can be used as columns in table - this includes SkyCoord and Time:"
   ]
  },
  {
   "cell_type": "code",
   "execution_count": 104,
   "metadata": {},
   "outputs": [],
   "source": [
    "from astropy.time import Time\n",
    "from astropy.coordinates import SkyCoord"
   ]
  },
  {
   "cell_type": "code",
   "execution_count": 111,
   "metadata": {},
   "outputs": [
    {
     "data": {
      "text/html": [
       "<i>Table length=3</i>\n",
       "<table id=\"table140016545681760\" class=\"table-striped table-bordered table-condensed\">\n",
       "<thead><tr><th>time</th><th>coord</th><th>flux</th></tr></thead>\n",
       "<thead><tr><th></th><th>deg,deg</th><th>mJy</th></tr></thead>\n",
       "<thead><tr><th>object</th><th>object</th><th>float64</th></tr></thead>\n",
       "<tr><td>5000000.0</td><td>1.0,4.0</td><td>1.0</td></tr>\n",
       "<tr><td>5100000.0</td><td>2.0,5.0</td><td>5.0</td></tr>\n",
       "<tr><td>5200000.0</td><td>3.0,6.0</td><td>4.0</td></tr>\n",
       "</table>"
      ],
      "text/plain": [
       "<Table length=3>\n",
       "   time    coord    flux \n",
       "          deg,deg   mJy  \n",
       "  object   object float64\n",
       "--------- ------- -------\n",
       "5000000.0 1.0,4.0     1.0\n",
       "5100000.0 2.0,5.0     5.0\n",
       "5200000.0 3.0,6.0     4.0"
      ]
     },
     "execution_count": 111,
     "metadata": {},
     "output_type": "execute_result"
    }
   ],
   "source": [
    "t6 = Table()\n",
    "t6[\"time\"] = Time([5000000, 5100000, 5200000], format=\"mjd\")\n",
    "t6[\"coord\"] = SkyCoord([1, 2, 3]*u.deg, [4, 5, 6]*u.deg)\n",
    "t6[\"flux\"] = [1, 5, 4] * u.mJy\n",
    "t6"
   ]
  },
  {
   "cell_type": "code",
   "execution_count": 113,
   "metadata": {},
   "outputs": [
    {
     "data": {
      "text/plain": [
       "<SkyCoord (ICRS): (ra, dec) in deg\n",
       "    [(1., 4.), (2., 5.), (3., 6.)]>"
      ]
     },
     "execution_count": 113,
     "metadata": {},
     "output_type": "execute_result"
    }
   ],
   "source": [
    "t6['coord']"
   ]
  },
  {
   "cell_type": "markdown",
   "metadata": {},
   "source": [
    "Note however that you may not necessarily be able to write this table to a file and get it back intact, since being able to store this kind of information is not possible in all file formats."
   ]
  },
  {
   "cell_type": "markdown",
   "metadata": {},
   "source": [
    "## Slicing\n",
    "\n",
    "Tables can be sliced like Numpy arrays:"
   ]
  },
  {
   "cell_type": "code",
   "execution_count": 114,
   "metadata": {},
   "outputs": [],
   "source": [
    "obs = Table(rows=[('M31' , '2012-01-02', 17.0, 17.5),\n",
    "                  ('M31' , '2012-01-02', 17.1, 17.4),\n",
    "                  ('M101', '2012-01-02', 15.1, 13.5),\n",
    "                  ('M82' , '2012-02-14', 16.2, 14.5),\n",
    "                  ('M31' , '2012-02-14', 16.9, 17.3),\n",
    "                  ('M82' , '2012-02-14', 15.2, 15.5),\n",
    "                  ('M101', '2012-02-14', 15.0, 13.6),\n",
    "                  ('M82' , '2012-03-26', 15.7, 16.5),\n",
    "                  ('M101', '2012-03-26', 15.1, 13.5),\n",
    "                  ('M101', '2012-03-26', 14.8, 14.3)],\n",
    "            names=['name', 'obs_date', 'mag_b', 'mag_v'])"
   ]
  },
  {
   "cell_type": "code",
   "execution_count": 115,
   "metadata": {},
   "outputs": [
    {
     "data": {
      "text/html": [
       "<i>Table length=3</i>\n",
       "<table id=\"table140016545689504\" class=\"table-striped table-bordered table-condensed\">\n",
       "<thead><tr><th>name</th><th>obs_date</th><th>mag_b</th><th>mag_v</th></tr></thead>\n",
       "<thead><tr><th>str4</th><th>str10</th><th>float64</th><th>float64</th></tr></thead>\n",
       "<tr><td>M31</td><td>2012-01-02</td><td>17.1</td><td>17.4</td></tr>\n",
       "<tr><td>M101</td><td>2012-01-02</td><td>15.1</td><td>13.5</td></tr>\n",
       "<tr><td>M82</td><td>2012-02-14</td><td>16.2</td><td>14.5</td></tr>\n",
       "</table>"
      ],
      "text/plain": [
       "<Table length=3>\n",
       "name  obs_date   mag_b   mag_v \n",
       "str4   str10    float64 float64\n",
       "---- ---------- ------- -------\n",
       " M31 2012-01-02    17.1    17.4\n",
       "M101 2012-01-02    15.1    13.5\n",
       " M82 2012-02-14    16.2    14.5"
      ]
     },
     "execution_count": 115,
     "metadata": {},
     "output_type": "execute_result"
    }
   ],
   "source": [
    "obs[1:4]"
   ]
  },
  {
   "cell_type": "code",
   "execution_count": 116,
   "metadata": {},
   "outputs": [
    {
     "data": {
      "text/html": [
       "<i>Table length=5</i>\n",
       "<table id=\"table140016545603888\" class=\"table-striped table-bordered table-condensed\">\n",
       "<thead><tr><th>name</th><th>obs_date</th><th>mag_b</th><th>mag_v</th></tr></thead>\n",
       "<thead><tr><th>str4</th><th>str10</th><th>float64</th><th>float64</th></tr></thead>\n",
       "<tr><td>M31</td><td>2012-01-02</td><td>17.0</td><td>17.5</td></tr>\n",
       "<tr><td>M31</td><td>2012-01-02</td><td>17.1</td><td>17.4</td></tr>\n",
       "<tr><td>M82</td><td>2012-02-14</td><td>16.2</td><td>14.5</td></tr>\n",
       "<tr><td>M31</td><td>2012-02-14</td><td>16.9</td><td>17.3</td></tr>\n",
       "<tr><td>M82</td><td>2012-03-26</td><td>15.7</td><td>16.5</td></tr>\n",
       "</table>"
      ],
      "text/plain": [
       "<Table length=5>\n",
       "name  obs_date   mag_b   mag_v \n",
       "str4   str10    float64 float64\n",
       "---- ---------- ------- -------\n",
       " M31 2012-01-02    17.0    17.5\n",
       " M31 2012-01-02    17.1    17.4\n",
       " M82 2012-02-14    16.2    14.5\n",
       " M31 2012-02-14    16.9    17.3\n",
       " M82 2012-03-26    15.7    16.5"
      ]
     },
     "execution_count": 116,
     "metadata": {},
     "output_type": "execute_result"
    }
   ],
   "source": [
    "obs[obs[\"mag_b\"] > 15.5]"
   ]
  },
  {
   "cell_type": "code",
   "execution_count": 117,
   "metadata": {},
   "outputs": [
    {
     "data": {
      "text/html": [
       "<i>Table length=10</i>\n",
       "<table id=\"table140016545689216\" class=\"table-striped table-bordered table-condensed\">\n",
       "<thead><tr><th>mag_b</th><th>mag_v</th></tr></thead>\n",
       "<thead><tr><th>float64</th><th>float64</th></tr></thead>\n",
       "<tr><td>17.0</td><td>17.5</td></tr>\n",
       "<tr><td>17.1</td><td>17.4</td></tr>\n",
       "<tr><td>15.1</td><td>13.5</td></tr>\n",
       "<tr><td>16.2</td><td>14.5</td></tr>\n",
       "<tr><td>16.9</td><td>17.3</td></tr>\n",
       "<tr><td>15.2</td><td>15.5</td></tr>\n",
       "<tr><td>15.0</td><td>13.6</td></tr>\n",
       "<tr><td>15.7</td><td>16.5</td></tr>\n",
       "<tr><td>15.1</td><td>13.5</td></tr>\n",
       "<tr><td>14.8</td><td>14.3</td></tr>\n",
       "</table>"
      ],
      "text/plain": [
       "<Table length=10>\n",
       " mag_b   mag_v \n",
       "float64 float64\n",
       "------- -------\n",
       "   17.0    17.5\n",
       "   17.1    17.4\n",
       "   15.1    13.5\n",
       "   16.2    14.5\n",
       "   16.9    17.3\n",
       "   15.2    15.5\n",
       "   15.0    13.6\n",
       "   15.7    16.5\n",
       "   15.1    13.5\n",
       "   14.8    14.3"
      ]
     },
     "execution_count": 117,
     "metadata": {},
     "output_type": "execute_result"
    }
   ],
   "source": [
    "obs[\"mag_b\", \"mag_v\"]"
   ]
  },
  {
   "cell_type": "markdown",
   "metadata": {},
   "source": [
    "\n",
    "<section class=\"challenge panel panel-success\">\n",
    "<div class=\"panel-heading\">\n",
    "<h2><span class=\"fa fa-pencil\"></span> Challenge</h2>\n",
    "</div>\n",
    "\n",
    "\n",
    "<div class=\"panel-body\">\n",
    "\n",
    "<p>Starting from the <code>obs</code> table:</p>\n",
    "<ol>\n",
    "<li>Make a new table that shows every other row, starting with the second row? (that is, the second, fourth, sixth, etc. rows).</li>\n",
    "<li>Make a new table the only contains rows where <code>name</code> is <code>M31</code></li>\n",
    "</ol>\n",
    "\n",
    "</div>\n",
    "\n",
    "</section>\n"
   ]
  },
  {
   "cell_type": "code",
   "execution_count": null,
   "metadata": {},
   "outputs": [],
   "source": []
  },
  {
   "cell_type": "code",
   "execution_count": null,
   "metadata": {},
   "outputs": [],
   "source": []
  },
  {
   "cell_type": "markdown",
   "metadata": {},
   "source": [
    "## Grouping and Aggregation"
   ]
  },
  {
   "cell_type": "markdown",
   "metadata": {},
   "source": [
    "It is possible to aggregate rows of a table together - for example, to group the rows by source name in the ``obs`` table, you can do:"
   ]
  },
  {
   "cell_type": "code",
   "execution_count": 118,
   "metadata": {},
   "outputs": [],
   "source": [
    "obs_by_name = obs.group_by(\"name\")"
   ]
  },
  {
   "cell_type": "code",
   "execution_count": 119,
   "metadata": {},
   "outputs": [
    {
     "data": {
      "text/html": [
       "<i>Table length=10</i>\n",
       "<table id=\"table140016568250528\" class=\"table-striped table-bordered table-condensed\">\n",
       "<thead><tr><th>name</th><th>obs_date</th><th>mag_b</th><th>mag_v</th></tr></thead>\n",
       "<thead><tr><th>str4</th><th>str10</th><th>float64</th><th>float64</th></tr></thead>\n",
       "<tr><td>M101</td><td>2012-01-02</td><td>15.1</td><td>13.5</td></tr>\n",
       "<tr><td>M101</td><td>2012-02-14</td><td>15.0</td><td>13.6</td></tr>\n",
       "<tr><td>M101</td><td>2012-03-26</td><td>15.1</td><td>13.5</td></tr>\n",
       "<tr><td>M101</td><td>2012-03-26</td><td>14.8</td><td>14.3</td></tr>\n",
       "<tr><td>M31</td><td>2012-01-02</td><td>17.0</td><td>17.5</td></tr>\n",
       "<tr><td>M31</td><td>2012-01-02</td><td>17.1</td><td>17.4</td></tr>\n",
       "<tr><td>M31</td><td>2012-02-14</td><td>16.9</td><td>17.3</td></tr>\n",
       "<tr><td>M82</td><td>2012-02-14</td><td>16.2</td><td>14.5</td></tr>\n",
       "<tr><td>M82</td><td>2012-02-14</td><td>15.2</td><td>15.5</td></tr>\n",
       "<tr><td>M82</td><td>2012-03-26</td><td>15.7</td><td>16.5</td></tr>\n",
       "</table>"
      ],
      "text/plain": [
       "<Table length=10>\n",
       "name  obs_date   mag_b   mag_v \n",
       "str4   str10    float64 float64\n",
       "---- ---------- ------- -------\n",
       "M101 2012-01-02    15.1    13.5\n",
       "M101 2012-02-14    15.0    13.6\n",
       "M101 2012-03-26    15.1    13.5\n",
       "M101 2012-03-26    14.8    14.3\n",
       " M31 2012-01-02    17.0    17.5\n",
       " M31 2012-01-02    17.1    17.4\n",
       " M31 2012-02-14    16.9    17.3\n",
       " M82 2012-02-14    16.2    14.5\n",
       " M82 2012-02-14    15.2    15.5\n",
       " M82 2012-03-26    15.7    16.5"
      ]
     },
     "execution_count": 119,
     "metadata": {},
     "output_type": "execute_result"
    }
   ],
   "source": [
    "obs_by_name"
   ]
  },
  {
   "cell_type": "markdown",
   "metadata": {},
   "source": [
    "This is not just sorting the values but actually making it possible to access each group of rows:"
   ]
  },
  {
   "cell_type": "code",
   "execution_count": 124,
   "metadata": {},
   "outputs": [
    {
     "name": "stdout",
     "output_type": "stream",
     "text": [
      "name  obs_date  mag_b mag_v\n",
      "---- ---------- ----- -----\n",
      "M101 2012-01-02  15.1  13.5\n",
      "M101 2012-02-14  15.0  13.6\n",
      "M101 2012-03-26  15.1  13.5\n",
      "M101 2012-03-26  14.8  14.3\n",
      "\n",
      "name  obs_date  mag_b mag_v\n",
      "---- ---------- ----- -----\n",
      " M31 2012-01-02  17.0  17.5\n",
      " M31 2012-01-02  17.1  17.4\n",
      " M31 2012-02-14  16.9  17.3\n",
      "\n",
      "name  obs_date  mag_b mag_v\n",
      "---- ---------- ----- -----\n",
      " M82 2012-02-14  16.2  14.5\n",
      " M82 2012-02-14  15.2  15.5\n",
      " M82 2012-03-26  15.7  16.5\n",
      "\n"
     ]
    }
   ],
   "source": [
    "for group in obs_by_name.groups:\n",
    "    print(group, end=\"\\n\\n\")"
   ]
  },
  {
   "cell_type": "markdown",
   "metadata": {},
   "source": [
    "We can then aggregate the rows together in each group using a function:"
   ]
  },
  {
   "cell_type": "code",
   "execution_count": 129,
   "metadata": {},
   "outputs": [
    {
     "data": {
      "text/html": [
       "<i>Table length=3</i>\n",
       "<table id=\"table140016545525616\" class=\"table-striped table-bordered table-condensed\">\n",
       "<thead><tr><th>name</th><th>mag_b</th><th>mag_v</th></tr></thead>\n",
       "<thead><tr><th>str4</th><th>float64</th><th>float64</th></tr></thead>\n",
       "<tr><td>M101</td><td>15.000000000000002</td><td>13.725000000000001</td></tr>\n",
       "<tr><td>M31</td><td>17.0</td><td>17.400000000000002</td></tr>\n",
       "<tr><td>M82</td><td>15.699999999999998</td><td>15.5</td></tr>\n",
       "</table>"
      ],
      "text/plain": [
       "<Table length=3>\n",
       "name       mag_b              mag_v       \n",
       "str4      float64            float64      \n",
       "---- ------------------ ------------------\n",
       "M101 15.000000000000002 13.725000000000001\n",
       " M31               17.0 17.400000000000002\n",
       " M82 15.699999999999998               15.5"
      ]
     },
     "execution_count": 129,
     "metadata": {},
     "output_type": "execute_result"
    }
   ],
   "source": [
    "obs_by_name.groups.aggregate(np.mean)"
   ]
  },
  {
   "cell_type": "markdown",
   "metadata": {},
   "source": [
    "To skip wasting cycles calculating aggregate functions over all columns we can select which column we want to aggregate over"
   ]
  },
  {
   "cell_type": "code",
   "execution_count": 131,
   "metadata": {},
   "outputs": [
    {
     "data": {
      "text/html": [
       "<i>Table length=3</i>\n",
       "<table id=\"table140016545684592\" class=\"table-striped table-bordered table-condensed\">\n",
       "<thead><tr><th>name</th><th>mag_v</th></tr></thead>\n",
       "<thead><tr><th>str4</th><th>float64</th></tr></thead>\n",
       "<tr><td>M101</td><td>13.725000000000001</td></tr>\n",
       "<tr><td>M31</td><td>17.400000000000002</td></tr>\n",
       "<tr><td>M82</td><td>15.5</td></tr>\n",
       "</table>"
      ],
      "text/plain": [
       "<Table length=3>\n",
       "name       mag_v       \n",
       "str4      float64      \n",
       "---- ------------------\n",
       "M101 13.725000000000001\n",
       " M31 17.400000000000002\n",
       " M82               15.5"
      ]
     },
     "execution_count": 131,
     "metadata": {},
     "output_type": "execute_result"
    }
   ],
   "source": [
    "obs_by_name[\"name\", \"mag_v\"].groups.aggregate(np.mean)"
   ]
  },
  {
   "cell_type": "markdown",
   "metadata": {},
   "source": [
    "## Writing data\n",
    "\n",
    "To write out the data, we can use the ``write`` method:"
   ]
  },
  {
   "cell_type": "code",
   "execution_count": 132,
   "metadata": {},
   "outputs": [
    {
     "data": {
      "text/html": [
       "<i>Table length=10</i>\n",
       "<table id=\"table140016545685168\" class=\"table-striped table-bordered table-condensed\">\n",
       "<thead><tr><th>name</th><th>obs_date</th><th>mag_b</th><th>mag_v</th></tr></thead>\n",
       "<thead><tr><th>str4</th><th>str10</th><th>float64</th><th>float64</th></tr></thead>\n",
       "<tr><td>M31</td><td>2012-01-02</td><td>17.0</td><td>17.5</td></tr>\n",
       "<tr><td>M31</td><td>2012-01-02</td><td>17.1</td><td>17.4</td></tr>\n",
       "<tr><td>M101</td><td>2012-01-02</td><td>15.1</td><td>13.5</td></tr>\n",
       "<tr><td>M82</td><td>2012-02-14</td><td>16.2</td><td>14.5</td></tr>\n",
       "<tr><td>M31</td><td>2012-02-14</td><td>16.9</td><td>17.3</td></tr>\n",
       "<tr><td>M82</td><td>2012-02-14</td><td>15.2</td><td>15.5</td></tr>\n",
       "<tr><td>M101</td><td>2012-02-14</td><td>15.0</td><td>13.6</td></tr>\n",
       "<tr><td>M82</td><td>2012-03-26</td><td>15.7</td><td>16.5</td></tr>\n",
       "<tr><td>M101</td><td>2012-03-26</td><td>15.1</td><td>13.5</td></tr>\n",
       "<tr><td>M101</td><td>2012-03-26</td><td>14.8</td><td>14.3</td></tr>\n",
       "</table>"
      ],
      "text/plain": [
       "<Table length=10>\n",
       "name  obs_date   mag_b   mag_v \n",
       "str4   str10    float64 float64\n",
       "---- ---------- ------- -------\n",
       " M31 2012-01-02    17.0    17.5\n",
       " M31 2012-01-02    17.1    17.4\n",
       "M101 2012-01-02    15.1    13.5\n",
       " M82 2012-02-14    16.2    14.5\n",
       " M31 2012-02-14    16.9    17.3\n",
       " M82 2012-02-14    15.2    15.5\n",
       "M101 2012-02-14    15.0    13.6\n",
       " M82 2012-03-26    15.7    16.5\n",
       "M101 2012-03-26    15.1    13.5\n",
       "M101 2012-03-26    14.8    14.3"
      ]
     },
     "execution_count": 132,
     "metadata": {},
     "output_type": "execute_result"
    }
   ],
   "source": [
    "obs"
   ]
  },
  {
   "cell_type": "code",
   "execution_count": 134,
   "metadata": {},
   "outputs": [],
   "source": [
    "obs.write(\"test2.fits\")"
   ]
  },
  {
   "cell_type": "code",
   "execution_count": 135,
   "metadata": {},
   "outputs": [],
   "source": [
    "obs.write(\"test2.tex\")"
   ]
  },
  {
   "cell_type": "markdown",
   "metadata": {},
   "source": [
    "In some cases the format will be inferred from the extension, but only in unambiguous cases - otherwise the format has to be specified explicitly:"
   ]
  },
  {
   "cell_type": "code",
   "execution_count": 137,
   "metadata": {},
   "outputs": [],
   "source": [
    "obs.write(\"test2.vot\", format=\"votable\")"
   ]
  },
  {
   "cell_type": "markdown",
   "metadata": {},
   "source": [
    "You can find the [list of supported formats](https://docs.astropy.org/en/stable/io/unified.html#built-in-table-readers-writers) in the documentation."
   ]
  },
  {
   "cell_type": "markdown",
   "metadata": {},
   "source": [
    "## Reading data\n",
    "\n",
    "You can also easily read in tables using the ``read`` method:"
   ]
  },
  {
   "cell_type": "code",
   "execution_count": 140,
   "metadata": {},
   "outputs": [
    {
     "data": {
      "text/html": [
       "<i>Table length=929</i>\n",
       "<table id=\"table140016545681952\" class=\"table-striped table-bordered table-condensed\">\n",
       "<thead><tr><th>ra</th><th>dec</th><th>clon</th><th>clat</th><th>err_maj</th><th>err_min</th><th>err_ang</th><th>designation</th><th>j_m</th><th>j_cmsig</th><th>j_msigcom</th><th>j_snr</th><th>h_m</th><th>h_cmsig</th><th>h_msigcom</th><th>h_snr</th><th>k_m</th><th>k_cmsig</th><th>k_msigcom</th><th>k_snr</th><th>ph_qual</th><th>rd_flg</th><th>bl_flg</th><th>cc_flg</th><th>ndet</th><th>gal_contam</th><th>mp_flg</th><th>dist</th><th>angle</th><th>j_h</th><th>h_k</th><th>j_k</th></tr></thead>\n",
       "<thead><tr><th>deg</th><th>deg</th><th></th><th></th><th>arcsec</th><th>arcsec</th><th>deg</th><th></th><th>mag</th><th>mag</th><th>mag</th><th></th><th>mag</th><th>mag</th><th>mag</th><th></th><th>mag</th><th>mag</th><th>mag</th><th></th><th></th><th></th><th></th><th></th><th></th><th></th><th></th><th></th><th></th><th></th><th></th><th></th></tr></thead>\n",
       "<thead><tr><th>float64</th><th>float64</th><th>str12</th><th>str13</th><th>float64</th><th>float64</th><th>int64</th><th>str16</th><th>float64</th><th>float64</th><th>float64</th><th>float64</th><th>float64</th><th>float64</th><th>float64</th><th>float64</th><th>float64</th><th>float64</th><th>float64</th><th>float64</th><th>str3</th><th>str3</th><th>str3</th><th>str3</th><th>str6</th><th>int64</th><th>int64</th><th>float64</th><th>float64</th><th>float64</th><th>float64</th><th>float64</th></tr></thead>\n",
       "<tr><td>274.429506</td><td>-13.870547</td><td>18h17m43.08s</td><td>-13d52m13.97s</td><td>0.08</td><td>0.08</td><td>45</td><td>18174308-1352139</td><td>16.305</td><td>0.142</td><td>0.143</td><td>6.7</td><td>14.048</td><td>0.107</td><td>0.108</td><td>13.6</td><td>13.257</td><td>0.066</td><td>0.066</td><td>16.5</td><td>CAA</td><td>222</td><td>111</td><td>0ss</td><td>066655</td><td>0</td><td>0</td><td>975.080151</td><td>256.448</td><td>2.257</td><td>0.791</td><td>3.048</td></tr>\n",
       "<tr><td>274.423821</td><td>-13.86974</td><td>18h17m41.72s</td><td>-13d52m11.06s</td><td>0.06</td><td>0.06</td><td>90</td><td>18174171-1352110</td><td>14.802</td><td>0.058</td><td>0.059</td><td>26.7</td><td>12.635</td><td>0.059</td><td>0.06</td><td>50.1</td><td>11.768</td><td>0.045</td><td>0.046</td><td>65.2</td><td>AAA</td><td>222</td><td>111</td><td>0ss</td><td>666666</td><td>0</td><td>0</td><td>993.752042</td><td>256.878</td><td>2.167</td><td>0.867</td><td>3.034</td></tr>\n",
       "<tr><td>274.424587</td><td>-13.739629</td><td>18h17m41.90s</td><td>-13d44m22.66s</td><td>0.08</td><td>0.08</td><td>45</td><td>18174190-1344226</td><td>16.328</td><td>--</td><td>--</td><td>--</td><td>14.345</td><td>0.059</td><td>0.06</td><td>10.4</td><td>13.405</td><td>0.046</td><td>0.047</td><td>14.4</td><td>UAA</td><td>022</td><td>011</td><td>0cc</td><td>003666</td><td>0</td><td>0</td><td>995.726698</td><td>284.113</td><td>--</td><td>0.94</td><td>--</td></tr>\n",
       "<tr><td>274.433933</td><td>-13.769502</td><td>18h17m44.14s</td><td>-13d46m10.21s</td><td>0.08</td><td>0.08</td><td>45</td><td>18174414-1346102</td><td>16.281</td><td>0.098</td><td>0.099</td><td>6.8</td><td>14.057</td><td>0.035</td><td>0.036</td><td>13.5</td><td>12.956</td><td>0.032</td><td>0.033</td><td>21.8</td><td>CAA</td><td>222</td><td>111</td><td>000</td><td>065566</td><td>0</td><td>0</td><td>942.627418</td><td>278.252</td><td>2.224</td><td>1.101</td><td>3.325</td></tr>\n",
       "<tr><td>274.437013</td><td>-13.885698</td><td>18h17m44.88s</td><td>-13d53m08.51s</td><td>0.09</td><td>0.09</td><td>45</td><td>18174488-1353085</td><td>15.171</td><td>--</td><td>--</td><td>--</td><td>14.412</td><td>0.152</td><td>0.152</td><td>9.8</td><td>13.742</td><td>0.095</td><td>0.095</td><td>10.6</td><td>UBA</td><td>622</td><td>022</td><td>0cc</td><td>005566</td><td>0</td><td>0</td><td>964.105389</td><td>252.93</td><td>--</td><td>0.67</td><td>--</td></tr>\n",
       "<tr><td>274.433996</td><td>-13.752446</td><td>18h17m44.16s</td><td>-13d45m08.81s</td><td>0.08</td><td>0.08</td><td>90</td><td>18174415-1345088</td><td>16.54</td><td>--</td><td>--</td><td>--</td><td>14.519</td><td>0.083</td><td>0.083</td><td>8.8</td><td>13.604</td><td>0.043</td><td>0.044</td><td>12.0</td><td>UBA</td><td>022</td><td>011</td><td>0cc</td><td>005666</td><td>0</td><td>0</td><td>953.230532</td><td>281.908</td><td>--</td><td>0.915</td><td>--</td></tr>\n",
       "<tr><td>274.418138</td><td>-13.77215</td><td>18h17m40.35s</td><td>-13d46m19.74s</td><td>0.08</td><td>0.08</td><td>90</td><td>18174035-1346197</td><td>17.98</td><td>--</td><td>--</td><td>--</td><td>14.61</td><td>0.043</td><td>0.044</td><td>8.1</td><td>13.456</td><td>0.056</td><td>0.057</td><td>13.8</td><td>UBA</td><td>022</td><td>011</td><td>000</td><td>001645</td><td>0</td><td>0</td><td>996.047248</td><td>277.25</td><td>--</td><td>1.154</td><td>--</td></tr>\n",
       "<tr><td>274.433695</td><td>-13.899049</td><td>18h17m44.09s</td><td>-13d53m56.58s</td><td>0.06</td><td>0.06</td><td>90</td><td>18174408-1353565</td><td>13.011</td><td>0.021</td><td>0.024</td><td>139.0</td><td>10.917</td><td>0.02</td><td>0.021</td><td>243.8</td><td>10.013</td><td>0.017</td><td>0.019</td><td>328.3</td><td>AAA</td><td>222</td><td>111</td><td>000</td><td>666666</td><td>0</td><td>0</td><td>990.166399</td><td>250.466</td><td>2.094</td><td>0.904</td><td>2.998</td></tr>\n",
       "<tr><td>274.425482</td><td>-13.77149</td><td>18h17m42.12s</td><td>-13d46m17.36s</td><td>0.08</td><td>0.08</td><td>135</td><td>18174211-1346173</td><td>16.086</td><td>--</td><td>--</td><td>--</td><td>13.709</td><td>0.065</td><td>0.066</td><td>18.6</td><td>12.503</td><td>0.044</td><td>0.045</td><td>33.1</td><td>UAA</td><td>622</td><td>012</td><td>00c</td><td>005555</td><td>0</td><td>0</td><td>970.896919</td><td>277.582</td><td>--</td><td>1.206</td><td>--</td></tr>\n",
       "<tr><td>...</td><td>...</td><td>...</td><td>...</td><td>...</td><td>...</td><td>...</td><td>...</td><td>...</td><td>...</td><td>...</td><td>...</td><td>...</td><td>...</td><td>...</td><td>...</td><td>...</td><td>...</td><td>...</td><td>...</td><td>...</td><td>...</td><td>...</td><td>...</td><td>...</td><td>...</td><td>...</td><td>...</td><td>...</td><td>...</td><td>...</td><td>...</td></tr>\n",
       "<tr><td>274.81801</td><td>-14.001245</td><td>18h19m16.32s</td><td>-14d00m04.48s</td><td>0.18</td><td>0.16</td><td>1</td><td>18191632-1400044</td><td>16.24</td><td>0.113</td><td>0.113</td><td>5.6</td><td>15.531</td><td>0.164</td><td>0.164</td><td>2.5</td><td>15.252</td><td>--</td><td>--</td><td>--</td><td>CDU</td><td>220</td><td>110</td><td>000</td><td>060600</td><td>0</td><td>0</td><td>809.817146</td><td>149.61</td><td>0.709</td><td>--</td><td>--</td></tr>\n",
       "<tr><td>274.822709</td><td>-14.037254</td><td>18h19m17.45s</td><td>-14d02m14.11s</td><td>0.07</td><td>0.07</td><td>45</td><td>18191745-1402141</td><td>15.999</td><td>0.097</td><td>0.098</td><td>7.0</td><td>14.009</td><td>0.032</td><td>0.033</td><td>10.0</td><td>13.077</td><td>0.035</td><td>0.036</td><td>16.4</td><td>CAA</td><td>222</td><td>111</td><td>000</td><td>062656</td><td>0</td><td>0</td><td>931.339773</td><td>152.779</td><td>1.99</td><td>0.932</td><td>2.922</td></tr>\n",
       "<tr><td>274.880758</td><td>-13.99956</td><td>18h19m31.38s</td><td>-13d59m58.42s</td><td>0.06</td><td>0.06</td><td>90</td><td>18193138-1359584</td><td>14.163</td><td>0.035</td><td>0.037</td><td>37.8</td><td>11.179</td><td>0.02</td><td>0.021</td><td>135.6</td><td>9.765</td><td>0.017</td><td>0.019</td><td>347.1</td><td>AAA</td><td>222</td><td>111</td><td>000</td><td>556666</td><td>0</td><td>0</td><td>935.512452</td><td>137.762</td><td>2.984</td><td>1.414</td><td>4.398</td></tr>\n",
       "<tr><td>274.652526</td><td>-14.055106</td><td>18h18m36.61s</td><td>-14d03m18.38s</td><td>0.06</td><td>0.06</td><td>90</td><td>18183660-1403183</td><td>15.035</td><td>0.052</td><td>0.054</td><td>19.4</td><td>13.099</td><td>0.04</td><td>0.041</td><td>27.5</td><td>12.254</td><td>0.041</td><td>0.041</td><td>41.7</td><td>AAA</td><td>222</td><td>111</td><td>c00</td><td>566666</td><td>0</td><td>0</td><td>908.109808</td><td>190.682</td><td>1.936</td><td>0.845</td><td>2.781</td></tr>\n",
       "<tr><td>274.760586</td><td>-13.999927</td><td>18h19m02.54s</td><td>-13d59m59.74s</td><td>0.08</td><td>0.08</td><td>90</td><td>18190254-1359597</td><td>16.329</td><td>0.122</td><td>0.123</td><td>5.5</td><td>14.488</td><td>0.067</td><td>0.067</td><td>6.4</td><td>13.617</td><td>0.051</td><td>0.052</td><td>11.1</td><td>CCA</td><td>222</td><td>111</td><td>000</td><td>060616</td><td>0</td><td>0</td><td>724.557553</td><td>163.227</td><td>1.841</td><td>0.871</td><td>2.712</td></tr>\n",
       "<tr><td>274.831132</td><td>-14.020027</td><td>18h19m19.47s</td><td>-14d01m12.10s</td><td>0.08</td><td>0.08</td><td>45</td><td>18191947-1401120</td><td>16.203</td><td>--</td><td>--</td><td>--</td><td>13.238</td><td>0.02</td><td>0.021</td><td>20.4</td><td>12.016</td><td>0.023</td><td>0.024</td><td>43.6</td><td>UAA</td><td>022</td><td>011</td><td>000</td><td>006666</td><td>0</td><td>0</td><td>891.347132</td><td>149.27</td><td>--</td><td>1.222</td><td>--</td></tr>\n",
       "<tr><td>274.972435</td><td>-13.760374</td><td>18h19m53.38s</td><td>-13d45m37.35s</td><td>0.12</td><td>0.11</td><td>10</td><td>18195338-1345373</td><td>17.472</td><td>--</td><td>--</td><td>--</td><td>16.755</td><td>--</td><td>--</td><td>--</td><td>14.413</td><td>0.084</td><td>0.084</td><td>4.8</td><td>UUD</td><td>002</td><td>001</td><td>000</td><td>000006</td><td>0</td><td>0</td><td>964.828933</td><td>79.963</td><td>--</td><td>--</td><td>--</td></tr>\n",
       "<tr><td>274.870009</td><td>-13.817775</td><td>18h19m28.80s</td><td>-13d49m03.99s</td><td>0.08</td><td>0.08</td><td>45</td><td>18192880-1349039</td><td>16.933</td><td>--</td><td>--</td><td>--</td><td>14.514</td><td>0.064</td><td>0.065</td><td>6.3</td><td>12.957</td><td>0.041</td><td>0.041</td><td>18.4</td><td>UCA</td><td>022</td><td>011</td><td>000</td><td>002666</td><td>0</td><td>0</td><td>592.998058</td><td>93.69</td><td>--</td><td>1.557</td><td>--</td></tr>\n",
       "<tr><td>274.735323</td><td>-13.941575</td><td>18h18m56.48s</td><td>-13d56m29.67s</td><td>0.14</td><td>0.14</td><td>45</td><td>18185647-1356296</td><td>16.643</td><td>--</td><td>--</td><td>--</td><td>14.88</td><td>--</td><td>--</td><td>--</td><td>14.291</td><td>0.116</td><td>0.117</td><td>6.0</td><td>UUC</td><td>002</td><td>001</td><td>000</td><td>000004</td><td>0</td><td>0</td><td>498.524438</td><td>165.968</td><td>--</td><td>--</td><td>--</td></tr>\n",
       "<tr><td>274.866294</td><td>-13.841778</td><td>18h19m27.91s</td><td>-13d50m30.40s</td><td>0.08</td><td>0.08</td><td>45</td><td>18192791-1350304</td><td>15.615</td><td>--</td><td>--</td><td>--</td><td>13.911</td><td>0.075</td><td>0.075</td><td>10.9</td><td>12.765</td><td>0.134</td><td>0.134</td><td>21.9</td><td>UAE</td><td>022</td><td>011</td><td>0cc</td><td>005545</td><td>0</td><td>0</td><td>591.97725</td><td>102.147</td><td>--</td><td>1.146</td><td>--</td></tr>\n",
       "</table>"
      ],
      "text/plain": [
       "<Table length=929>\n",
       "    ra        dec         clon          clat     ...   j_h     h_k     j_k  \n",
       "   deg        deg                                ...                        \n",
       " float64    float64      str12         str13     ... float64 float64 float64\n",
       "---------- ---------- ------------ ------------- ... ------- ------- -------\n",
       "274.429506 -13.870547 18h17m43.08s -13d52m13.97s ...   2.257   0.791   3.048\n",
       "274.423821  -13.86974 18h17m41.72s -13d52m11.06s ...   2.167   0.867   3.034\n",
       "274.424587 -13.739629 18h17m41.90s -13d44m22.66s ...      --    0.94      --\n",
       "274.433933 -13.769502 18h17m44.14s -13d46m10.21s ...   2.224   1.101   3.325\n",
       "274.437013 -13.885698 18h17m44.88s -13d53m08.51s ...      --    0.67      --\n",
       "274.433996 -13.752446 18h17m44.16s -13d45m08.81s ...      --   0.915      --\n",
       "274.418138  -13.77215 18h17m40.35s -13d46m19.74s ...      --   1.154      --\n",
       "274.433695 -13.899049 18h17m44.09s -13d53m56.58s ...   2.094   0.904   2.998\n",
       "274.425482  -13.77149 18h17m42.12s -13d46m17.36s ...      --   1.206      --\n",
       "       ...        ...          ...           ... ...     ...     ...     ...\n",
       " 274.81801 -14.001245 18h19m16.32s -14d00m04.48s ...   0.709      --      --\n",
       "274.822709 -14.037254 18h19m17.45s -14d02m14.11s ...    1.99   0.932   2.922\n",
       "274.880758  -13.99956 18h19m31.38s -13d59m58.42s ...   2.984   1.414   4.398\n",
       "274.652526 -14.055106 18h18m36.61s -14d03m18.38s ...   1.936   0.845   2.781\n",
       "274.760586 -13.999927 18h19m02.54s -13d59m59.74s ...   1.841   0.871   2.712\n",
       "274.831132 -14.020027 18h19m19.47s -14d01m12.10s ...      --   1.222      --\n",
       "274.972435 -13.760374 18h19m53.38s -13d45m37.35s ...      --      --      --\n",
       "274.870009 -13.817775 18h19m28.80s -13d49m03.99s ...      --   1.557      --\n",
       "274.735323 -13.941575 18h18m56.48s -13d56m29.67s ...      --      --      --\n",
       "274.866294 -13.841778 18h19m27.91s -13d50m30.40s ...      --   1.146      --"
      ]
     },
     "execution_count": 140,
     "metadata": {},
     "output_type": "execute_result"
    }
   ],
   "source": [
    "t7 = Table.read(\"data/2mass.tbl\", format=\"ascii.ipac\")\n",
    "t7"
   ]
  },
  {
   "cell_type": "code",
   "execution_count": 143,
   "metadata": {},
   "outputs": [
    {
     "name": "stdout",
     "output_type": "stream",
     "text": [
      "================================\n",
      "Table.read general documentation\n",
      "================================\n",
      "\n",
      "Read and parse a data table and return as a Table.\n",
      "\n",
      "This function provides the Table interface to the astropy unified I/O\n",
      "layer.  This allows easily reading a file in many supported data formats\n",
      "using syntax such as::\n",
      "\n",
      "  >>> from astropy.table import Table\n",
      "  >>> dat = Table.read('table.dat', format='ascii')\n",
      "  >>> events = Table.read('events.fits', format='fits')\n",
      "\n",
      "Get help on the available readers for ``Table`` using the``help()`` method::\n",
      "\n",
      "  >>> Table.read.help()  # Get help reading Table and list supported formats\n",
      "  >>> Table.read.help('fits')  # Get detailed help on Table FITS reader\n",
      "  >>> Table.read.list_formats()  # Print list of available formats\n",
      "\n",
      "See also: https://docs.astropy.org/en/stable/io/unified.html\n",
      "\n",
      "Parameters\n",
      "----------\n",
      "*args : tuple, optional\n",
      "    Positional arguments passed through to data reader. If supplied the\n",
      "    first argument is typically the input filename.\n",
      "format : str\n",
      "    File format specifier.\n",
      "units : list, dict, optional\n",
      "    List or dict of units to apply to columns\n",
      "descriptions : list, dict, optional\n",
      "    List or dict of descriptions to apply to columns\n",
      "**kwargs : dict, optional\n",
      "    Keyword arguments passed through to data reader.\n",
      "\n",
      "Returns\n",
      "-------\n",
      "out : `Table`\n",
      "    Table corresponding to file contents\n",
      "\n",
      "Notes\n",
      "-----\n",
      "\n",
      "The available built-in formats are:\n",
      "\n",
      "=========================== ==== ===== ============= ==========\n",
      "           Format           Read Write Auto-identify Deprecated\n",
      "=========================== ==== ===== ============= ==========\n",
      "                      ascii  Yes   Yes            No           \n",
      "               ascii.aastex  Yes   Yes            No           \n",
      "                ascii.basic  Yes   Yes            No           \n",
      "                  ascii.cds  Yes    No            No           \n",
      "     ascii.commented_header  Yes   Yes            No           \n",
      "                  ascii.csv  Yes   Yes           Yes           \n",
      "              ascii.daophot  Yes    No            No           \n",
      "                 ascii.ecsv  Yes   Yes           Yes           \n",
      "           ascii.fast_basic  Yes   Yes            No           \n",
      "ascii.fast_commented_header  Yes   Yes            No           \n",
      "             ascii.fast_csv  Yes   Yes            No           \n",
      "       ascii.fast_no_header  Yes   Yes            No           \n",
      "             ascii.fast_rdb  Yes   Yes            No           \n",
      "             ascii.fast_tab  Yes   Yes            No           \n",
      "          ascii.fixed_width  Yes   Yes            No           \n",
      "ascii.fixed_width_no_header  Yes   Yes            No           \n",
      " ascii.fixed_width_two_line  Yes   Yes            No           \n",
      "                 ascii.html  Yes   Yes           Yes           \n",
      "                 ascii.ipac  Yes   Yes            No           \n",
      "                ascii.latex  Yes   Yes           Yes           \n",
      "            ascii.no_header  Yes   Yes            No           \n",
      "                  ascii.rdb  Yes   Yes           Yes           \n",
      "                  ascii.rst  Yes   Yes            No           \n",
      "           ascii.sextractor  Yes    No            No           \n",
      "                  ascii.tab  Yes   Yes            No           \n",
      "                       asdf  Yes   Yes           Yes           \n",
      "                       fits  Yes   Yes           Yes           \n",
      "                       hdf5  Yes   Yes           Yes           \n",
      "                 pandas.csv  Yes   Yes            No           \n",
      "                 pandas.fwf  Yes    No            No           \n",
      "                pandas.html  Yes   Yes            No           \n",
      "                pandas.json  Yes   Yes            No           \n",
      "                    votable  Yes   Yes           Yes           \n",
      "                     aastex  Yes   Yes            No        Yes\n",
      "                        cds  Yes    No            No        Yes\n",
      "                        csv  Yes   Yes            No        Yes\n",
      "                    daophot  Yes    No            No        Yes\n",
      "                       html  Yes   Yes            No        Yes\n",
      "                       ipac  Yes   Yes            No        Yes\n",
      "                      latex  Yes   Yes            No        Yes\n",
      "                        rdb  Yes   Yes            No        Yes\n",
      "=========================== ==== ===== ============= ==========\n",
      "\n",
      "Deprecated format names like ``aastex`` will be removed in a future version. Use the full \n",
      "name (e.g. ``ascii.aastex``) instead."
     ]
    }
   ],
   "source": [
    "Table.read.help()"
   ]
  },
  {
   "cell_type": "code",
   "execution_count": 145,
   "metadata": {},
   "outputs": [
    {
     "name": "stdout",
     "output_type": "stream",
     "text": [
      "========================================\n",
      "Table.read(format='ascii') documentation\n",
      "========================================\n",
      "\n",
      "Read the input ``table`` and return the table.  Most of\n",
      "the default behavior for various parameters is determined by the Reader\n",
      "class.\n",
      "\n",
      "See also:\n",
      "\n",
      "- https://docs.astropy.org/en/stable/io/ascii/\n",
      "- https://docs.astropy.org/en/stable/io/ascii/read.html\n",
      "\n",
      "Parameters\n",
      "----------\n",
      "table : str, file-like, list, `pathlib.Path` object\n",
      "    Input table as a file name, file-like object, list of string[s],\n",
      "    single newline-separated string or `pathlib.Path` object.\n",
      "guess : bool\n",
      "    Try to guess the table format. Defaults to None.\n",
      "format : str, `~astropy.io.ascii.BaseReader`\n",
      "    Input table format\n",
      "Inputter : `~astropy.io.ascii.BaseInputter`\n",
      "    Inputter class\n",
      "Outputter : `~astropy.io.ascii.BaseOutputter`\n",
      "    Outputter class\n",
      "delimiter : str\n",
      "    Column delimiter string\n",
      "comment : str\n",
      "    Regular expression defining a comment line in table\n",
      "quotechar : str\n",
      "    One-character string to quote fields containing special characters\n",
      "header_start : int\n",
      "    Line index for the header line not counting comment or blank lines.\n",
      "    A line with only whitespace is considered blank.\n",
      "data_start : int\n",
      "    Line index for the start of data not counting comment or blank lines.\n",
      "    A line with only whitespace is considered blank.\n",
      "data_end : int\n",
      "    Line index for the end of data not counting comment or blank lines.\n",
      "    This value can be negative to count from the end.\n",
      "converters : dict\n",
      "    Dictionary of converters\n",
      "data_Splitter : `~astropy.io.ascii.BaseSplitter`\n",
      "    Splitter class to split data columns\n",
      "header_Splitter : `~astropy.io.ascii.BaseSplitter`\n",
      "    Splitter class to split header columns\n",
      "names : list\n",
      "    List of names corresponding to each data column\n",
      "include_names : list\n",
      "    List of names to include in output.\n",
      "exclude_names : list\n",
      "    List of names to exclude from output (applied after ``include_names``)\n",
      "fill_values : tuple, list of tuple\n",
      "    specification of fill values for bad or missing table values\n",
      "fill_include_names : list\n",
      "    List of names to include in fill_values.\n",
      "fill_exclude_names : list\n",
      "    List of names to exclude from fill_values (applied after ``fill_include_names``)\n",
      "fast_reader : bool, str or dict\n",
      "    Whether to use the C engine, can also be a dict with options which\n",
      "    defaults to `False`; parameters for options dict:\n",
      "\n",
      "    use_fast_converter: bool\n",
      "        enable faster but slightly imprecise floating point conversion method\n",
      "    parallel: bool or int\n",
      "        multiprocessing conversion using ``cpu_count()`` or ``'number'`` processes\n",
      "    exponent_style: str\n",
      "        One-character string defining the exponent or ``'Fortran'`` to auto-detect\n",
      "        Fortran-style scientific notation like ``'3.14159D+00'`` (``'E'``, ``'D'``, ``'Q'``),\n",
      "        all case-insensitive; default ``'E'``, all other imply ``use_fast_converter``\n",
      "    chunk_size : int\n",
      "        If supplied with a value > 0 then read the table in chunks of\n",
      "        approximately ``chunk_size`` bytes. Default is reading table in one pass.\n",
      "    chunk_generator : bool\n",
      "        If True and ``chunk_size > 0`` then return an iterator that returns a\n",
      "        table for each chunk.  The default is to return a single stacked table\n",
      "        for all the chunks.\n",
      "\n",
      "encoding : str\n",
      "    Allow to specify encoding to read the file (default= ``None``).\n",
      "\n",
      "Returns\n",
      "-------\n",
      "dat : `~astropy.table.Table` OR <generator>\n",
      "    Output table\n",
      "\n",
      "ASCII reader 'ascii' details\n",
      "============================\n",
      "\n",
      "Character-delimited table with a single header line at the top.\n",
      "\n",
      "Lines beginning with a comment character (default='#') as the first\n",
      "non-whitespace character are comments.\n",
      "\n",
      "Example table::\n",
      "\n",
      "  # Column definition is the first uncommented line\n",
      "  # Default delimiter is the space character.\n",
      "  apples oranges pears\n",
      "\n",
      "  # Data starts after the header column definition, blank lines ignored\n",
      "  1 2 3\n",
      "  4 5 6"
     ]
    }
   ],
   "source": [
    "Table.read.help(\"ascii\")"
   ]
  },
  {
   "cell_type": "markdown",
   "metadata": {},
   "source": [
    "\n",
    "<section class=\"challenge panel panel-success\">\n",
    "<div class=\"panel-heading\">\n",
    "<h2><span class=\"fa fa-pencil\"></span> Challenge</h2>\n",
    "</div>\n",
    "\n",
    "\n",
    "<div class=\"panel-body\">\n",
    "\n",
    "<p>Using the <code>t6</code> table above:</p>\n",
    "<ol>\n",
    "<li>\n",
    "<p>Make a plot that shows <code>j_m</code>-<code>h_m</code> on the x-axis, and <code>h_m</code>-<code>k_m</code> on the y-axis</p>\n",
    "</li>\n",
    "<li>\n",
    "<p>Make a new table that contains the subset of rows where the <code>j_snr</code>, <code>h_snr</code>, and <code>k_snr</code> columns, which give the signal-to-noise-ratio in the J, H, and K band, are greater than 10, and try and show these points in red in the plot you just made.</p>\n",
    "</li>\n",
    "<li>\n",
    "<p>Make a new table (based on the full table) that contains only the RA, Dec, and the <code>j_m</code>, <code>h_m</code> and <code>k_m</code> columns, then try and write out this catalog into a format that you can read into another software package. For example, try and write out the catalog into CSV format, then read it into a spreadsheet software package (e.g. Excel, Google Docs, Numbers, OpenOffice). You may run into an issue at this point - if so, take a look at https://github.com/astropy/astropy/issues/7357 to see how to fix it.</p>\n",
    "</li>\n",
    "</ol>\n",
    "\n",
    "</div>\n",
    "\n",
    "</section>\n"
   ]
  },
  {
   "cell_type": "code",
   "execution_count": null,
   "metadata": {},
   "outputs": [],
   "source": []
  },
  {
   "cell_type": "code",
   "execution_count": null,
   "metadata": {},
   "outputs": [],
   "source": []
  },
  {
   "cell_type": "code",
   "execution_count": null,
   "metadata": {},
   "outputs": [],
   "source": []
  },
  {
   "cell_type": "code",
   "execution_count": null,
   "metadata": {},
   "outputs": [],
   "source": []
  },
  {
   "cell_type": "code",
   "execution_count": null,
   "metadata": {},
   "outputs": [],
   "source": []
  },
  {
   "cell_type": "markdown",
   "metadata": {},
   "source": [
    "<center><i>This notebook was written by <a href=\"https://aperiosoftware.com/\">Aperio Software Ltd.</a> &copy; 2019, and is licensed under a <a href=\"https://creativecommons.org/licenses/by/4.0/\">Creative Commons Attribution 4.0 International License (CC BY 4.0)</a></i></center>\n",
    "\n",
    "![cc](https://mirrors.creativecommons.org/presskit/buttons/88x31/svg/by.svg)"
   ]
  }
 ],
 "metadata": {
  "kernelspec": {
   "display_name": "Python 3",
   "language": "python",
   "name": "python3"
  },
  "language_info": {
   "codemirror_mode": {
    "name": "ipython",
    "version": 3
   },
   "file_extension": ".py",
   "mimetype": "text/x-python",
   "name": "python",
   "nbconvert_exporter": "python",
   "pygments_lexer": "ipython3",
   "version": "3.8.5"
  }
 },
 "nbformat": 4,
 "nbformat_minor": 1
}
