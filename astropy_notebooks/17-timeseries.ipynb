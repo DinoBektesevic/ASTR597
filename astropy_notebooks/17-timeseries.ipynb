{
 "cells": [
  {
   "cell_type": "markdown",
   "metadata": {},
   "source": [
    "# Time series representation and analysis\n",
    "\n",
    "The [astropy.timeseries](http://docs.astropy.org/en/stable/timeseries/index.html) sub-package is a relatively new component of astropy which provides a framework for representing time series, and includes some initial analysis tools (but this is expected to grow over time)."
   ]
  },
  {
   "cell_type": "markdown",
   "metadata": {},
   "source": [
    "\n",
    "<section class=\"objectives panel panel-warning\">\n",
    "<div class=\"panel-heading\">\n",
    "<h2><span class=\"fa fa-certificate\"></span> Objectives</h2>\n",
    "</div>\n",
    "\n",
    "\n",
    "<div class=\"panel-body\">\n",
    "\n",
    "<ul>\n",
    "<li>Create time series</li>\n",
    "<li>Access data and times</li>\n",
    "<li>Relative time series</li>\n",
    "<li>Combining time series</li>\n",
    "<li>Sorting time series</li>\n",
    "<li>Folding time series</li>\n",
    "<li>Periodogram analysis</li>\n",
    "<li>Reading in data</li>\n",
    "</ul>\n",
    "\n",
    "</div>\n",
    "\n",
    "</section>\n"
   ]
  },
  {
   "cell_type": "markdown",
   "metadata": {},
   "source": [
    "## Documentation\n",
    "\n",
    "This notebook only shows a subset of the functionality in astropy.timeseries. For more information about the features presented below as well as other available features, you can read the\n",
    "[astropy.timeseries documentation](https://docs.astropy.org/en/stable/timeseries/)."
   ]
  },
  {
   "cell_type": "code",
   "execution_count": 45,
   "metadata": {},
   "outputs": [],
   "source": [
    "%matplotlib inline\n",
    "import matplotlib.pyplot as plt\n",
    "plt.rc('image', origin='lower')\n",
    "plt.rc('figure', figsize=(10, 6))"
   ]
  },
  {
   "cell_type": "markdown",
   "metadata": {},
   "source": [
    "## Creating time series\n",
    "\n",
    "The astropy.timeseries sub-package provides two main classes for representing time series, both of which are sub-classes of [QTable](http://docs.astropy.org/en/stable/api/astropy.table.QTable.html#astropy.table.QTable):\n",
    "\n",
    "* [TimeSeries](http://docs.astropy.org/en/stable/api/astropy.timeseries.TimeSeries.html#astropy.timeseries.TimeSeries) to represent a series of measurements at different (and exact) times\n",
    "* [BinnedTimeSeries](http://docs.astropy.org/en/stable/api/astropy.timeseries.BinnedTimeSeries.html#astropy.timeseries.BinnedTimeSeries), to represent a series of measurements in different time bins.\n",
    "\n",
    "In most cases, [TimeSeries](http://docs.astropy.org/en/stable/api/astropy.timeseries.TimeSeries.html#astropy.timeseries.TimeSeries) might be enough unless you need to treat the finite bin sizes carefully (as for example in X-ray analysis). In this tutorial we will focus on TimeSeries, but if you are interested in representing binned time series, you can take a look at the [astropy.timeseries documentation](http://docs.astropy.org/en/stable/timeseries/index.html).\n",
    "\n",
    "Let's start off by creating a synthetic time series, and we will look later into how to read existing files."
   ]
  },
  {
   "cell_type": "code",
   "execution_count": 1,
   "metadata": {},
   "outputs": [],
   "source": [
    "from astropy.timeseries import TimeSeries"
   ]
  },
  {
   "cell_type": "markdown",
   "metadata": {},
   "source": [
    "There are several ways to initialize a time series from scratch. One of the easiest ways if you are dealing with a regularly spaced time series is to specify the start time, the time between samples, and the number of samples:"
   ]
  },
  {
   "cell_type": "code",
   "execution_count": 2,
   "metadata": {},
   "outputs": [
    {
     "data": {
      "text/html": [
       "<i>TimeSeries length=5</i>\n",
       "<table id=\"table140008129825472\" class=\"table-striped table-bordered table-condensed\">\n",
       "<thead><tr><th>time</th></tr></thead>\n",
       "<thead><tr><th>object</th></tr></thead>\n",
       "<tr><td>2016-03-22T12:30:31.000</td></tr>\n",
       "<tr><td>2016-03-22T12:30:34.000</td></tr>\n",
       "<tr><td>2016-03-22T12:30:37.000</td></tr>\n",
       "<tr><td>2016-03-22T12:30:40.000</td></tr>\n",
       "<tr><td>2016-03-22T12:30:43.000</td></tr>\n",
       "</table>"
      ],
      "text/plain": [
       "<TimeSeries length=5>\n",
       "          time         \n",
       "         object        \n",
       "-----------------------\n",
       "2016-03-22T12:30:31.000\n",
       "2016-03-22T12:30:34.000\n",
       "2016-03-22T12:30:37.000\n",
       "2016-03-22T12:30:40.000\n",
       "2016-03-22T12:30:43.000"
      ]
     },
     "execution_count": 2,
     "metadata": {},
     "output_type": "execute_result"
    }
   ],
   "source": [
    "from astropy import units as u\n",
    "ts1 = TimeSeries(time_start=\"2016-03-22T12:30:31\", time_delta=3*u.s, n_samples=5)\n",
    "ts1"
   ]
  },
  {
   "cell_type": "markdown",
   "metadata": {},
   "source": [
    "Another way is to specify the times at which the measurements were made:"
   ]
  },
  {
   "cell_type": "code",
   "execution_count": 4,
   "metadata": {},
   "outputs": [
    {
     "data": {
      "text/html": [
       "<i>TimeSeries length=3</i>\n",
       "<table id=\"table140008129932208\" class=\"table-striped table-bordered table-condensed\">\n",
       "<thead><tr><th>time</th></tr></thead>\n",
       "<thead><tr><th>object</th></tr></thead>\n",
       "<tr><td>2016-03-22T12:35:31.000</td></tr>\n",
       "<tr><td>2016-03-22T12:40:31.000</td></tr>\n",
       "<tr><td>2016-03-22T12:45:31.000</td></tr>\n",
       "</table>"
      ],
      "text/plain": [
       "<TimeSeries length=3>\n",
       "          time         \n",
       "         object        \n",
       "-----------------------\n",
       "2016-03-22T12:35:31.000\n",
       "2016-03-22T12:40:31.000\n",
       "2016-03-22T12:45:31.000"
      ]
     },
     "execution_count": 4,
     "metadata": {},
     "output_type": "execute_result"
    }
   ],
   "source": [
    "ts2 = TimeSeries(time=[\"2016-03-22T12:35:31\", \"2016-03-22T12:40:31\", \"2016-03-22T12:45:31\"])\n",
    "ts2"
   ]
  },
  {
   "cell_type": "markdown",
   "metadata": {},
   "source": [
    "In the above cases, we just passed strings to the ``time=`` option, but this is actually a shortcut - the most general way to create the time series which provides the most control is to pass a Time object (from astropy.time):"
   ]
  },
  {
   "cell_type": "code",
   "execution_count": 6,
   "metadata": {},
   "outputs": [
    {
     "data": {
      "text/html": [
       "<i>TimeSeries length=6</i>\n",
       "<table id=\"table140008129560048\" class=\"table-striped table-bordered table-condensed\">\n",
       "<thead><tr><th>time</th></tr></thead>\n",
       "<thead><tr><th>object</th></tr></thead>\n",
       "<tr><td>50000.0</td></tr>\n",
       "<tr><td>50200.0</td></tr>\n",
       "<tr><td>50400.0</td></tr>\n",
       "<tr><td>50600.0</td></tr>\n",
       "<tr><td>50800.0</td></tr>\n",
       "<tr><td>51000.0</td></tr>\n",
       "</table>"
      ],
      "text/plain": [
       "<TimeSeries length=6>\n",
       "  time \n",
       " object\n",
       "-------\n",
       "50000.0\n",
       "50200.0\n",
       "50400.0\n",
       "50600.0\n",
       "50800.0\n",
       "51000.0"
      ]
     },
     "execution_count": 6,
     "metadata": {},
     "output_type": "execute_result"
    }
   ],
   "source": [
    "import numpy as np\n",
    "from astropy.time import Time\n",
    "time = Time(np.linspace(50000, 51000, 6), format=\"mjd\", scale=\"tdb\")\n",
    "ts3 = TimeSeries(time=time)\n",
    "ts3"
   ]
  },
  {
   "cell_type": "markdown",
   "metadata": {},
   "source": [
    "Once the time series has been initialized, you can add columns to it as if it was a table:"
   ]
  },
  {
   "cell_type": "code",
   "execution_count": 9,
   "metadata": {},
   "outputs": [],
   "source": [
    "ts3['flux'] = [1, 2, 3, 4, 5, 6] * u.mJy\n",
    "ts3[\"error\"] = [0.1, 0.2, 0.1, 0.2, 0.1, 0.3] * u.mJy"
   ]
  },
  {
   "cell_type": "markdown",
   "metadata": {},
   "source": [
    "## Accessing data and times\n",
    "\n",
    "Data is accessed in the same way as for regular tables:"
   ]
  },
  {
   "cell_type": "code",
   "execution_count": 10,
   "metadata": {},
   "outputs": [
    {
     "data": {
      "text/plain": [
       "<Time object: scale='tdb' format='mjd' value=[50000. 50200. 50400. 50600. 50800. 51000.]>"
      ]
     },
     "execution_count": 10,
     "metadata": {},
     "output_type": "execute_result"
    }
   ],
   "source": [
    "ts3[\"time\"]"
   ]
  },
  {
   "cell_type": "code",
   "execution_count": 11,
   "metadata": {},
   "outputs": [
    {
     "data": {
      "text/latex": [
       "$[1,~2,~3,~4,~5,~6] \\; \\mathrm{mJy}$"
      ],
      "text/plain": [
       "<Quantity [1., 2., 3., 4., 5., 6.] mJy>"
      ]
     },
     "execution_count": 11,
     "metadata": {},
     "output_type": "execute_result"
    }
   ],
   "source": [
    "ts3[\"flux\"]"
   ]
  },
  {
   "cell_type": "code",
   "execution_count": 13,
   "metadata": {},
   "outputs": [
    {
     "data": {
      "text/html": [
       "<i>TimeSeries length=6</i>\n",
       "<table id=\"table140008129933264\" class=\"table-striped table-bordered table-condensed\">\n",
       "<thead><tr><th>time</th><th>flux</th></tr></thead>\n",
       "<thead><tr><th></th><th>mJy</th></tr></thead>\n",
       "<thead><tr><th>object</th><th>float64</th></tr></thead>\n",
       "<tr><td>50000.0</td><td>1.0</td></tr>\n",
       "<tr><td>50200.0</td><td>2.0</td></tr>\n",
       "<tr><td>50400.0</td><td>3.0</td></tr>\n",
       "<tr><td>50600.0</td><td>4.0</td></tr>\n",
       "<tr><td>50800.0</td><td>5.0</td></tr>\n",
       "<tr><td>51000.0</td><td>6.0</td></tr>\n",
       "</table>"
      ],
      "text/plain": [
       "<TimeSeries length=6>\n",
       "  time    flux \n",
       "          mJy  \n",
       " object float64\n",
       "------- -------\n",
       "50000.0     1.0\n",
       "50200.0     2.0\n",
       "50400.0     3.0\n",
       "50600.0     4.0\n",
       "50800.0     5.0\n",
       "51000.0     6.0"
      ]
     },
     "execution_count": 13,
     "metadata": {},
     "output_type": "execute_result"
    }
   ],
   "source": [
    "ts3[\"time\", \"flux\"]"
   ]
  },
  {
   "cell_type": "code",
   "execution_count": 14,
   "metadata": {},
   "outputs": [
    {
     "data": {
      "text/html": [
       "<i>Row index=0</i>\n",
       "<table id=\"table140008129560048\">\n",
       "<thead><tr><th>time</th><th>flux</th><th>error</th></tr></thead>\n",
       "<thead><tr><th></th><th>mJy</th><th>mJy</th></tr></thead>\n",
       "<thead><tr><th>object</th><th>float64</th><th>float64</th></tr></thead>\n",
       "<tr><td>50000.0</td><td>1.0</td><td>0.1</td></tr>\n",
       "</table>"
      ],
      "text/plain": [
       "<Row index=0>\n",
       "  time    flux   error \n",
       "          mJy     mJy  \n",
       " object float64 float64\n",
       "------- ------- -------\n",
       "50000.0     1.0     0.1"
      ]
     },
     "execution_count": 14,
     "metadata": {},
     "output_type": "execute_result"
    }
   ],
   "source": [
    "ts3[0]"
   ]
  },
  {
   "cell_type": "code",
   "execution_count": 15,
   "metadata": {},
   "outputs": [
    {
     "data": {
      "text/html": [
       "<i>TimeSeries length=3</i>\n",
       "<table id=\"table140008129932592\" class=\"table-striped table-bordered table-condensed\">\n",
       "<thead><tr><th>time</th><th>flux</th><th>error</th></tr></thead>\n",
       "<thead><tr><th></th><th>mJy</th><th>mJy</th></tr></thead>\n",
       "<thead><tr><th>object</th><th>float64</th><th>float64</th></tr></thead>\n",
       "<tr><td>50000.0</td><td>1.0</td><td>0.1</td></tr>\n",
       "<tr><td>50200.0</td><td>2.0</td><td>0.2</td></tr>\n",
       "<tr><td>50400.0</td><td>3.0</td><td>0.1</td></tr>\n",
       "</table>"
      ],
      "text/plain": [
       "<TimeSeries length=3>\n",
       "  time    flux   error \n",
       "          mJy     mJy  \n",
       " object float64 float64\n",
       "------- ------- -------\n",
       "50000.0     1.0     0.1\n",
       "50200.0     2.0     0.2\n",
       "50400.0     3.0     0.1"
      ]
     },
     "execution_count": 15,
     "metadata": {},
     "output_type": "execute_result"
    }
   ],
   "source": [
    "ts3[0:3]"
   ]
  },
  {
   "cell_type": "code",
   "execution_count": 16,
   "metadata": {},
   "outputs": [
    {
     "data": {
      "text/latex": [
       "$1 \\; \\mathrm{mJy}$"
      ],
      "text/plain": [
       "<Quantity 1. mJy>"
      ]
     },
     "execution_count": 16,
     "metadata": {},
     "output_type": "execute_result"
    }
   ],
   "source": [
    "ts3[0][\"flux\"]"
   ]
  },
  {
   "cell_type": "markdown",
   "metadata": {},
   "source": [
    "For the time column, it is also possible to use the following shortcut:"
   ]
  },
  {
   "cell_type": "code",
   "execution_count": 17,
   "metadata": {},
   "outputs": [
    {
     "data": {
      "text/plain": [
       "<Time object: scale='tdb' format='mjd' value=[50000. 50200. 50400. 50600. 50800. 51000.]>"
      ]
     },
     "execution_count": 17,
     "metadata": {},
     "output_type": "execute_result"
    }
   ],
   "source": [
    "ts3.time"
   ]
  },
  {
   "cell_type": "markdown",
   "metadata": {},
   "source": [
    "Since this is a regular time object, you can convert it to different time scales and formats:"
   ]
  },
  {
   "cell_type": "code",
   "execution_count": 18,
   "metadata": {},
   "outputs": [
    {
     "data": {
      "text/plain": [
       "<Time object: scale='tai' format='mjd' value=[49999.99962752 50199.99962748 50399.99962752 50599.99962749\n",
       " 50799.99962751 50999.9996275 ]>"
      ]
     },
     "execution_count": 18,
     "metadata": {},
     "output_type": "execute_result"
    }
   ],
   "source": [
    "ts3.time.tai"
   ]
  },
  {
   "cell_type": "code",
   "execution_count": 19,
   "metadata": {},
   "outputs": [
    {
     "data": {
      "text/plain": [
       "array(['1995-10-10T00:00:00.000', '1996-04-27T00:00:00.000',\n",
       "       '1996-11-13T00:00:00.000', '1997-06-01T00:00:00.000',\n",
       "       '1997-12-18T00:00:00.000', '1998-07-06T00:00:00.000'], dtype='<U23')"
      ]
     },
     "execution_count": 19,
     "metadata": {},
     "output_type": "execute_result"
    }
   ],
   "source": [
    "ts3.time.isot"
   ]
  },
  {
   "cell_type": "markdown",
   "metadata": {},
   "source": [
    "Note that this doesn't change the time in the time series, it just returns a new Time object. On the other hand, you can change the default format by setting ``.format``:"
   ]
  },
  {
   "cell_type": "code",
   "execution_count": 26,
   "metadata": {},
   "outputs": [
    {
     "data": {
      "text/html": [
       "<i>TimeSeries length=6</i>\n",
       "<table id=\"table140008129560048\" class=\"table-striped table-bordered table-condensed\">\n",
       "<thead><tr><th>time</th><th>flux</th><th>error</th></tr></thead>\n",
       "<thead><tr><th></th><th>mJy</th><th>mJy</th></tr></thead>\n",
       "<thead><tr><th>object</th><th>float64</th><th>float64</th></tr></thead>\n",
       "<tr><td>50000.0</td><td>1.0</td><td>0.1</td></tr>\n",
       "<tr><td>50200.0</td><td>2.0</td><td>0.2</td></tr>\n",
       "<tr><td>50400.0</td><td>3.0</td><td>0.1</td></tr>\n",
       "<tr><td>50600.0</td><td>4.0</td><td>0.2</td></tr>\n",
       "<tr><td>50800.0</td><td>5.0</td><td>0.1</td></tr>\n",
       "<tr><td>51000.0</td><td>6.0</td><td>0.3</td></tr>\n",
       "</table>"
      ],
      "text/plain": [
       "<TimeSeries length=6>\n",
       "  time    flux   error \n",
       "          mJy     mJy  \n",
       " object float64 float64\n",
       "------- ------- -------\n",
       "50000.0     1.0     0.1\n",
       "50200.0     2.0     0.2\n",
       "50400.0     3.0     0.1\n",
       "50600.0     4.0     0.2\n",
       "50800.0     5.0     0.1\n",
       "51000.0     6.0     0.3"
      ]
     },
     "execution_count": 26,
     "metadata": {},
     "output_type": "execute_result"
    }
   ],
   "source": [
    "ts3"
   ]
  },
  {
   "cell_type": "code",
   "execution_count": 27,
   "metadata": {},
   "outputs": [],
   "source": [
    "ts3.time.format = \"isot\""
   ]
  },
  {
   "cell_type": "code",
   "execution_count": 21,
   "metadata": {},
   "outputs": [
    {
     "data": {
      "text/html": [
       "<i>TimeSeries length=6</i>\n",
       "<table id=\"table140008129560048\" class=\"table-striped table-bordered table-condensed\">\n",
       "<thead><tr><th>time</th><th>flux</th><th>error</th></tr></thead>\n",
       "<thead><tr><th></th><th>mJy</th><th>mJy</th></tr></thead>\n",
       "<thead><tr><th>object</th><th>float64</th><th>float64</th></tr></thead>\n",
       "<tr><td>1995-10-10T00:00:00.000</td><td>1.0</td><td>0.1</td></tr>\n",
       "<tr><td>1996-04-27T00:00:00.000</td><td>2.0</td><td>0.2</td></tr>\n",
       "<tr><td>1996-11-13T00:00:00.000</td><td>3.0</td><td>0.1</td></tr>\n",
       "<tr><td>1997-06-01T00:00:00.000</td><td>4.0</td><td>0.2</td></tr>\n",
       "<tr><td>1997-12-18T00:00:00.000</td><td>5.0</td><td>0.1</td></tr>\n",
       "<tr><td>1998-07-06T00:00:00.000</td><td>6.0</td><td>0.3</td></tr>\n",
       "</table>"
      ],
      "text/plain": [
       "<TimeSeries length=6>\n",
       "          time            flux   error \n",
       "                          mJy     mJy  \n",
       "         object         float64 float64\n",
       "----------------------- ------- -------\n",
       "1995-10-10T00:00:00.000     1.0     0.1\n",
       "1996-04-27T00:00:00.000     2.0     0.2\n",
       "1996-11-13T00:00:00.000     3.0     0.1\n",
       "1997-06-01T00:00:00.000     4.0     0.2\n",
       "1997-12-18T00:00:00.000     5.0     0.1\n",
       "1998-07-06T00:00:00.000     6.0     0.3"
      ]
     },
     "execution_count": 21,
     "metadata": {},
     "output_type": "execute_result"
    }
   ],
   "source": [
    "ts3"
   ]
  },
  {
   "cell_type": "markdown",
   "metadata": {},
   "source": [
    "## Relative time series\n",
    "\n",
    "If you want to work with relative time series, you can do the following:"
   ]
  },
  {
   "cell_type": "code",
   "execution_count": 32,
   "metadata": {},
   "outputs": [
    {
     "data": {
      "text/html": [
       "<i>TimeSeries length=3</i>\n",
       "<table id=\"table140008119857984\" class=\"table-striped table-bordered table-condensed\">\n",
       "<thead><tr><th>time</th></tr></thead>\n",
       "<thead><tr><th>object</th></tr></thead>\n",
       "<tr><td>1.1574074074074073e-05</td></tr>\n",
       "<tr><td>3.472222222222222e-05</td></tr>\n",
       "<tr><td>4.6296296296296294e-05</td></tr>\n",
       "</table>"
      ],
      "text/plain": [
       "<TimeSeries length=3>\n",
       "         time         \n",
       "        object        \n",
       "----------------------\n",
       "1.1574074074074073e-05\n",
       " 3.472222222222222e-05\n",
       "4.6296296296296294e-05"
      ]
     },
     "execution_count": 32,
     "metadata": {},
     "output_type": "execute_result"
    }
   ],
   "source": [
    "from astropy.time import TimeDelta\n",
    "ts4 = TimeSeries(time=TimeDelta([1, 3, 4]*u.s))\n",
    "ts4"
   ]
  },
  {
   "cell_type": "markdown",
   "metadata": {},
   "source": [
    "and this can also be done by taking a time series in absolute times and subtracting a reference time:"
   ]
  },
  {
   "cell_type": "code",
   "execution_count": 29,
   "metadata": {},
   "outputs": [
    {
     "data": {
      "text/html": [
       "<i>TimeSeries length=6</i>\n",
       "<table id=\"table140008129930240\" class=\"table-striped table-bordered table-condensed\">\n",
       "<thead><tr><th>time</th><th>flux</th><th>error</th></tr></thead>\n",
       "<thead><tr><th></th><th>mJy</th><th>mJy</th></tr></thead>\n",
       "<thead><tr><th>object</th><th>float64</th><th>float64</th></tr></thead>\n",
       "<tr><td>0.0</td><td>1.0</td><td>0.1</td></tr>\n",
       "<tr><td>200.0</td><td>2.0</td><td>0.2</td></tr>\n",
       "<tr><td>400.0</td><td>3.0</td><td>0.1</td></tr>\n",
       "<tr><td>600.0</td><td>4.0</td><td>0.2</td></tr>\n",
       "<tr><td>800.0</td><td>5.0</td><td>0.1</td></tr>\n",
       "<tr><td>1000.0</td><td>6.0</td><td>0.3</td></tr>\n",
       "</table>"
      ],
      "text/plain": [
       "<TimeSeries length=6>\n",
       " time    flux   error \n",
       "         mJy     mJy  \n",
       "object float64 float64\n",
       "------ ------- -------\n",
       "   0.0     1.0     0.1\n",
       " 200.0     2.0     0.2\n",
       " 400.0     3.0     0.1\n",
       " 600.0     4.0     0.2\n",
       " 800.0     5.0     0.1\n",
       "1000.0     6.0     0.3"
      ]
     },
     "execution_count": 29,
     "metadata": {},
     "output_type": "execute_result"
    }
   ],
   "source": [
    "ts5 = TimeSeries(time=ts3.time - ts3.time[0], data=ts3[\"flux\", \"error\"])\n",
    "ts5"
   ]
  },
  {
   "cell_type": "markdown",
   "metadata": {},
   "source": [
    "## Combining time series\n",
    "\n",
    "Assuming that you have two time series objects with matching columns as well as another table which represents an additional column:"
   ]
  },
  {
   "cell_type": "code",
   "execution_count": 33,
   "metadata": {},
   "outputs": [],
   "source": [
    "from astropy.table import Table\n",
    "\n",
    "ts_a = TimeSeries(time_start='2016-03-22T12:30:31',\n",
    "                  time_delta=3 * u.s,\n",
    "                  data={'flux': [1, 4, 5, 3, 2] * u.mJy})\n",
    "\n",
    "ts_b = TimeSeries(time_start='2016-03-22T12:50:31',\n",
    "                  time_delta=3 * u.s,\n",
    "                  data={'flux': [4, 3, 1, 2, 3] * u.mJy})\n",
    "\n",
    "data = Table(data={'temperature': [40., 41., 40., 39., 30.] * u.K})"
   ]
  },
  {
   "cell_type": "markdown",
   "metadata": {},
   "source": [
    "There are different ways of combining these - for example you can stack one of the time series with the additional data 'horizontally', which means you preserve the number of rows but construct a new time series with more columns:"
   ]
  },
  {
   "cell_type": "code",
   "execution_count": 35,
   "metadata": {},
   "outputs": [],
   "source": [
    "from astropy.table import hstack, join, vstack"
   ]
  },
  {
   "cell_type": "code",
   "execution_count": 40,
   "metadata": {},
   "outputs": [
    {
     "data": {
      "text/html": [
       "<i>TimeSeries length=5</i>\n",
       "<table id=\"table140008120086144\" class=\"table-striped table-bordered table-condensed\">\n",
       "<thead><tr><th>time</th><th>flux</th><th>temperature</th></tr></thead>\n",
       "<thead><tr><th></th><th>mJy</th><th>K</th></tr></thead>\n",
       "<thead><tr><th>object</th><th>float64</th><th>float64</th></tr></thead>\n",
       "<tr><td>2016-03-22T12:30:31.000</td><td>1.0</td><td>40.0</td></tr>\n",
       "<tr><td>2016-03-22T12:30:34.000</td><td>4.0</td><td>41.0</td></tr>\n",
       "<tr><td>2016-03-22T12:30:37.000</td><td>5.0</td><td>40.0</td></tr>\n",
       "<tr><td>2016-03-22T12:30:40.000</td><td>3.0</td><td>39.0</td></tr>\n",
       "<tr><td>2016-03-22T12:30:43.000</td><td>2.0</td><td>30.0</td></tr>\n",
       "</table>"
      ],
      "text/plain": [
       "<TimeSeries length=5>\n",
       "          time            flux  temperature\n",
       "                          mJy        K     \n",
       "         object         float64   float64  \n",
       "----------------------- ------- -----------\n",
       "2016-03-22T12:30:31.000     1.0        40.0\n",
       "2016-03-22T12:30:34.000     4.0        41.0\n",
       "2016-03-22T12:30:37.000     5.0        40.0\n",
       "2016-03-22T12:30:40.000     3.0        39.0\n",
       "2016-03-22T12:30:43.000     2.0        30.0"
      ]
     },
     "execution_count": 40,
     "metadata": {},
     "output_type": "execute_result"
    }
   ],
   "source": [
    "tsh = hstack([ts_a, data])\n",
    "tsh"
   ]
  },
  {
   "cell_type": "markdown",
   "metadata": {},
   "source": [
    "or you can stack the time series 'vertically' meaning that the columns are preserved but we make a new time series with all the rows from the original two time series:"
   ]
  },
  {
   "cell_type": "code",
   "execution_count": 38,
   "metadata": {},
   "outputs": [
    {
     "data": {
      "text/html": [
       "<i>TimeSeries length=10</i>\n",
       "<table id=\"table140008119405776\" class=\"table-striped table-bordered table-condensed\">\n",
       "<thead><tr><th>time</th><th>flux</th></tr></thead>\n",
       "<thead><tr><th></th><th>mJy</th></tr></thead>\n",
       "<thead><tr><th>object</th><th>float64</th></tr></thead>\n",
       "<tr><td>2016-03-22T12:30:31.000</td><td>1.0</td></tr>\n",
       "<tr><td>2016-03-22T12:30:34.000</td><td>4.0</td></tr>\n",
       "<tr><td>2016-03-22T12:30:37.000</td><td>5.0</td></tr>\n",
       "<tr><td>2016-03-22T12:30:40.000</td><td>3.0</td></tr>\n",
       "<tr><td>2016-03-22T12:30:43.000</td><td>2.0</td></tr>\n",
       "<tr><td>2016-03-22T12:50:31.000</td><td>4.0</td></tr>\n",
       "<tr><td>2016-03-22T12:50:34.000</td><td>3.0</td></tr>\n",
       "<tr><td>2016-03-22T12:50:37.000</td><td>1.0</td></tr>\n",
       "<tr><td>2016-03-22T12:50:40.000</td><td>2.0</td></tr>\n",
       "<tr><td>2016-03-22T12:50:43.000</td><td>3.0</td></tr>\n",
       "</table>"
      ],
      "text/plain": [
       "<TimeSeries length=10>\n",
       "          time            flux \n",
       "                          mJy  \n",
       "         object         float64\n",
       "----------------------- -------\n",
       "2016-03-22T12:30:31.000     1.0\n",
       "2016-03-22T12:30:34.000     4.0\n",
       "2016-03-22T12:30:37.000     5.0\n",
       "2016-03-22T12:30:40.000     3.0\n",
       "2016-03-22T12:30:43.000     2.0\n",
       "2016-03-22T12:50:31.000     4.0\n",
       "2016-03-22T12:50:34.000     3.0\n",
       "2016-03-22T12:50:37.000     1.0\n",
       "2016-03-22T12:50:40.000     2.0\n",
       "2016-03-22T12:50:43.000     3.0"
      ]
     },
     "execution_count": 38,
     "metadata": {},
     "output_type": "execute_result"
    }
   ],
   "source": [
    "tsv = vstack([ts_a, ts_b])\n",
    "tsv"
   ]
  },
  {
   "cell_type": "code",
   "execution_count": null,
   "metadata": {},
   "outputs": [],
   "source": []
  },
  {
   "cell_type": "markdown",
   "metadata": {},
   "source": [
    "## Sorting\n",
    "\n",
    "Since TimeSeries objects are just tables behind the hood, you can also sort them as you would a table:"
   ]
  },
  {
   "cell_type": "code",
   "execution_count": 42,
   "metadata": {},
   "outputs": [
    {
     "data": {
      "text/html": [
       "<i>TimeSeries length=10</i>\n",
       "<table id=\"table140008119405776\" class=\"table-striped table-bordered table-condensed\">\n",
       "<thead><tr><th>time</th><th>flux</th></tr></thead>\n",
       "<thead><tr><th></th><th>mJy</th></tr></thead>\n",
       "<thead><tr><th>object</th><th>float64</th></tr></thead>\n",
       "<tr><td>2016-03-22T12:30:31.000</td><td>1.0</td></tr>\n",
       "<tr><td>2016-03-22T12:50:37.000</td><td>1.0</td></tr>\n",
       "<tr><td>2016-03-22T12:30:43.000</td><td>2.0</td></tr>\n",
       "<tr><td>2016-03-22T12:50:40.000</td><td>2.0</td></tr>\n",
       "<tr><td>2016-03-22T12:30:40.000</td><td>3.0</td></tr>\n",
       "<tr><td>2016-03-22T12:50:34.000</td><td>3.0</td></tr>\n",
       "<tr><td>2016-03-22T12:50:43.000</td><td>3.0</td></tr>\n",
       "<tr><td>2016-03-22T12:30:34.000</td><td>4.0</td></tr>\n",
       "<tr><td>2016-03-22T12:50:31.000</td><td>4.0</td></tr>\n",
       "<tr><td>2016-03-22T12:30:37.000</td><td>5.0</td></tr>\n",
       "</table>"
      ],
      "text/plain": [
       "<TimeSeries length=10>\n",
       "          time            flux \n",
       "                          mJy  \n",
       "         object         float64\n",
       "----------------------- -------\n",
       "2016-03-22T12:30:31.000     1.0\n",
       "2016-03-22T12:50:37.000     1.0\n",
       "2016-03-22T12:30:43.000     2.0\n",
       "2016-03-22T12:50:40.000     2.0\n",
       "2016-03-22T12:30:40.000     3.0\n",
       "2016-03-22T12:50:34.000     3.0\n",
       "2016-03-22T12:50:43.000     3.0\n",
       "2016-03-22T12:30:34.000     4.0\n",
       "2016-03-22T12:50:31.000     4.0\n",
       "2016-03-22T12:30:37.000     5.0"
      ]
     },
     "execution_count": 42,
     "metadata": {},
     "output_type": "execute_result"
    }
   ],
   "source": [
    "tsv.sort(\"flux\")\n",
    "tsv"
   ]
  },
  {
   "cell_type": "markdown",
   "metadata": {},
   "source": [
    "## Folding\n",
    "\n",
    "A common operation with time series is 'folding' by assuming a given period. Let's start off with a synthetic dataset:"
   ]
  },
  {
   "cell_type": "code",
   "execution_count": 46,
   "metadata": {},
   "outputs": [],
   "source": [
    "ts_synth = TimeSeries(time_start='2019-01-01T00:00:00',\n",
    "                      time_delta=np.random.uniform(0, 10, 1000) * u.min)\n",
    "ts_synth['flux'] = np.cos(2 * np.pi * (ts_synth.time.mjd / 0.49822))\n",
    "ts_synth['flux'] += np.random.normal(0, 0.2, 1000)"
   ]
  },
  {
   "cell_type": "code",
   "execution_count": 47,
   "metadata": {},
   "outputs": [
    {
     "data": {
      "text/plain": [
       "[<matplotlib.lines.Line2D at 0x7f562d257460>]"
      ]
     },
     "execution_count": 47,
     "metadata": {},
     "output_type": "execute_result"
    },
    {
     "data": {
      "image/png": "[encoded data removed]",
      "text/plain": [
       "<Figure size 720x432 with 1 Axes>"
      ]
     },
     "metadata": {
      "needs_background": "light"
     },
     "output_type": "display_data"
    }
   ],
   "source": [
    "plt.plot(ts_synth.time.mjd, ts_synth['flux'], 'o')"
   ]
  },
  {
   "cell_type": "markdown",
   "metadata": {},
   "source": [
    "Folding is done with the [TimeSeries.fold](http://docs.astropy.org/en/stable/api/astropy.timeseries.TimeSeries.html#astropy.timeseries.TimeSeries.fold) method:"
   ]
  },
  {
   "cell_type": "code",
   "execution_count": 49,
   "metadata": {},
   "outputs": [
    {
     "data": {
      "text/html": [
       "<i>TimeSeries length=1000</i>\n",
       "<table id=\"table140008100925056\" class=\"table-striped table-bordered table-condensed\">\n",
       "<thead><tr><th>time</th><th>flux</th></tr></thead>\n",
       "<thead><tr><th>object</th><th>float64</th></tr></thead>\n",
       "<tr><td>0.0</td><td>0.9714066749720852</td></tr>\n",
       "<tr><td>0.004555756122930503</td><td>0.5850973753254061</td></tr>\n",
       "<tr><td>0.006229251124332222</td><td>0.5955768298258403</td></tr>\n",
       "<tr><td>0.01041977602096983</td><td>1.1064915960343336</td></tr>\n",
       "<tr><td>0.01725856407971799</td><td>1.35224833531292</td></tr>\n",
       "<tr><td>0.020748165062049743</td><td>1.0149820714422335</td></tr>\n",
       "<tr><td>0.02739202492812448</td><td>1.0956065211191297</td></tr>\n",
       "<tr><td>0.03243343628159622</td><td>0.742331837001651</td></tr>\n",
       "<tr><td>0.037730927510272065</td><td>1.034923236446002</td></tr>\n",
       "<tr><td>0.03839745106416836</td><td>0.8912274838115185</td></tr>\n",
       "<tr><td>...</td><td>...</td></tr>\n",
       "<tr><td>-0.07516998362801898</td><td>-0.002915269401469224</td></tr>\n",
       "<tr><td>-0.07458530236069397</td><td>-0.2355296753551052</td></tr>\n",
       "<tr><td>-0.0715249925082092</td><td>0.165812726048034</td></tr>\n",
       "<tr><td>-0.06633012482097633</td><td>-0.04567298774841469</td></tr>\n",
       "<tr><td>-0.06059702670930459</td><td>0.3744543251989546</td></tr>\n",
       "<tr><td>-0.05946964163522681</td><td>0.04436512895025095</td></tr>\n",
       "<tr><td>-0.053516126804733326</td><td>0.45594079692768263</td></tr>\n",
       "<tr><td>-0.053193112409492184</td><td>0.33828176264045473</td></tr>\n",
       "<tr><td>-0.04855638747242151</td><td>0.4065506867485922</td></tr>\n",
       "<tr><td>-0.04485276300475385</td><td>0.04999042046291702</td></tr>\n",
       "</table>"
      ],
      "text/plain": [
       "<TimeSeries length=1000>\n",
       "         time                  flux        \n",
       "        object               float64       \n",
       "--------------------- ---------------------\n",
       "                  0.0    0.9714066749720852\n",
       " 0.004555756122930503    0.5850973753254061\n",
       " 0.006229251124332222    0.5955768298258403\n",
       "  0.01041977602096983    1.1064915960343336\n",
       "  0.01725856407971799      1.35224833531292\n",
       " 0.020748165062049743    1.0149820714422335\n",
       "  0.02739202492812448    1.0956065211191297\n",
       "  0.03243343628159622     0.742331837001651\n",
       " 0.037730927510272065     1.034923236446002\n",
       "  0.03839745106416836    0.8912274838115185\n",
       "                  ...                   ...\n",
       " -0.07516998362801898 -0.002915269401469224\n",
       " -0.07458530236069397   -0.2355296753551052\n",
       "  -0.0715249925082092     0.165812726048034\n",
       " -0.06633012482097633  -0.04567298774841469\n",
       " -0.06059702670930459    0.3744543251989546\n",
       " -0.05946964163522681   0.04436512895025095\n",
       "-0.053516126804733326   0.45594079692768263\n",
       "-0.053193112409492184   0.33828176264045473\n",
       " -0.04855638747242151    0.4065506867485922\n",
       " -0.04485276300475385   0.04999042046291702"
      ]
     },
     "execution_count": 49,
     "metadata": {},
     "output_type": "execute_result"
    }
   ],
   "source": [
    "folded = ts_synth.fold(period=0.49822*u.day)\n",
    "folded"
   ]
  },
  {
   "cell_type": "code",
   "execution_count": 50,
   "metadata": {},
   "outputs": [
    {
     "data": {
      "text/plain": [
       "array([0.        , 0.00455576, 0.00622925, 0.01041978, 0.01725856,\n",
       "       0.02074817, 0.02739202, 0.03243344, 0.03773093, 0.03839745])"
      ]
     },
     "execution_count": 50,
     "metadata": {},
     "output_type": "execute_result"
    }
   ],
   "source": [
    "folded.time.to(u.day).value[:10]"
   ]
  },
  {
   "cell_type": "code",
   "execution_count": 51,
   "metadata": {},
   "outputs": [
    {
     "data": {
      "text/plain": [
       "[<matplotlib.lines.Line2D at 0x7f562d13b850>]"
      ]
     },
     "execution_count": 51,
     "metadata": {},
     "output_type": "execute_result"
    },
    {
     "data": {
      "image/png": "[encoded data removed]",
      "text/plain": [
       "<Figure size 720x432 with 1 Axes>"
      ]
     },
     "metadata": {
      "needs_background": "light"
     },
     "output_type": "display_data"
    }
   ],
   "source": [
    "plt.plot(folded.time.to(u.day).value, ts_synth[\"flux\"], \"o\")"
   ]
  },
  {
   "cell_type": "markdown",
   "metadata": {},
   "source": [
    "## Periodogram analysis\n",
    "\n",
    "In the above example it was clear what period to use since we generated the data, but how would we find the period in the first place if it wasn't known? The astropy.timeseries sub-package includes several algorithms for periodogram analysis, the most general one being the Lomb-Scargle algorithm ([Lomb 1976](http://adsabs.harvard.edu/abs/1976Ap%26SS..39..447L), [Scargle 1982](http://adsabs.harvard.edu/abs/1982ApJ...263..835S)). To use this, first create an instance of the [LombScargle](http://docs.astropy.org/en/stable/api/astropy.timeseries.LombScargle.html#astropy.timeseries.LombScargle) class:"
   ]
  },
  {
   "cell_type": "code",
   "execution_count": 52,
   "metadata": {},
   "outputs": [],
   "source": [
    "from astropy.timeseries import LombScargle"
   ]
  },
  {
   "cell_type": "code",
   "execution_count": 53,
   "metadata": {},
   "outputs": [],
   "source": [
    "ls = LombScargle.from_timeseries(ts_synth, \"flux\")"
   ]
  },
  {
   "cell_type": "markdown",
   "metadata": {},
   "source": [
    "To run the periodogram analysis, the easiest way is to call the [autopower](http://docs.astropy.org/en/stable/api/astropy.timeseries.LombScargle.html#astropy.timeseries.LombScargle.autopower) method:"
   ]
  },
  {
   "cell_type": "code",
   "execution_count": 54,
   "metadata": {},
   "outputs": [],
   "source": [
    "frequency, power = ls.autopower()"
   ]
  },
  {
   "cell_type": "code",
   "execution_count": 55,
   "metadata": {},
   "outputs": [
    {
     "data": {
      "text/latex": [
       "$[0.029047077,~0.08714123,~0.14523538,~\\dots,~726.08977,~726.14787,~726.20596] \\; \\mathrm{\\frac{1}{d}}$"
      ],
      "text/plain": [
       "<Quantity [2.90470766e-02, 8.71412299e-02, 1.45235383e-01, ...,\n",
       "           7.26089775e+02, 7.26147869e+02, 7.26205963e+02] 1 / d>"
      ]
     },
     "execution_count": 55,
     "metadata": {},
     "output_type": "execute_result"
    }
   ],
   "source": [
    "frequency"
   ]
  },
  {
   "cell_type": "code",
   "execution_count": 56,
   "metadata": {},
   "outputs": [
    {
     "data": {
      "text/latex": [
       "$[0.003879786,~0.0032665511,~0.0021117165,~\\dots,~0.0023313548,~0.0035135085,~0.004675875] \\; \\mathrm{}$"
      ],
      "text/plain": [
       "<Quantity [0.00387979, 0.00326655, 0.00211172, ..., 0.00233135, 0.00351351,\n",
       "           0.00467587]>"
      ]
     },
     "execution_count": 56,
     "metadata": {},
     "output_type": "execute_result"
    }
   ],
   "source": [
    "power"
   ]
  },
  {
   "cell_type": "code",
   "execution_count": 57,
   "metadata": {},
   "outputs": [
    {
     "data": {
      "text/plain": [
       "[<matplotlib.lines.Line2D at 0x7f562d11afa0>]"
      ]
     },
     "execution_count": 57,
     "metadata": {},
     "output_type": "execute_result"
    },
    {
     "data": {
      "image/png": "[encoded data removed]",
      "text/plain": [
       "<Figure size 720x432 with 1 Axes>"
      ]
     },
     "metadata": {
      "needs_background": "light"
     },
     "output_type": "display_data"
    }
   ],
   "source": [
    "plt.plot(frequency, power)"
   ]
  },
  {
   "cell_type": "markdown",
   "metadata": {},
   "source": [
    "We can zoom in on the low frequency peak by doing:"
   ]
  },
  {
   "cell_type": "code",
   "execution_count": 58,
   "metadata": {},
   "outputs": [
    {
     "data": {
      "text/plain": [
       "[<matplotlib.lines.Line2D at 0x7f562bbbd700>]"
      ]
     },
     "execution_count": 58,
     "metadata": {},
     "output_type": "execute_result"
    },
    {
     "data": {
      "image/png": "[encoded data removed]",
      "text/plain": [
       "<Figure size 720x432 with 1 Axes>"
      ]
     },
     "metadata": {
      "needs_background": "light"
     },
     "output_type": "display_data"
    }
   ],
   "source": [
    "frequency, power = ls.autopower(minimum_frequency=0.01/u.day, maximum_frequency=10/u.day)\n",
    "plt.plot(frequency, power)"
   ]
  },
  {
   "cell_type": "markdown",
   "metadata": {},
   "source": [
    "The peak is located at:"
   ]
  },
  {
   "cell_type": "code",
   "execution_count": 59,
   "metadata": {},
   "outputs": [
    {
     "data": {
      "text/latex": [
       "$1.9852012 \\; \\mathrm{\\frac{1}{d}}$"
      ],
      "text/plain": [
       "<Quantity 1.98520121 1 / d>"
      ]
     },
     "execution_count": 59,
     "metadata": {},
     "output_type": "execute_result"
    }
   ],
   "source": [
    "peak = np.argmax(power)\n",
    "frequency[peak]"
   ]
  },
  {
   "cell_type": "code",
   "execution_count": 60,
   "metadata": {},
   "outputs": [
    {
     "data": {
      "text/latex": [
       "$0.50372728 \\; \\mathrm{d}$"
      ],
      "text/plain": [
       "<Quantity 0.50372728 d>"
      ]
     },
     "execution_count": 60,
     "metadata": {},
     "output_type": "execute_result"
    }
   ],
   "source": [
    "1/frequency[peak]"
   ]
  },
  {
   "cell_type": "markdown",
   "metadata": {},
   "source": [
    "## Reading in data\n",
    "\n",
    "Reading in time series can be done via the [TimeSeries.read](http://docs.astropy.org/en/stable/api/astropy.timeseries.TimeSeries.html#astropy.timeseries.TimeSeries.read) method. This accepts all the formats supported by the Table class, and requires that you specify the name of the time column, and optionally the format and scale for the time. We will take a look at this by reading a CSV file that looks like:\n",
    "\n",
    "    Date,A,B,C,D,E,F,G\n",
    "    2008-03-18,24.68,164.93,114.73,26.27,19.21,28.87,63.44\n",
    "    2008-03-19,24.18,164.89,114.75,26.22,19.07,27.76,59.98\n",
    "    ...\n",
    "    \n",
    "To read this file, you can do:"
   ]
  },
  {
   "cell_type": "code",
   "execution_count": 61,
   "metadata": {},
   "outputs": [
    {
     "data": {
      "text/html": [
       "<i>TimeSeries length=11</i>\n",
       "<table id=\"table140008077723008\" class=\"table-striped table-bordered table-condensed\">\n",
       "<thead><tr><th>time</th><th>A</th><th>B</th><th>C</th><th>D</th><th>E</th><th>F</th><th>G</th></tr></thead>\n",
       "<thead><tr><th>object</th><th>float64</th><th>float64</th><th>float64</th><th>float64</th><th>float64</th><th>float64</th><th>float64</th></tr></thead>\n",
       "<tr><td>2008-03-18 00:00:00.000</td><td>24.68</td><td>164.93</td><td>114.73</td><td>26.27</td><td>19.21</td><td>28.87</td><td>63.44</td></tr>\n",
       "<tr><td>2008-03-19 00:00:00.000</td><td>24.18</td><td>164.89</td><td>114.75</td><td>26.22</td><td>19.07</td><td>27.76</td><td>59.98</td></tr>\n",
       "<tr><td>2008-03-20 00:00:00.000</td><td>23.99</td><td>164.63</td><td>115.04</td><td>25.78</td><td>19.01</td><td>27.04</td><td>59.61</td></tr>\n",
       "<tr><td>2008-03-25 00:00:00.000</td><td>24.14</td><td>163.92</td><td>114.85</td><td>27.41</td><td>19.61</td><td>27.84</td><td>59.41</td></tr>\n",
       "<tr><td>2008-03-26 00:00:00.000</td><td>24.44</td><td>163.45</td><td>114.84</td><td>26.86</td><td>19.53</td><td>28.02</td><td>60.09</td></tr>\n",
       "<tr><td>2008-03-27 00:00:00.000</td><td>24.38</td><td>163.46</td><td>115.4</td><td>27.09</td><td>19.72</td><td>28.25</td><td>59.62</td></tr>\n",
       "<tr><td>2008-03-28 00:00:00.000</td><td>24.32</td><td>163.22</td><td>115.56</td><td>27.13</td><td>19.63</td><td>28.24</td><td>58.65</td></tr>\n",
       "<tr><td>2008-03-31 00:00:00.000</td><td>24.19</td><td>164.02</td><td>115.54</td><td>26.74</td><td>19.55</td><td>28.43</td><td>59.2</td></tr>\n",
       "<tr><td>2008-04-01 00:00:00.000</td><td>23.81</td><td>163.59</td><td>115.72</td><td>27.82</td><td>20.21</td><td>29.17</td><td>56.18</td></tr>\n",
       "<tr><td>2008-04-02 00:00:00.000</td><td>24.03</td><td>163.32</td><td>115.11</td><td>28.22</td><td>20.42</td><td>29.38</td><td>56.64</td></tr>\n",
       "<tr><td>2008-04-03 00:00:00.000</td><td>24.34</td><td>163.34</td><td>115.17</td><td>28.14</td><td>20.36</td><td>29.51</td><td>57.49</td></tr>\n",
       "</table>"
      ],
      "text/plain": [
       "<TimeSeries length=11>\n",
       "          time             A       B       C       D       E       F       G   \n",
       "         object         float64 float64 float64 float64 float64 float64 float64\n",
       "----------------------- ------- ------- ------- ------- ------- ------- -------\n",
       "2008-03-18 00:00:00.000   24.68  164.93  114.73   26.27   19.21   28.87   63.44\n",
       "2008-03-19 00:00:00.000   24.18  164.89  114.75   26.22   19.07   27.76   59.98\n",
       "2008-03-20 00:00:00.000   23.99  164.63  115.04   25.78   19.01   27.04   59.61\n",
       "2008-03-25 00:00:00.000   24.14  163.92  114.85   27.41   19.61   27.84   59.41\n",
       "2008-03-26 00:00:00.000   24.44  163.45  114.84   26.86   19.53   28.02   60.09\n",
       "2008-03-27 00:00:00.000   24.38  163.46   115.4   27.09   19.72   28.25   59.62\n",
       "2008-03-28 00:00:00.000   24.32  163.22  115.56   27.13   19.63   28.24   58.65\n",
       "2008-03-31 00:00:00.000   24.19  164.02  115.54   26.74   19.55   28.43    59.2\n",
       "2008-04-01 00:00:00.000   23.81  163.59  115.72   27.82   20.21   29.17   56.18\n",
       "2008-04-02 00:00:00.000   24.03  163.32  115.11   28.22   20.42   29.38   56.64\n",
       "2008-04-03 00:00:00.000   24.34  163.34  115.17   28.14   20.36   29.51   57.49"
      ]
     },
     "execution_count": 61,
     "metadata": {},
     "output_type": "execute_result"
    }
   ],
   "source": [
    "ts_file = TimeSeries.read(\"data/sampled.csv\", format=\"ascii.csv\", time_column=\"Date\")\n",
    "ts_file"
   ]
  },
  {
   "cell_type": "markdown",
   "metadata": {},
   "source": [
    "For some well defined formats (e.g. Kepler/TESS time series files), it is enough to specify the filename."
   ]
  },
  {
   "cell_type": "markdown",
   "metadata": {},
   "source": [
    "\n",
    "<section class=\"challenge panel panel-success\">\n",
    "<div class=\"panel-heading\">\n",
    "<h2><span class=\"fa fa-pencil\"></span> The Nobel Challenge (Part 1)</h2>\n",
    "</div>\n",
    "\n",
    "\n",
    "<div class=\"panel-body\">\n",
    "\n",
    "<p>This challenge is a little longer than previous ones, and it brings together several tutorials. The aim here is to start from a realistic dataset which consists of radial velocities of <a href=\"https://en.wikipedia.org/wiki/51_Pegasi\">51 Peg</a> and go all the way through to finding a probability distribution for the companion mass. The starting point is a FITS binary table from <a href=\"http://vizier.u-strasbg.fr/viz-bin/VizieR?-source=J/AJ/153/138\">Birkby+ 2017 on Vizier</a>. The file can be found at <a href=\"data/birkby2017.fits\">data/birkby2017.fits</a>.</p>\n",
    "<ol>\n",
    "<li>Start off by reading in the data into a TimeSeries object using TimeSeries.read as shown above. Since this table is not in a standard time series format, you will need to specify the name of the time column, and you will also need to specify the time format with <code>time_format</code>. See the <a href=\"http://vizier.u-strasbg.fr/viz-bin/VizieR?-source=J/AJ/153/138\">Vizier page</a> for more details about the available columns, and the documentation for <a href=\"http://docs.astropy.org/en/stable/api/astropy.timeseries.TimeSeries.html#astropy.timeseries.TimeSeries.read\">TimeSeries.read</a> for details about the options to provide. If you want to be extra careful you can also try setting the time scale to the appropriate one based on what you can find on the Vizier page.</li>\n",
    "<li>Make a plot of the time series. You'll probably notice that strangely the velocities seem to cluster around two main values, and this doesn't look very much like what you would expect. Read Note 2 on the <a href=\"http://vizier.u-strasbg.fr/viz-bin/VizieR?-source=J/AJ/153/138\">Vizier page</a> to find out what might be going on!</li>\n",
    "<li>Modify the table so that all the velocities are on the same zero point, using standard table operations. Note that you will need to be careful here because the <code>Set</code> column which identifies each dataset/instrument is <em>always</em> 6 characters long and includes trailing spaces (i.e. <code>''HIRES '</code> not <code>'HIRES'</code>). Make a plot of the updated velocities to make sure things look more sensible.</li>\n",
    "<li>Run a Lomb-Scargle periodogram analysis of the radial velocities to find whether the data has any periodicity. Note that you will probably have to zoom in a bit on the most promising peak to get a more accurate period.</li>\n",
    "<li>Fold the time series using the period you found in the previous step, and plot the resulting radial velocity curve. If you got the right period, the resulting curve should look much simpler!</li>\n",
    "</ol>\n",
    "\n",
    "</div>\n",
    "\n",
    "</section>\n"
   ]
  },
  {
   "cell_type": "code",
   "execution_count": null,
   "metadata": {},
   "outputs": [],
   "source": []
  },
  {
   "cell_type": "code",
   "execution_count": null,
   "metadata": {},
   "outputs": [],
   "source": []
  },
  {
   "cell_type": "code",
   "execution_count": null,
   "metadata": {},
   "outputs": [],
   "source": []
  },
  {
   "cell_type": "code",
   "execution_count": null,
   "metadata": {},
   "outputs": [],
   "source": []
  },
  {
   "cell_type": "code",
   "execution_count": null,
   "metadata": {},
   "outputs": [],
   "source": []
  },
  {
   "cell_type": "markdown",
   "metadata": {},
   "source": [
    "\n",
    "<section class=\"challenge panel panel-success\">\n",
    "<div class=\"panel-heading\">\n",
    "<h2><span class=\"fa fa-pencil\"></span> The Nobel Challenge (Part 2)</h2>\n",
    "</div>\n",
    "\n",
    "\n",
    "<div class=\"panel-body\">\n",
    "\n",
    "<ol>\n",
    "<li>Now use what we learned in the modeling tutorial to fit a sinusoid to the folded radial velocity curve, plot the fit, and determine the amplitude of the velocity. Note that you may need to adjust the initial parameters of the model (in particular the frequency) to get a good fit.</li>\n",
    "<li>(optional) Try and extract the error in the amplitude from <code>fitter.fit_info</code>. The <code>param_cov</code> key gives the covariance matrix, and the parameters are in the order given by the <code>param_names</code> attribute on the model. Note also that this will not have units attached, but the units will be the same as the parameters. You can also skip this step and assume an error in the amplitude of 0.5 m/s if you prefer.</li>\n",
    "</ol>\n",
    "<p>The challenge will continue in the next tutorial!</p>\n",
    "\n",
    "</div>\n",
    "\n",
    "</section>\n"
   ]
  },
  {
   "cell_type": "code",
   "execution_count": null,
   "metadata": {},
   "outputs": [],
   "source": []
  },
  {
   "cell_type": "code",
   "execution_count": null,
   "metadata": {},
   "outputs": [],
   "source": []
  },
  {
   "cell_type": "markdown",
   "metadata": {},
   "source": [
    "<center><i>This notebook was written by <a href=\"https://aperiosoftware.com/\">Aperio Software Ltd.</a> &copy; 2019, and is licensed under a <a href=\"https://creativecommons.org/licenses/by/4.0/\">Creative Commons Attribution 4.0 International License (CC BY 4.0)</a></i></center>\n",
    "\n",
    "![cc](https://mirrors.creativecommons.org/presskit/buttons/88x31/svg/by.svg)"
   ]
  }
 ],
 "metadata": {
  "kernelspec": {
   "display_name": "Python 3",
   "language": "python",
   "name": "python3"
  },
  "language_info": {
   "codemirror_mode": {
    "name": "ipython",
    "version": 3
   },
   "file_extension": ".py",
   "mimetype": "text/x-python",
   "name": "python",
   "nbconvert_exporter": "python",
   "pygments_lexer": "ipython3",
   "version": "3.8.5"
  }
 },
 "nbformat": 4,
 "nbformat_minor": 1
}
